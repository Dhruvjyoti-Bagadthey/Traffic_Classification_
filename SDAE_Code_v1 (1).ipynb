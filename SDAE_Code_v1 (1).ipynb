{
 "cells": [
  {
   "cell_type": "markdown",
   "metadata": {},
   "source": [
    "# 1.Preprocessing"
   ]
  },
  {
   "cell_type": "code",
   "execution_count": 1,
   "metadata": {},
   "outputs": [],
   "source": [
    "import pandas as pd\n",
    "import numpy as np\n",
    "import matplotlib.pyplot as plt"
   ]
  },
  {
   "cell_type": "code",
   "execution_count": 2,
   "metadata": {},
   "outputs": [],
   "source": [
    "from sklearn.model_selection import train_test_split"
   ]
  },
  {
   "cell_type": "code",
   "execution_count": 3,
   "metadata": {},
   "outputs": [],
   "source": [
    "#df=pd.read_csv('./Data/data_9_5day.csv')\n",
    "XL=pd.read_csv('9_510_L_resample.csv')\n",
    "XU_train=pd.read_csv('9_510_U_resample.csv')# No resampling done in the unlabeled set, It just denotes the pair of L and U"
   ]
  },
  {
   "cell_type": "code",
   "execution_count": 4,
   "metadata": {},
   "outputs": [
    {
     "data": {
      "text/html": [
       "<div>\n",
       "<style scoped>\n",
       "    .dataframe tbody tr th:only-of-type {\n",
       "        vertical-align: middle;\n",
       "    }\n",
       "\n",
       "    .dataframe tbody tr th {\n",
       "        vertical-align: top;\n",
       "    }\n",
       "\n",
       "    .dataframe thead th {\n",
       "        text-align: right;\n",
       "    }\n",
       "</style>\n",
       "<table border=\"1\" class=\"dataframe\">\n",
       "  <thead>\n",
       "    <tr style=\"text-align: right;\">\n",
       "      <th></th>\n",
       "      <th>Source.IP</th>\n",
       "      <th>Source.Port</th>\n",
       "      <th>Destination.IP</th>\n",
       "      <th>Destination.Port</th>\n",
       "      <th>Protocol</th>\n",
       "      <th>Timestamp</th>\n",
       "      <th>Flow.Duration</th>\n",
       "      <th>Total.Fwd.Packets</th>\n",
       "      <th>Total.Backward.Packets</th>\n",
       "      <th>Fwd.Packet.Length.Max</th>\n",
       "      <th>...</th>\n",
       "      <th>act_data_pkt_fwd</th>\n",
       "      <th>min_seg_size_forward</th>\n",
       "      <th>Active.Mean</th>\n",
       "      <th>Active.Std</th>\n",
       "      <th>Active.Max</th>\n",
       "      <th>Active.Min</th>\n",
       "      <th>Idle.Mean</th>\n",
       "      <th>Idle.Std</th>\n",
       "      <th>Idle.Max</th>\n",
       "      <th>Idle.Min</th>\n",
       "    </tr>\n",
       "  </thead>\n",
       "  <tbody>\n",
       "    <tr>\n",
       "      <th>0</th>\n",
       "      <td>180881161</td>\n",
       "      <td>3128</td>\n",
       "      <td>3232243823</td>\n",
       "      <td>51203</td>\n",
       "      <td>6</td>\n",
       "      <td>1.494314e+09</td>\n",
       "      <td>106</td>\n",
       "      <td>2</td>\n",
       "      <td>0</td>\n",
       "      <td>55</td>\n",
       "      <td>...</td>\n",
       "      <td>1</td>\n",
       "      <td>20</td>\n",
       "      <td>0.0</td>\n",
       "      <td>0.0</td>\n",
       "      <td>0.0</td>\n",
       "      <td>0.0</td>\n",
       "      <td>0.0</td>\n",
       "      <td>0.0</td>\n",
       "      <td>0.0</td>\n",
       "      <td>0.0</td>\n",
       "    </tr>\n",
       "    <tr>\n",
       "      <th>1</th>\n",
       "      <td>3193625889</td>\n",
       "      <td>80</td>\n",
       "      <td>180881369</td>\n",
       "      <td>52177</td>\n",
       "      <td>6</td>\n",
       "      <td>1.494322e+09</td>\n",
       "      <td>483</td>\n",
       "      <td>1</td>\n",
       "      <td>2</td>\n",
       "      <td>0</td>\n",
       "      <td>...</td>\n",
       "      <td>0</td>\n",
       "      <td>32</td>\n",
       "      <td>0.0</td>\n",
       "      <td>0.0</td>\n",
       "      <td>0.0</td>\n",
       "      <td>0.0</td>\n",
       "      <td>0.0</td>\n",
       "      <td>0.0</td>\n",
       "      <td>0.0</td>\n",
       "      <td>0.0</td>\n",
       "    </tr>\n",
       "    <tr>\n",
       "      <th>2</th>\n",
       "      <td>3232246019</td>\n",
       "      <td>55151</td>\n",
       "      <td>180881158</td>\n",
       "      <td>3128</td>\n",
       "      <td>6</td>\n",
       "      <td>1.494314e+09</td>\n",
       "      <td>22692370</td>\n",
       "      <td>5</td>\n",
       "      <td>3</td>\n",
       "      <td>739</td>\n",
       "      <td>...</td>\n",
       "      <td>4</td>\n",
       "      <td>20</td>\n",
       "      <td>0.0</td>\n",
       "      <td>0.0</td>\n",
       "      <td>0.0</td>\n",
       "      <td>0.0</td>\n",
       "      <td>0.0</td>\n",
       "      <td>0.0</td>\n",
       "      <td>0.0</td>\n",
       "      <td>0.0</td>\n",
       "    </tr>\n",
       "    <tr>\n",
       "      <th>3</th>\n",
       "      <td>180881351</td>\n",
       "      <td>34795</td>\n",
       "      <td>3193625907</td>\n",
       "      <td>80</td>\n",
       "      <td>6</td>\n",
       "      <td>1.494314e+09</td>\n",
       "      <td>245206</td>\n",
       "      <td>3</td>\n",
       "      <td>6</td>\n",
       "      <td>3017</td>\n",
       "      <td>...</td>\n",
       "      <td>1</td>\n",
       "      <td>32</td>\n",
       "      <td>0.0</td>\n",
       "      <td>0.0</td>\n",
       "      <td>0.0</td>\n",
       "      <td>0.0</td>\n",
       "      <td>0.0</td>\n",
       "      <td>0.0</td>\n",
       "      <td>0.0</td>\n",
       "      <td>0.0</td>\n",
       "    </tr>\n",
       "    <tr>\n",
       "      <th>4</th>\n",
       "      <td>3232243719</td>\n",
       "      <td>51563</td>\n",
       "      <td>180881160</td>\n",
       "      <td>3128</td>\n",
       "      <td>6</td>\n",
       "      <td>1.494318e+09</td>\n",
       "      <td>10188</td>\n",
       "      <td>1</td>\n",
       "      <td>1</td>\n",
       "      <td>6</td>\n",
       "      <td>...</td>\n",
       "      <td>0</td>\n",
       "      <td>20</td>\n",
       "      <td>0.0</td>\n",
       "      <td>0.0</td>\n",
       "      <td>0.0</td>\n",
       "      <td>0.0</td>\n",
       "      <td>0.0</td>\n",
       "      <td>0.0</td>\n",
       "      <td>0.0</td>\n",
       "      <td>0.0</td>\n",
       "    </tr>\n",
       "  </tbody>\n",
       "</table>\n",
       "<p>5 rows × 75 columns</p>\n",
       "</div>"
      ],
      "text/plain": [
       "    Source.IP  Source.Port  Destination.IP  Destination.Port  Protocol  \\\n",
       "0   180881161         3128      3232243823             51203         6   \n",
       "1  3193625889           80       180881369             52177         6   \n",
       "2  3232246019        55151       180881158              3128         6   \n",
       "3   180881351        34795      3193625907                80         6   \n",
       "4  3232243719        51563       180881160              3128         6   \n",
       "\n",
       "      Timestamp  Flow.Duration  Total.Fwd.Packets  Total.Backward.Packets  \\\n",
       "0  1.494314e+09            106                  2                       0   \n",
       "1  1.494322e+09            483                  1                       2   \n",
       "2  1.494314e+09       22692370                  5                       3   \n",
       "3  1.494314e+09         245206                  3                       6   \n",
       "4  1.494318e+09          10188                  1                       1   \n",
       "\n",
       "   Fwd.Packet.Length.Max  ...  act_data_pkt_fwd  min_seg_size_forward  \\\n",
       "0                     55  ...                 1                    20   \n",
       "1                      0  ...                 0                    32   \n",
       "2                    739  ...                 4                    20   \n",
       "3                   3017  ...                 1                    32   \n",
       "4                      6  ...                 0                    20   \n",
       "\n",
       "   Active.Mean  Active.Std  Active.Max  Active.Min  Idle.Mean  Idle.Std  \\\n",
       "0          0.0         0.0         0.0         0.0        0.0       0.0   \n",
       "1          0.0         0.0         0.0         0.0        0.0       0.0   \n",
       "2          0.0         0.0         0.0         0.0        0.0       0.0   \n",
       "3          0.0         0.0         0.0         0.0        0.0       0.0   \n",
       "4          0.0         0.0         0.0         0.0        0.0       0.0   \n",
       "\n",
       "   Idle.Max  Idle.Min  \n",
       "0       0.0       0.0  \n",
       "1       0.0       0.0  \n",
       "2       0.0       0.0  \n",
       "3       0.0       0.0  \n",
       "4       0.0       0.0  \n",
       "\n",
       "[5 rows x 75 columns]"
      ]
     },
     "execution_count": 4,
     "metadata": {},
     "output_type": "execute_result"
    }
   ],
   "source": [
    "from sklearn.utils import shuffle\n",
    "#df = shuffle(df).reset_index(drop=True)\n",
    "XU_train.head()"
   ]
  },
  {
   "cell_type": "code",
   "execution_count": 5,
   "metadata": {},
   "outputs": [
    {
     "data": {
      "text/html": [
       "<div>\n",
       "<style scoped>\n",
       "    .dataframe tbody tr th:only-of-type {\n",
       "        vertical-align: middle;\n",
       "    }\n",
       "\n",
       "    .dataframe tbody tr th {\n",
       "        vertical-align: top;\n",
       "    }\n",
       "\n",
       "    .dataframe thead th {\n",
       "        text-align: right;\n",
       "    }\n",
       "</style>\n",
       "<table border=\"1\" class=\"dataframe\">\n",
       "  <thead>\n",
       "    <tr style=\"text-align: right;\">\n",
       "      <th></th>\n",
       "      <th>Source.IP</th>\n",
       "      <th>Source.Port</th>\n",
       "      <th>Destination.IP</th>\n",
       "      <th>Destination.Port</th>\n",
       "      <th>Protocol</th>\n",
       "      <th>Timestamp</th>\n",
       "      <th>Flow.Duration</th>\n",
       "      <th>Total.Fwd.Packets</th>\n",
       "      <th>Total.Backward.Packets</th>\n",
       "      <th>Fwd.Packet.Length.Max</th>\n",
       "      <th>...</th>\n",
       "      <th>min_seg_size_forward</th>\n",
       "      <th>Active.Mean</th>\n",
       "      <th>Active.Std</th>\n",
       "      <th>Active.Max</th>\n",
       "      <th>Active.Min</th>\n",
       "      <th>Idle.Mean</th>\n",
       "      <th>Idle.Std</th>\n",
       "      <th>Idle.Max</th>\n",
       "      <th>Idle.Min</th>\n",
       "      <th>ProtocolName</th>\n",
       "    </tr>\n",
       "  </thead>\n",
       "  <tbody>\n",
       "    <tr>\n",
       "      <th>0</th>\n",
       "      <td>180881370</td>\n",
       "      <td>51010</td>\n",
       "      <td>915964343</td>\n",
       "      <td>80</td>\n",
       "      <td>6</td>\n",
       "      <td>1.494319e+09</td>\n",
       "      <td>233</td>\n",
       "      <td>1</td>\n",
       "      <td>1</td>\n",
       "      <td>0</td>\n",
       "      <td>...</td>\n",
       "      <td>32</td>\n",
       "      <td>0.0</td>\n",
       "      <td>0.0</td>\n",
       "      <td>0.0</td>\n",
       "      <td>0.0</td>\n",
       "      <td>0.0</td>\n",
       "      <td>0.0</td>\n",
       "      <td>0.0</td>\n",
       "      <td>0.0</td>\n",
       "      <td>AMAZON</td>\n",
       "    </tr>\n",
       "    <tr>\n",
       "      <th>1</th>\n",
       "      <td>3232256328</td>\n",
       "      <td>57128</td>\n",
       "      <td>180881160</td>\n",
       "      <td>3128</td>\n",
       "      <td>6</td>\n",
       "      <td>1.494322e+09</td>\n",
       "      <td>1778</td>\n",
       "      <td>3</td>\n",
       "      <td>0</td>\n",
       "      <td>6</td>\n",
       "      <td>...</td>\n",
       "      <td>20</td>\n",
       "      <td>0.0</td>\n",
       "      <td>0.0</td>\n",
       "      <td>0.0</td>\n",
       "      <td>0.0</td>\n",
       "      <td>0.0</td>\n",
       "      <td>0.0</td>\n",
       "      <td>0.0</td>\n",
       "      <td>0.0</td>\n",
       "      <td>AMAZON</td>\n",
       "    </tr>\n",
       "    <tr>\n",
       "      <th>2</th>\n",
       "      <td>180881370</td>\n",
       "      <td>41620</td>\n",
       "      <td>872483344</td>\n",
       "      <td>80</td>\n",
       "      <td>6</td>\n",
       "      <td>1.494318e+09</td>\n",
       "      <td>743839</td>\n",
       "      <td>11</td>\n",
       "      <td>8</td>\n",
       "      <td>284</td>\n",
       "      <td>...</td>\n",
       "      <td>32</td>\n",
       "      <td>0.0</td>\n",
       "      <td>0.0</td>\n",
       "      <td>0.0</td>\n",
       "      <td>0.0</td>\n",
       "      <td>0.0</td>\n",
       "      <td>0.0</td>\n",
       "      <td>0.0</td>\n",
       "      <td>0.0</td>\n",
       "      <td>AMAZON</td>\n",
       "    </tr>\n",
       "    <tr>\n",
       "      <th>3</th>\n",
       "      <td>180881346</td>\n",
       "      <td>42382</td>\n",
       "      <td>872820700</td>\n",
       "      <td>443</td>\n",
       "      <td>6</td>\n",
       "      <td>1.494322e+09</td>\n",
       "      <td>9683828</td>\n",
       "      <td>8</td>\n",
       "      <td>9</td>\n",
       "      <td>1471</td>\n",
       "      <td>...</td>\n",
       "      <td>32</td>\n",
       "      <td>0.0</td>\n",
       "      <td>0.0</td>\n",
       "      <td>0.0</td>\n",
       "      <td>0.0</td>\n",
       "      <td>0.0</td>\n",
       "      <td>0.0</td>\n",
       "      <td>0.0</td>\n",
       "      <td>0.0</td>\n",
       "      <td>AMAZON</td>\n",
       "    </tr>\n",
       "    <tr>\n",
       "      <th>4</th>\n",
       "      <td>180881370</td>\n",
       "      <td>47404</td>\n",
       "      <td>915964343</td>\n",
       "      <td>80</td>\n",
       "      <td>6</td>\n",
       "      <td>1.494318e+09</td>\n",
       "      <td>24</td>\n",
       "      <td>1</td>\n",
       "      <td>1</td>\n",
       "      <td>0</td>\n",
       "      <td>...</td>\n",
       "      <td>32</td>\n",
       "      <td>0.0</td>\n",
       "      <td>0.0</td>\n",
       "      <td>0.0</td>\n",
       "      <td>0.0</td>\n",
       "      <td>0.0</td>\n",
       "      <td>0.0</td>\n",
       "      <td>0.0</td>\n",
       "      <td>0.0</td>\n",
       "      <td>AMAZON</td>\n",
       "    </tr>\n",
       "  </tbody>\n",
       "</table>\n",
       "<p>5 rows × 76 columns</p>\n",
       "</div>"
      ],
      "text/plain": [
       "    Source.IP  Source.Port  Destination.IP  Destination.Port  Protocol  \\\n",
       "0   180881370        51010       915964343                80         6   \n",
       "1  3232256328        57128       180881160              3128         6   \n",
       "2   180881370        41620       872483344                80         6   \n",
       "3   180881346        42382       872820700               443         6   \n",
       "4   180881370        47404       915964343                80         6   \n",
       "\n",
       "      Timestamp  Flow.Duration  Total.Fwd.Packets  Total.Backward.Packets  \\\n",
       "0  1.494319e+09            233                  1                       1   \n",
       "1  1.494322e+09           1778                  3                       0   \n",
       "2  1.494318e+09         743839                 11                       8   \n",
       "3  1.494322e+09        9683828                  8                       9   \n",
       "4  1.494318e+09             24                  1                       1   \n",
       "\n",
       "   Fwd.Packet.Length.Max  ...  min_seg_size_forward  Active.Mean  Active.Std  \\\n",
       "0                      0  ...                    32          0.0         0.0   \n",
       "1                      6  ...                    20          0.0         0.0   \n",
       "2                    284  ...                    32          0.0         0.0   \n",
       "3                   1471  ...                    32          0.0         0.0   \n",
       "4                      0  ...                    32          0.0         0.0   \n",
       "\n",
       "   Active.Max  Active.Min  Idle.Mean  Idle.Std  Idle.Max  Idle.Min  \\\n",
       "0         0.0         0.0        0.0       0.0       0.0       0.0   \n",
       "1         0.0         0.0        0.0       0.0       0.0       0.0   \n",
       "2         0.0         0.0        0.0       0.0       0.0       0.0   \n",
       "3         0.0         0.0        0.0       0.0       0.0       0.0   \n",
       "4         0.0         0.0        0.0       0.0       0.0       0.0   \n",
       "\n",
       "   ProtocolName  \n",
       "0        AMAZON  \n",
       "1        AMAZON  \n",
       "2        AMAZON  \n",
       "3        AMAZON  \n",
       "4        AMAZON  \n",
       "\n",
       "[5 rows x 76 columns]"
      ]
     },
     "execution_count": 5,
     "metadata": {},
     "output_type": "execute_result"
    }
   ],
   "source": [
    "XL.head()"
   ]
  },
  {
   "cell_type": "code",
   "execution_count": 6,
   "metadata": {},
   "outputs": [
    {
     "name": "stderr",
     "output_type": "stream",
     "text": [
      "Using TensorFlow backend.\n"
     ]
    }
   ],
   "source": [
    "from imblearn.over_sampling import RandomOverSampler\n",
    "from imblearn.under_sampling import RandomUnderSampler "
   ]
  },
  {
   "cell_type": "code",
   "execution_count": 7,
   "metadata": {},
   "outputs": [],
   "source": [
    "a=XL.groupby('ProtocolName')['ProtocolName'].count().sort_values(ascending=False)\n"
   ]
  },
  {
   "cell_type": "code",
   "execution_count": 8,
   "metadata": {},
   "outputs": [
    {
     "data": {
      "text/plain": [
       "ProtocolName\n",
       "YOUTUBE           6000\n",
       "SSL               6000\n",
       "GOOGLE            6000\n",
       "HTTP              6000\n",
       "HTTP_CONNECT      6000\n",
       "HTTP_PROXY        6000\n",
       "AMAZON            6000\n",
       "TEAMVIEWER        5000\n",
       "WIKIPEDIA         5000\n",
       "GOOGLE_MAPS       5000\n",
       "WINDOWS_UPDATE    5000\n",
       "GMAIL             5000\n",
       "FTP_DATA          5000\n",
       "FACEBOOK          5000\n",
       "EBAY              5000\n",
       "EASYTAXI          5000\n",
       "DROPBOX           5000\n",
       "DNS               5000\n",
       "CONTENT_FLASH     5000\n",
       "CLOUDFLARE        5000\n",
       "CITRIX_ONLINE     5000\n",
       "APPLE_ITUNES      5000\n",
       "APPLE_ICLOUD      5000\n",
       "APPLE             5000\n",
       "H323              5000\n",
       "WHATSAPP          5000\n",
       "SSL_NO_CERT       5000\n",
       "HTTP_DOWNLOAD     5000\n",
       "TOR               5000\n",
       "SPOTIFY           5000\n",
       "SKYPE             5000\n",
       "OFFICE_365        5000\n",
       "NTP               5000\n",
       "NETFLIX           5000\n",
       "MS_ONE_DRIVE      5000\n",
       "MSSQL             5000\n",
       "MSN               5000\n",
       "MQTT              5000\n",
       "MICROSOFT         5000\n",
       "LASTFM            5000\n",
       "IP_ICMP           5000\n",
       "YAHOO             5000\n",
       "TWITTER           5000\n",
       "INSTAGRAM         5000\n",
       "Name: ProtocolName, dtype: int64"
      ]
     },
     "execution_count": 8,
     "metadata": {},
     "output_type": "execute_result"
    }
   ],
   "source": [
    "a   # see resampled instances"
   ]
  },
  {
   "cell_type": "code",
   "execution_count": 9,
   "metadata": {},
   "outputs": [],
   "source": [
    "'''\n",
    "Function mask_noise\n",
    "\n",
    "Input: numpy array , fraction_delete(between 0 and 1)\n",
    "\n",
    "Removes a fraction_delete fraction of the input array X randomly\n",
    "\n",
    "Output: numpy array after deletions\n",
    "\n",
    "'''\n",
    "def mask_noise(X,fraction_delete=0.2):\n",
    "    mask=np.random.rand(np.shape(X)[0],np.shape(X)[1])\n",
    "    mask=1*(mask>fraction_delete)\n",
    "    return mask*X"
   ]
  },
  {
   "cell_type": "code",
   "execution_count": 10,
   "metadata": {},
   "outputs": [],
   "source": [
    "'''\n",
    "Function Gaussian_noise\n",
    "\n",
    "Input: numpy array , sigma\n",
    "\n",
    "adds noise distributed normally with a stddev sigma \n",
    "\n",
    "Output: numpy array after adding noise\n",
    "\n",
    "'''\n",
    "def Gaussian_noise(X,sigma=0.5):\n",
    "    noise = np.random.normal(0,sigma,np.shape(X))\n",
    "    return noise+X"
   ]
  },
  {
   "cell_type": "code",
   "execution_count": 11,
   "metadata": {},
   "outputs": [],
   "source": [
    "from keras.layers import Input, Dense\n",
    "from keras.models import Model\n",
    "import keras.backend as K\n",
    "import tensorflow as tf"
   ]
  },
  {
   "cell_type": "code",
   "execution_count": 12,
   "metadata": {},
   "outputs": [],
   "source": [
    "'''\n",
    "Sparcity Autoencoder's Sparcity Activity Regularization\n",
    "\n",
    "'''\n",
    "def kl_divergence(rho, rho_hat):\n",
    "    return rho * tf.math.log(rho) - rho * tf.math.log(rho_hat+1e-12) + (1 - rho) * tf.math.log(1 - rho) - (1 - rho) * tf.math.log(1 - rho_hat+1e-12)\n",
    "\n",
    "class SparseActivityRegularizer(tf.keras.regularizers.Regularizer):\n",
    "\n",
    "    def __init__(self, p=0.1, sparsityBeta=3):\n",
    "        self.p = p\n",
    "        self.sparsityBeta = sparsityBeta\n",
    "\n",
    "    def __call__(self, x):\n",
    "        regularization = 0            \n",
    "\n",
    "        p_hat = K.mean(x, axis=0)\n",
    "        regularization += self.sparsityBeta * K.sum(kl_divergence(self.p, p_hat))\n",
    "\n",
    "        return regularization\n",
    "\n",
    "    def get_config(self):\n",
    "        return {\"name\": self.__class__.__name__} "
   ]
  },
  {
   "cell_type": "code",
   "execution_count": null,
   "metadata": {},
   "outputs": [],
   "source": []
  },
  {
   "cell_type": "code",
   "execution_count": 13,
   "metadata": {},
   "outputs": [],
   "source": [
    "from keras.layers import BatchNormalization\n",
    "from keras.optimizers import RMSprop\n",
    "from keras.optimizers import Adam\n",
    "from keras.optimizers import Adagrad\n",
    "from keras.optimizers import SGD\n",
    "from sklearn.preprocessing import LabelEncoder"
   ]
  },
  {
   "cell_type": "code",
   "execution_count": 14,
   "metadata": {},
   "outputs": [],
   "source": [
    "yL_train=XL.iloc[:,-1]\n",
    "XL_train=XL.iloc[:,:-1]"
   ]
  },
  {
   "cell_type": "code",
   "execution_count": 15,
   "metadata": {},
   "outputs": [],
   "source": [
    "yL_train=pd.get_dummies(yL_train)#One-hotencoding\n",
    "\n",
    "# Split into train,test and val\n",
    "\n",
    "#randomly split into train(80%) and val(20%)\n",
    "XL_train,XL_val,yL_train,yL_val=train_test_split(XL_train,yL_train,random_state=0,test_size=0.2)\n",
    "\n",
    "#randomly split val into val(10%) and test(10%)\n",
    "XL_val,XL_test,yL_val,yL_test=train_test_split(XL_val,yL_val,random_state=0,test_size=0.5)"
   ]
  },
  {
   "cell_type": "code",
   "execution_count": 16,
   "metadata": {},
   "outputs": [],
   "source": [
    "yL_train2=yL_train[yL_train==1].stack().reset_index().drop(0,1)['level_1'] # reversing the one hot encoding for each set"
   ]
  },
  {
   "cell_type": "code",
   "execution_count": 17,
   "metadata": {},
   "outputs": [],
   "source": [
    "yL_val2=yL_val[yL_val==1].stack().reset_index().drop(0,1)['level_1']# reversing the one hot encoding for each set"
   ]
  },
  {
   "cell_type": "code",
   "execution_count": 18,
   "metadata": {},
   "outputs": [],
   "source": [
    "yL_test2=yL_test[yL_test==1].stack().reset_index().drop(0,1)['level_1']# reversing the one hot encoding for each set"
   ]
  },
  {
   "cell_type": "code",
   "execution_count": 19,
   "metadata": {},
   "outputs": [
    {
     "data": {
      "text/plain": [
       "\"\\nb=a.where(a>5000)\\nb=b.fillna(5000,downcast='infer')\\nthreshold=dict(zip(b.index,b.values))\\nros=RandomOverSampler(sampling_strategy=threshold,random_state=0)\\nXi=XL_train\\nyi=yL_train\\nX1,y1=ros.fit_resample(Xi,yi)\\nb=b.where(b<6000)\\nb=b.fillna(6000,downcast='infer')\\nthreshold=dict(zip(b.index,b.values))\\nrus=RandomUnderSampler(sampling_strategy=threshold,random_state=0)\\nXL_train,yL_train=rus.fit_resample(X1,y1)\\n\""
      ]
     },
     "execution_count": 19,
     "metadata": {},
     "output_type": "execute_result"
    }
   ],
   "source": [
    "'''\n",
    "b=a.where(a>5000)\n",
    "b=b.fillna(5000,downcast='infer')\n",
    "threshold=dict(zip(b.index,b.values))\n",
    "ros=RandomOverSampler(sampling_strategy=threshold,random_state=0)\n",
    "Xi=XL_train\n",
    "yi=yL_train\n",
    "X1,y1=ros.fit_resample(Xi,yi)\n",
    "b=b.where(b<6000)\n",
    "b=b.fillna(6000,downcast='infer')\n",
    "threshold=dict(zip(b.index,b.values))\n",
    "rus=RandomUnderSampler(sampling_strategy=threshold,random_state=0)\n",
    "XL_train,yL_train=rus.fit_resample(X1,y1)\n",
    "'''"
   ]
  },
  {
   "cell_type": "code",
   "execution_count": 20,
   "metadata": {},
   "outputs": [
    {
     "data": {
      "text/plain": [
       "'\\n\\nyL_train=pd.get_dummies(yL_train)\\nyL_test=pd.get_dummies(yL_test)\\nyL_val=pd.get_dummies(yL_test)\\n\\nyL_val=yL_val.iloc[:-42]\\nyL_test=yL_test.iloc[:-42]\\nyL_train=yL_train.iloc[:-42]\\n\\n'"
      ]
     },
     "execution_count": 20,
     "metadata": {},
     "output_type": "execute_result"
    }
   ],
   "source": [
    "\n",
    "'''\n",
    "\n",
    "yL_train=pd.get_dummies(yL_train)\n",
    "yL_test=pd.get_dummies(yL_test)\n",
    "yL_val=pd.get_dummies(yL_test)\n",
    "\n",
    "yL_val=yL_val.iloc[:-42]\n",
    "yL_test=yL_test.iloc[:-42]\n",
    "yL_train=yL_train.iloc[:-42]\n",
    "\n",
    "'''"
   ]
  },
  {
   "cell_type": "code",
   "execution_count": 21,
   "metadata": {},
   "outputs": [],
   "source": [
    "from sklearn.preprocessing import MinMaxScaler\n",
    "from sklearn.preprocessing import StandardScaler\n",
    "from sklearn.preprocessing import normalize\n",
    "scaler=StandardScaler()\n",
    "\n",
    "\n",
    "#XU_train=normalize(XU_train,norm='l1')\n",
    "#XL_train=normalize(XL_train,norm='l1')\n",
    "#XL_val=normalize(XL_val,norm='l1')\n",
    "#XL_test=normalize(XL_test,norm='l1')\n",
    "\n",
    "\n",
    "#scaling and normalization\n",
    "XU_train=scaler.fit_transform(XU_train)\n",
    "XL_train=scaler.fit_transform(XL_train)\n",
    "XL_val=scaler.transform(XL_val)\n",
    "XL_test=scaler.transform(XL_test)\n"
   ]
  },
  {
   "cell_type": "markdown",
   "metadata": {},
   "source": [
    "# 2. Training the SDAE"
   ]
  },
  {
   "cell_type": "code",
   "execution_count": 22,
   "metadata": {},
   "outputs": [],
   "source": [
    "from keras_sequential_ascii import keras2ascii\n",
    "from tensorflow.keras import regularizers\n",
    "from keras.models import Sequential"
   ]
  },
  {
   "cell_type": "code",
   "execution_count": 23,
   "metadata": {},
   "outputs": [],
   "source": [
    "from keras import backend as K\n"
   ]
  },
  {
   "cell_type": "code",
   "execution_count": 24,
   "metadata": {},
   "outputs": [],
   "source": [
    "'''\n",
    "Function SDAE\n",
    "Inputs: numpy array X, list layers,list activations,float fraction_delete\n",
    "layers is a list of no. of hidden nodes in each hidden layer\n",
    "activations is a list of activations used in each encoding layer\n",
    "trains each autoencoder layer and outputs all the encoder-layer models.\n",
    "Output: a list of keras models\n",
    "\n",
    "'''\n",
    "def SDAE(X,layers,activations,rho,n_epochs,denoise,fraction_delete=0.2):\n",
    "    layers.insert(0,len(X[0]))\n",
    "    #layers.insert(0,len(X_train.iloc[0]))\n",
    "    ec=[]\n",
    "    for i in range(len(layers)-1):\n",
    "        encoding_dim = layers[i+1]\n",
    "\n",
    "    # this is our input placeholder\n",
    "        input_ = Input(shape=(layers[i],))\n",
    "    # define regulariser\n",
    "        if rho[i] != None: \n",
    "            regulariser = SparseActivityRegularizer(rho[i],3)\n",
    "        else:\n",
    "            regulariser=None\n",
    "\n",
    "        # \"encoded\" is the encoded representation of the input\n",
    "        encoded = Dense(encoding_dim, activation=activations[i],bias_initializer='random_normal',kernel_initializer='he_uniform',activity_regularizer=regulariser,name='encoder'+str(i+1))(input_)\n",
    "        \n",
    "        # \"decoded\" is the lossy reconstruction of the input\n",
    "        decoded = Dense(layers[i],activation=None,name='decoder'+str(i+1))(encoded)\n",
    "\n",
    "        # this model maps an input to its reconstruction\n",
    "        autoencoder = Model(input_, decoded)\n",
    "\n",
    "        # this model maps an input to its encoded representation\n",
    "        encoder = Model(input_, encoded)\n",
    "\n",
    "        # create a placeholder for an encoded (32-dimensional) input\n",
    "        encoded_input = Input(shape=(encoding_dim,))\n",
    "\n",
    "        autoencoder.compile(optimizer=RMSprop(learning_rate=0.001,clipnorm=0.1), loss='mse')\n",
    "        if denoise =='Gauss':\n",
    "            X_noisy=Gaussian_noise(X,fraction_delete)\n",
    "        else:\n",
    "            X_noisy=mask_noise(X,fraction_delete)\n",
    "            \n",
    "        #print(X_noisy)\n",
    "        #print(X)\n",
    "        #autoencoder.summary()\n",
    "        #keras2ascii(autoencoder)\n",
    "        \n",
    "        print('Training Layer ' + str(i+1)+' : ')\n",
    "        autoencoder.fit(X_noisy,X,\n",
    "                epochs=n_epochs,\n",
    "                batch_size=256,\n",
    "                shuffle=True,\n",
    "                validation_data=(X,X))\n",
    "        ec.append(encoder)\n",
    "        #print(autoencoder.predict(mask_noise(X,1.0)))\n",
    "        X=encoder.predict(X)\n",
    "        #print(np.mean(X,axis=0))\n",
    "    print('All Layers Done!')    \n",
    "    return ec       "
   ]
  },
  {
   "cell_type": "code",
   "execution_count": 39,
   "metadata": {},
   "outputs": [
    {
     "name": "stdout",
     "output_type": "stream",
     "text": [
      "Training Layer 1 : \n",
      "Train on 121392 samples, validate on 121392 samples\n",
      "Epoch 1/20\n",
      "121392/121392 [==============================] - 2s 15us/step - loss: 6.7559 - val_loss: 0.7336\n",
      "Epoch 2/20\n",
      "121392/121392 [==============================] - 2s 13us/step - loss: 0.6181 - val_loss: 0.5313\n",
      "Epoch 3/20\n",
      "121392/121392 [==============================] - 2s 14us/step - loss: 0.5025 - val_loss: 0.4254\n",
      "Epoch 4/20\n",
      "121392/121392 [==============================] - 2s 13us/step - loss: 0.4413 - val_loss: 0.4295\n",
      "Epoch 5/20\n",
      "121392/121392 [==============================] - 2s 15us/step - loss: 0.4080 - val_loss: 0.3663\n",
      "Epoch 6/20\n",
      "121392/121392 [==============================] - 2s 13us/step - loss: 0.3879 - val_loss: 0.3705\n",
      "Epoch 7/20\n",
      "121392/121392 [==============================] - 2s 14us/step - loss: 0.3592 - val_loss: 0.3351\n",
      "Epoch 8/20\n",
      "121392/121392 [==============================] - 2s 13us/step - loss: 0.3425 - val_loss: 0.3285\n",
      "Epoch 9/20\n",
      "121392/121392 [==============================] - 2s 14us/step - loss: 0.3299 - val_loss: 0.3115\n",
      "Epoch 10/20\n",
      "121392/121392 [==============================] - 2s 14us/step - loss: 0.3165 - val_loss: 0.3023\n",
      "Epoch 11/20\n",
      "121392/121392 [==============================] - 2s 13us/step - loss: 0.3064 - val_loss: 0.2889\n",
      "Epoch 12/20\n",
      "121392/121392 [==============================] - 2s 15us/step - loss: 0.2910 - val_loss: 0.2599\n",
      "Epoch 13/20\n",
      "121392/121392 [==============================] - 2s 13us/step - loss: 0.2824 - val_loss: 0.2528\n",
      "Epoch 14/20\n",
      "121392/121392 [==============================] - 2s 13us/step - loss: 0.2701 - val_loss: 0.2452\n",
      "Epoch 15/20\n",
      "121392/121392 [==============================] - 2s 13us/step - loss: 0.2577 - val_loss: 0.2403\n",
      "Epoch 16/20\n",
      "121392/121392 [==============================] - 2s 13us/step - loss: 0.2525 - val_loss: 0.2371\n",
      "Epoch 17/20\n",
      "121392/121392 [==============================] - 2s 13us/step - loss: 0.2419 - val_loss: 0.2405\n",
      "Epoch 18/20\n",
      "121392/121392 [==============================] - 2s 13us/step - loss: 0.2357 - val_loss: 0.2224\n",
      "Epoch 19/20\n",
      "121392/121392 [==============================] - 2s 13us/step - loss: 0.2294 - val_loss: 0.2152\n",
      "Epoch 20/20\n",
      "121392/121392 [==============================] - 2s 14us/step - loss: 0.2213 - val_loss: 0.2165\n",
      "Training Layer 2 : \n",
      "Train on 121392 samples, validate on 121392 samples\n",
      "Epoch 1/20\n",
      "121392/121392 [==============================] - 2s 16us/step - loss: 0.6056 - val_loss: 0.4268\n",
      "Epoch 2/20\n",
      "121392/121392 [==============================] - 2s 16us/step - loss: 0.2928 - val_loss: 0.3811\n",
      "Epoch 3/20\n",
      "121392/121392 [==============================] - 2s 16us/step - loss: 0.2893 - val_loss: 0.4215\n",
      "Epoch 4/20\n",
      "121392/121392 [==============================] - 2s 16us/step - loss: 0.2701 - val_loss: 0.3798\n",
      "Epoch 5/20\n",
      "121392/121392 [==============================] - 2s 16us/step - loss: 0.2662 - val_loss: 0.3257\n",
      "Epoch 6/20\n",
      "121392/121392 [==============================] - 2s 16us/step - loss: 0.2523 - val_loss: 0.3981\n",
      "Epoch 7/20\n",
      "121392/121392 [==============================] - 2s 17us/step - loss: 0.2457 - val_loss: 0.3041\n",
      "Epoch 8/20\n",
      "121392/121392 [==============================] - 2s 17us/step - loss: 0.2459 - val_loss: 0.3539\n",
      "Epoch 9/20\n",
      "121392/121392 [==============================] - 2s 16us/step - loss: 0.2381 - val_loss: 0.3109\n",
      "Epoch 10/20\n",
      "121392/121392 [==============================] - 2s 16us/step - loss: 0.2360 - val_loss: 0.2770\n",
      "Epoch 11/20\n",
      "121392/121392 [==============================] - 2s 16us/step - loss: 0.2268 - val_loss: 0.2978\n",
      "Epoch 12/20\n",
      "121392/121392 [==============================] - 2s 16us/step - loss: 0.2276 - val_loss: 0.3159\n",
      "Epoch 13/20\n",
      "121392/121392 [==============================] - 2s 16us/step - loss: 0.2197 - val_loss: 0.3389\n",
      "Epoch 14/20\n",
      "121392/121392 [==============================] - 2s 15us/step - loss: 0.2277 - val_loss: 0.2194\n",
      "Epoch 15/20\n",
      "121392/121392 [==============================] - 2s 16us/step - loss: 0.2141 - val_loss: 0.3529\n",
      "Epoch 16/20\n",
      "121392/121392 [==============================] - 2s 16us/step - loss: 0.2131 - val_loss: 0.2947\n",
      "Epoch 17/20\n",
      "121392/121392 [==============================] - 2s 15us/step - loss: 0.2064 - val_loss: 0.3374\n",
      "Epoch 18/20\n",
      "121392/121392 [==============================] - 2s 17us/step - loss: 0.2131 - val_loss: 0.2991\n",
      "Epoch 19/20\n",
      "121392/121392 [==============================] - 2s 16us/step - loss: 0.2114 - val_loss: 0.3195\n",
      "Epoch 20/20\n",
      "121392/121392 [==============================] - 2s 15us/step - loss: 0.2093 - val_loss: 0.2529\n",
      "Training Layer 3 : \n",
      "Train on 121392 samples, validate on 121392 samples\n",
      "Epoch 1/20\n",
      "121392/121392 [==============================] - 4s 30us/step - loss: 1.4124 - val_loss: 1.1827\n",
      "Epoch 2/20\n",
      "121392/121392 [==============================] - 4s 31us/step - loss: 0.7351 - val_loss: 1.4408\n",
      "Epoch 3/20\n",
      "121392/121392 [==============================] - 4s 30us/step - loss: 0.7152 - val_loss: 1.2340\n",
      "Epoch 4/20\n",
      "121392/121392 [==============================] - 4s 29us/step - loss: 0.7002 - val_loss: 1.0071\n",
      "Epoch 5/20\n",
      "121392/121392 [==============================] - 4s 29us/step - loss: 0.7037 - val_loss: 1.2143\n",
      "Epoch 6/20\n",
      "121392/121392 [==============================] - 4s 29us/step - loss: 0.6921 - val_loss: 0.9876\n",
      "Epoch 7/20\n",
      "121392/121392 [==============================] - 4s 30us/step - loss: 0.7015 - val_loss: 0.8762\n",
      "Epoch 8/20\n",
      "121392/121392 [==============================] - 4s 30us/step - loss: 0.7034 - val_loss: 1.7695\n",
      "Epoch 9/20\n",
      "121392/121392 [==============================] - 4s 30us/step - loss: 0.6836 - val_loss: 1.5166\n",
      "Epoch 10/20\n",
      "121392/121392 [==============================] - 4s 31us/step - loss: 0.7154 - val_loss: 0.8700\n",
      "Epoch 11/20\n",
      "121392/121392 [==============================] - 4s 29us/step - loss: 0.6917 - val_loss: 1.1131\n",
      "Epoch 12/20\n",
      "121392/121392 [==============================] - 4s 30us/step - loss: 0.7073 - val_loss: 1.1847\n",
      "Epoch 13/20\n",
      "121392/121392 [==============================] - 4s 30us/step - loss: 0.6730 - val_loss: 0.8753\n",
      "Epoch 14/20\n",
      "121392/121392 [==============================] - 4s 29us/step - loss: 0.6874 - val_loss: 1.3019\n",
      "Epoch 15/20\n",
      "121392/121392 [==============================] - 4s 29us/step - loss: 0.6996 - val_loss: 0.9886\n",
      "Epoch 16/20\n",
      "121392/121392 [==============================] - 4s 29us/step - loss: 0.6686 - val_loss: 1.4782\n",
      "Epoch 17/20\n",
      "121392/121392 [==============================] - 4s 31us/step - loss: 0.6916 - val_loss: 0.8184\n",
      "Epoch 18/20\n",
      "121392/121392 [==============================] - 4s 31us/step - loss: 0.6773 - val_loss: 1.0381\n",
      "Epoch 19/20\n",
      "121392/121392 [==============================] - 4s 29us/step - loss: 0.6766 - val_loss: 0.8088\n",
      "Epoch 20/20\n",
      "121392/121392 [==============================] - 4s 29us/step - loss: 0.6827 - val_loss: 1.0453\n",
      "Training Layer 4 : \n",
      "Train on 121392 samples, validate on 121392 samples\n",
      "Epoch 1/20\n",
      "121392/121392 [==============================] - 3s 24us/step - loss: 0.2781 - val_loss: 0.2005\n",
      "Epoch 2/20\n",
      "121392/121392 [==============================] - 3s 21us/step - loss: 0.1655 - val_loss: 0.1244\n",
      "Epoch 3/20\n",
      "121392/121392 [==============================] - 2s 20us/step - loss: 0.1564 - val_loss: 0.3436\n",
      "Epoch 4/20\n",
      "121392/121392 [==============================] - 2s 21us/step - loss: 0.1676 - val_loss: 0.3141\n",
      "Epoch 5/20\n",
      "121392/121392 [==============================] - 2s 20us/step - loss: 0.1593 - val_loss: 0.1016\n",
      "Epoch 6/20\n",
      "121392/121392 [==============================] - 2s 20us/step - loss: 0.1504 - val_loss: 0.1480\n",
      "Epoch 7/20\n",
      "121392/121392 [==============================] - 3s 22us/step - loss: 0.1583 - val_loss: 0.1440\n",
      "Epoch 8/20\n",
      "121392/121392 [==============================] - 3s 27us/step - loss: 0.1567 - val_loss: 0.2334\n",
      "Epoch 9/20\n",
      "121392/121392 [==============================] - 3s 24us/step - loss: 0.1576 - val_loss: 0.2104\n",
      "Epoch 10/20\n",
      "121392/121392 [==============================] - 3s 27us/step - loss: 0.1559 - val_loss: 0.1917\n",
      "Epoch 11/20\n",
      "121392/121392 [==============================] - 3s 28us/step - loss: 0.1591 - val_loss: 0.2166\n",
      "Epoch 12/20\n",
      "121392/121392 [==============================] - 3s 28us/step - loss: 0.1537 - val_loss: 0.1563\n",
      "Epoch 13/20\n",
      "121392/121392 [==============================] - 3s 29us/step - loss: 0.1569 - val_loss: 0.2274\n",
      "Epoch 14/20\n",
      "121392/121392 [==============================] - 3s 27us/step - loss: 0.1486 - val_loss: 0.1572\n",
      "Epoch 15/20\n",
      "121392/121392 [==============================] - 2s 20us/step - loss: 0.1629 - val_loss: 0.1978\n",
      "Epoch 16/20\n",
      "121392/121392 [==============================] - 2s 20us/step - loss: 0.1673 - val_loss: 0.4635\n",
      "Epoch 17/20\n",
      "121392/121392 [==============================] - 3s 21us/step - loss: 0.1522 - val_loss: 0.1813\n",
      "Epoch 18/20\n",
      "121392/121392 [==============================] - 3s 21us/step - loss: 0.1556 - val_loss: 0.1492\n",
      "Epoch 19/20\n",
      "121392/121392 [==============================] - 2s 19us/step - loss: 0.1538 - val_loss: 0.1488\n",
      "Epoch 20/20\n",
      "121392/121392 [==============================] - 2s 19us/step - loss: 0.1486 - val_loss: 0.1464\n",
      "All Layers Done!\n"
     ]
    }
   ],
   "source": [
    "#XU_train,XL_train,yU_train,yL_train=train_test_split(X_train,y_train,random_state=0,test_size=0.5)\n",
    "#train Sparse Stacked Denoising Autoencoder\n",
    "layers = [100,200,400,50]\n",
    "activations=['relu','relu','relu','relu','relu']\n",
    "rho=[0.09,0.09,0.09,0.09,0.1,0.1]\n",
    "stacked_layers=SDAE(XU_train,layers,activations,rho,20,'mask',0.03)"
   ]
  },
  {
   "cell_type": "markdown",
   "metadata": {},
   "source": [
    "# 3.Training the SoftMax classifier"
   ]
  },
  {
   "cell_type": "code",
   "execution_count": 40,
   "metadata": {},
   "outputs": [],
   "source": [
    "'''\n",
    "Performs a Forward Pass through the SDAE\n",
    "\n",
    "'''\n",
    "def SDAE_predict(stacked_layers,X):\n",
    "    for layer in stacked_layers:\n",
    "        X1=layer.predict(X)\n",
    "        X=X1\n",
    "    return X1    "
   ]
  },
  {
   "cell_type": "code",
   "execution_count": 41,
   "metadata": {},
   "outputs": [],
   "source": [
    "#forward pass through SDAE\n",
    "XL_train1=SDAE_predict(stacked_layers,XL_train)\n",
    "XL_val1=SDAE_predict(stacked_layers,XL_val)\n",
    "XL_test1=SDAE_predict(stacked_layers,XL_test)"
   ]
  },
  {
   "cell_type": "markdown",
   "metadata": {},
   "source": [
    "### Please skip this section to part 6 If only ML methods are to be tested, The following is the DL model"
   ]
  },
  {
   "cell_type": "code",
   "execution_count": 42,
   "metadata": {},
   "outputs": [],
   "source": [
    "from tensorflow.keras import regularizers"
   ]
  },
  {
   "cell_type": "code",
   "execution_count": 43,
   "metadata": {},
   "outputs": [],
   "source": [
    "#Train Classifier separately\n",
    "input1 = Input(shape=(layers[-1],))\n",
    "#bn1=BatchNormalization()(input1)\n",
    "#L0 = Dense(100,activation='relu')(bn1) #if one wishes to include another layer, just uncomment\n",
    "L1 = Dense(len(yL_train.columns),activation='softmax')(input1)\n",
    "classifier=Model(input1,L1)\n",
    "classifier.compile(optimizer=SGD(learning_rate=0.1,momentum=0.9),loss='categorical_crossentropy',metrics=['accuracy'])"
   ]
  },
  {
   "cell_type": "code",
   "execution_count": 44,
   "metadata": {},
   "outputs": [
    {
     "name": "stdout",
     "output_type": "stream",
     "text": [
      "Train on 181600 samples, validate on 22700 samples\n",
      "Epoch 1/50\n",
      "181600/181600 [==============================] - 5s 28us/step - loss: 2.9037 - accuracy: 0.2836 - val_loss: 2.6600 - val_accuracy: 0.3363\n",
      "Epoch 2/50\n",
      "181600/181600 [==============================] - 5s 28us/step - loss: 2.5811 - accuracy: 0.3487 - val_loss: 2.4975 - val_accuracy: 0.3663\n",
      "Epoch 3/50\n",
      "181600/181600 [==============================] - 5s 29us/step - loss: 2.4668 - accuracy: 0.3683 - val_loss: 2.4186 - val_accuracy: 0.3770\n",
      "Epoch 4/50\n",
      "181600/181600 [==============================] - 5s 29us/step - loss: 2.4014 - accuracy: 0.3844 - val_loss: 2.3615 - val_accuracy: 0.3993\n",
      "Epoch 5/50\n",
      "181600/181600 [==============================] - 5s 28us/step - loss: 2.3584 - accuracy: 0.3936 - val_loss: 2.3230 - val_accuracy: 0.4077\n",
      "Epoch 6/50\n",
      "181600/181600 [==============================] - 5s 28us/step - loss: 2.3265 - accuracy: 0.4013 - val_loss: 2.2940 - val_accuracy: 0.4084\n",
      "Epoch 7/50\n",
      "181600/181600 [==============================] - 5s 29us/step - loss: 2.3028 - accuracy: 0.4069 - val_loss: 2.2772 - val_accuracy: 0.4164\n",
      "Epoch 8/50\n",
      "181600/181600 [==============================] - 5s 28us/step - loss: 2.2830 - accuracy: 0.4119 - val_loss: 2.2571 - val_accuracy: 0.4193\n",
      "Epoch 9/50\n",
      "181600/181600 [==============================] - 5s 30us/step - loss: 2.2676 - accuracy: 0.4156 - val_loss: 2.2408 - val_accuracy: 0.4163\n",
      "Epoch 10/50\n",
      "181600/181600 [==============================] - 5s 29us/step - loss: 2.2548 - accuracy: 0.4176 - val_loss: 2.2313 - val_accuracy: 0.4295\n",
      "Epoch 11/50\n",
      "181600/181600 [==============================] - 5s 29us/step - loss: 2.2435 - accuracy: 0.4209 - val_loss: 2.2199 - val_accuracy: 0.4215\n",
      "Epoch 12/50\n",
      "181600/181600 [==============================] - 5s 30us/step - loss: 2.2341 - accuracy: 0.4241 - val_loss: 2.2167 - val_accuracy: 0.4248\n",
      "Epoch 13/50\n",
      "181600/181600 [==============================] - 5s 29us/step - loss: 2.2260 - accuracy: 0.4276 - val_loss: 2.2080 - val_accuracy: 0.4390\n",
      "Epoch 14/50\n",
      "181600/181600 [==============================] - 5s 29us/step - loss: 2.2186 - accuracy: 0.4297 - val_loss: 2.1967 - val_accuracy: 0.4342\n",
      "Epoch 15/50\n",
      "181600/181600 [==============================] - 5s 30us/step - loss: 2.2123 - accuracy: 0.4318 - val_loss: 2.1910 - val_accuracy: 0.4377\n",
      "Epoch 16/50\n",
      "181600/181600 [==============================] - 5s 29us/step - loss: 2.2065 - accuracy: 0.4332 - val_loss: 2.1865 - val_accuracy: 0.4413\n",
      "Epoch 17/50\n",
      "181600/181600 [==============================] - 5s 28us/step - loss: 2.2015 - accuracy: 0.4358 - val_loss: 2.1827 - val_accuracy: 0.4368\n",
      "Epoch 18/50\n",
      "181600/181600 [==============================] - 5s 29us/step - loss: 2.1972 - accuracy: 0.4365 - val_loss: 2.1777 - val_accuracy: 0.4481\n",
      "Epoch 19/50\n",
      "181600/181600 [==============================] - 5s 30us/step - loss: 2.1925 - accuracy: 0.4378 - val_loss: 2.1730 - val_accuracy: 0.4445\n",
      "Epoch 20/50\n",
      "181600/181600 [==============================] - 5s 29us/step - loss: 2.1884 - accuracy: 0.4387 - val_loss: 2.1662 - val_accuracy: 0.4453\n",
      "Epoch 21/50\n",
      "181600/181600 [==============================] - 6s 31us/step - loss: 2.1849 - accuracy: 0.4399 - val_loss: 2.1662 - val_accuracy: 0.4455\n",
      "Epoch 22/50\n",
      "181600/181600 [==============================] - 5s 28us/step - loss: 2.1820 - accuracy: 0.4404 - val_loss: 2.1655 - val_accuracy: 0.4422\n",
      "Epoch 23/50\n",
      "181600/181600 [==============================] - 5s 29us/step - loss: 2.1792 - accuracy: 0.4415 - val_loss: 2.1613 - val_accuracy: 0.4451\n",
      "Epoch 24/50\n",
      "181600/181600 [==============================] - 5s 28us/step - loss: 2.1761 - accuracy: 0.4429 - val_loss: 2.1595 - val_accuracy: 0.4486\n",
      "Epoch 25/50\n",
      "181600/181600 [==============================] - 5s 29us/step - loss: 2.1738 - accuracy: 0.4438 - val_loss: 2.1557 - val_accuracy: 0.4503\n",
      "Epoch 26/50\n",
      "181600/181600 [==============================] - 5s 28us/step - loss: 2.1716 - accuracy: 0.4439 - val_loss: 2.1550 - val_accuracy: 0.4455\n",
      "Epoch 27/50\n",
      "181600/181600 [==============================] - 5s 29us/step - loss: 2.1691 - accuracy: 0.4447 - val_loss: 2.1469 - val_accuracy: 0.4481\n",
      "Epoch 28/50\n",
      "181600/181600 [==============================] - 5s 29us/step - loss: 2.1668 - accuracy: 0.4453 - val_loss: 2.1501 - val_accuracy: 0.4531\n",
      "Epoch 29/50\n",
      "181600/181600 [==============================] - 5s 29us/step - loss: 2.1650 - accuracy: 0.4462 - val_loss: 2.1466 - val_accuracy: 0.4527\n",
      "Epoch 30/50\n",
      "181600/181600 [==============================] - 5s 29us/step - loss: 2.1637 - accuracy: 0.4473 - val_loss: 2.1420 - val_accuracy: 0.4491\n",
      "Epoch 31/50\n",
      "181600/181600 [==============================] - 5s 30us/step - loss: 2.1612 - accuracy: 0.4470 - val_loss: 2.1408 - val_accuracy: 0.4538\n",
      "Epoch 32/50\n",
      "181600/181600 [==============================] - 6s 31us/step - loss: 2.1598 - accuracy: 0.4472 - val_loss: 2.1441 - val_accuracy: 0.4481\n",
      "Epoch 33/50\n",
      "181600/181600 [==============================] - 5s 28us/step - loss: 2.1580 - accuracy: 0.4478 - val_loss: 2.1394 - val_accuracy: 0.4573\n",
      "Epoch 34/50\n",
      "181600/181600 [==============================] - 5s 29us/step - loss: 2.1565 - accuracy: 0.4481 - val_loss: 2.1352 - val_accuracy: 0.4607\n",
      "Epoch 35/50\n",
      "181600/181600 [==============================] - 5s 29us/step - loss: 2.1550 - accuracy: 0.4490 - val_loss: 2.1382 - val_accuracy: 0.4506\n",
      "Epoch 36/50\n",
      "181600/181600 [==============================] - 5s 29us/step - loss: 2.1541 - accuracy: 0.4496 - val_loss: 2.1368 - val_accuracy: 0.4560\n",
      "Epoch 37/50\n",
      "181600/181600 [==============================] - 5s 29us/step - loss: 2.1530 - accuracy: 0.4491 - val_loss: 2.1400 - val_accuracy: 0.4485\n",
      "Epoch 38/50\n",
      "181600/181600 [==============================] - 5s 30us/step - loss: 2.1519 - accuracy: 0.4499 - val_loss: 2.1289 - val_accuracy: 0.4567\n",
      "Epoch 39/50\n",
      "181600/181600 [==============================] - 5s 29us/step - loss: 2.1502 - accuracy: 0.4497 - val_loss: 2.1385 - val_accuracy: 0.4474\n",
      "Epoch 40/50\n",
      "181600/181600 [==============================] - 6s 33us/step - loss: 2.1495 - accuracy: 0.4499 - val_loss: 2.1310 - val_accuracy: 0.4584\n",
      "Epoch 41/50\n",
      "181600/181600 [==============================] - 5s 29us/step - loss: 2.1482 - accuracy: 0.4497 - val_loss: 2.1304 - val_accuracy: 0.4540\n",
      "Epoch 42/50\n",
      "181600/181600 [==============================] - 5s 30us/step - loss: 2.1478 - accuracy: 0.4512 - val_loss: 2.1317 - val_accuracy: 0.4562\n",
      "Epoch 43/50\n",
      "181600/181600 [==============================] - 6s 30us/step - loss: 2.1466 - accuracy: 0.4510 - val_loss: 2.1363 - val_accuracy: 0.4554\n",
      "Epoch 44/50\n",
      "181600/181600 [==============================] - 5s 29us/step - loss: 2.1457 - accuracy: 0.4516 - val_loss: 2.1243 - val_accuracy: 0.4540\n",
      "Epoch 45/50\n",
      "181600/181600 [==============================] - 5s 29us/step - loss: 2.1446 - accuracy: 0.4514 - val_loss: 2.1312 - val_accuracy: 0.4532\n",
      "Epoch 46/50\n",
      "181600/181600 [==============================] - 6s 33us/step - loss: 2.1443 - accuracy: 0.4517 - val_loss: 2.1305 - val_accuracy: 0.4590\n",
      "Epoch 47/50\n",
      "181600/181600 [==============================] - 6s 31us/step - loss: 2.1432 - accuracy: 0.4524 - val_loss: 2.1244 - val_accuracy: 0.4574\n",
      "Epoch 48/50\n",
      "181600/181600 [==============================] - 5s 29us/step - loss: 2.1424 - accuracy: 0.4522 - val_loss: 2.1215 - val_accuracy: 0.4613\n",
      "Epoch 49/50\n",
      "181600/181600 [==============================] - 6s 32us/step - loss: 2.1418 - accuracy: 0.4523 - val_loss: 2.1226 - val_accuracy: 0.4562\n",
      "Epoch 50/50\n",
      "181600/181600 [==============================] - 6s 31us/step - loss: 2.1409 - accuracy: 0.4527 - val_loss: 2.1233 - val_accuracy: 0.4605\n"
     ]
    }
   ],
   "source": [
    "history=classifier.fit(XL_train1,yL_train,\n",
    "                epochs=50,\n",
    "                #batch_size=256,\n",
    "                shuffle=True,\n",
    "                validation_data=(XL_val1, yL_val))"
   ]
  },
  {
   "cell_type": "code",
   "execution_count": 45,
   "metadata": {},
   "outputs": [
    {
     "data": {
      "text/plain": [
       "[<matplotlib.lines.Line2D at 0x18f00856128>]"
      ]
     },
     "execution_count": 45,
     "metadata": {},
     "output_type": "execute_result"
    },
    {
     "data": {
      "image/png": "[encoded data removed]",
      "text/plain": [
       "<Figure size 432x288 with 1 Axes>"
      ]
     },
     "metadata": {
      "needs_background": "light"
     },
     "output_type": "display_data"
    }
   ],
   "source": [
    "plt.plot(history.history['accuracy'])"
   ]
  },
  {
   "cell_type": "markdown",
   "metadata": {},
   "source": [
    "# 4. Fine Tuning"
   ]
  },
  {
   "cell_type": "code",
   "execution_count": 46,
   "metadata": {},
   "outputs": [],
   "source": [
    "from tensorflow.keras import regularizers\n",
    "from keras.models import load_model\n",
    "import keras\n",
    "from keras.layers import Dropout"
   ]
  },
  {
   "cell_type": "code",
   "execution_count": 47,
   "metadata": {},
   "outputs": [
    {
     "name": "stderr",
     "output_type": "stream",
     "text": [
      "c:\\users\\dhruvjyoti\\appdata\\local\\programs\\python\\python37\\lib\\site-packages\\keras\\engine\\saving.py:341: UserWarning: No training configuration found in save file: the model was *not* compiled. Compile it manually.\n",
      "  warnings.warn('No training configuration found in save file: '\n"
     ]
    },
    {
     "name": "stdout",
     "output_type": "stream",
     "text": [
      "[]\n",
      "[]\n",
      "[]\n",
      "[]\n",
      "[]\n"
     ]
    }
   ],
   "source": [
    "# change regularisation settings\n",
    "a=[]\n",
    "#input2=Input(shape=(len(XL_train[0]),))\n",
    "#a.append(input2)\n",
    "for i in range(len(stacked_layers)):\n",
    "    encoder=stacked_layers[i]\n",
    "    encoder.layers[-1].kernel_regularizer=None #set or reset weight regularizer \n",
    "    encoder.layers[-1].activity_regularizer=None #remove Sparse activity regularizer\n",
    "    encoder.save('temp.h5')\n",
    "    encoder=load_model('temp.h5')\n",
    "    print(encoder.losses)\n",
    "    a.append(encoder)\n",
    "    #a.append(tf.keras.backend.dropout(a[i],0.2))\n",
    "    \n",
    "#classifier.layers[-1].kernel_regularizer=regularizers.l2(0.0001)#set or reset weight regularizer \n",
    "classifier.save('temp.h5')\n",
    "classifier=load_model('temp.h5')\n",
    "print(classifier.losses)\n",
    "a.append(classifier)    "
   ]
  },
  {
   "cell_type": "code",
   "execution_count": 48,
   "metadata": {},
   "outputs": [],
   "source": [
    "# add dropout till n-2 layers\n",
    "from keras.models import Sequential\n",
    "model=Sequential()\n",
    "for i in a:\n",
    "    model.add(i)\n",
    "    if i != classifier and i != encoder:\n",
    "        model.add(Dropout(0.02))"
   ]
  },
  {
   "cell_type": "code",
   "execution_count": 49,
   "metadata": {},
   "outputs": [
    {
     "data": {
      "text/plain": [
       "[<keras.engine.training.Model at 0x18f0089ecf8>,\n",
       " <keras.layers.core.Dropout at 0x18f008a3048>,\n",
       " <keras.engine.training.Model at 0x18f00878f28>,\n",
       " <keras.layers.core.Dropout at 0x18f0097f4e0>,\n",
       " <keras.engine.training.Model at 0x18f00897668>,\n",
       " <keras.layers.core.Dropout at 0x18f00127a20>,\n",
       " <keras.engine.training.Model at 0x18f008977f0>,\n",
       " <keras.engine.training.Model at 0x18f009aecc0>]"
      ]
     },
     "execution_count": 49,
     "metadata": {},
     "output_type": "execute_result"
    }
   ],
   "source": [
    "#final fine tuned model\n",
    "model.layers"
   ]
  },
  {
   "cell_type": "code",
   "execution_count": 51,
   "metadata": {},
   "outputs": [],
   "source": [
    "model.save('temp.h5')\n",
    "model=load_model('temp.h5')"
   ]
  },
  {
   "cell_type": "code",
   "execution_count": 52,
   "metadata": {},
   "outputs": [],
   "source": [
    "model.compile(optimizer=RMSprop(learning_rate=0.0001),loss='categorical_crossentropy',metrics=['accuracy'])"
   ]
  },
  {
   "cell_type": "code",
   "execution_count": 53,
   "metadata": {},
   "outputs": [
    {
     "name": "stdout",
     "output_type": "stream",
     "text": [
      "Train on 181600 samples, validate on 22700 samples\n",
      "Epoch 1/300\n",
      "102144/181600 [===============>..............] - ETA: 3s - loss: 2.0649 - accuracy: 0.4572"
     ]
    },
    {
     "ename": "KeyboardInterrupt",
     "evalue": "",
     "output_type": "error",
     "traceback": [
      "\u001b[1;31m---------------------------------------------------------------------------\u001b[0m",
      "\u001b[1;31mKeyboardInterrupt\u001b[0m                         Traceback (most recent call last)",
      "\u001b[1;32m<ipython-input-53-e517d5a3adb8>\u001b[0m in \u001b[0;36m<module>\u001b[1;34m\u001b[0m\n\u001b[0;32m      4\u001b[0m                 \u001b[0mbatch_size\u001b[0m\u001b[1;33m=\u001b[0m\u001b[1;36m256\u001b[0m\u001b[1;33m,\u001b[0m\u001b[1;33m\u001b[0m\u001b[1;33m\u001b[0m\u001b[0m\n\u001b[0;32m      5\u001b[0m                 \u001b[0mshuffle\u001b[0m\u001b[1;33m=\u001b[0m\u001b[1;32mTrue\u001b[0m\u001b[1;33m,\u001b[0m\u001b[1;33m\u001b[0m\u001b[1;33m\u001b[0m\u001b[0m\n\u001b[1;32m----> 6\u001b[1;33m                 validation_data=(XL_val, yL_val))\n\u001b[0m",
      "\u001b[1;32mc:\\users\\dhruvjyoti\\appdata\\local\\programs\\python\\python37\\lib\\site-packages\\keras\\engine\\training.py\u001b[0m in \u001b[0;36mfit\u001b[1;34m(self, x, y, batch_size, epochs, verbose, callbacks, validation_split, validation_data, shuffle, class_weight, sample_weight, initial_epoch, steps_per_epoch, validation_steps, validation_freq, max_queue_size, workers, use_multiprocessing, **kwargs)\u001b[0m\n\u001b[0;32m   1237\u001b[0m                                         \u001b[0msteps_per_epoch\u001b[0m\u001b[1;33m=\u001b[0m\u001b[0msteps_per_epoch\u001b[0m\u001b[1;33m,\u001b[0m\u001b[1;33m\u001b[0m\u001b[1;33m\u001b[0m\u001b[0m\n\u001b[0;32m   1238\u001b[0m                                         \u001b[0mvalidation_steps\u001b[0m\u001b[1;33m=\u001b[0m\u001b[0mvalidation_steps\u001b[0m\u001b[1;33m,\u001b[0m\u001b[1;33m\u001b[0m\u001b[1;33m\u001b[0m\u001b[0m\n\u001b[1;32m-> 1239\u001b[1;33m                                         validation_freq=validation_freq)\n\u001b[0m\u001b[0;32m   1240\u001b[0m \u001b[1;33m\u001b[0m\u001b[0m\n\u001b[0;32m   1241\u001b[0m     def evaluate(self,\n",
      "\u001b[1;32mc:\\users\\dhruvjyoti\\appdata\\local\\programs\\python\\python37\\lib\\site-packages\\keras\\engine\\training_arrays.py\u001b[0m in \u001b[0;36mfit_loop\u001b[1;34m(model, fit_function, fit_inputs, out_labels, batch_size, epochs, verbose, callbacks, val_function, val_inputs, shuffle, initial_epoch, steps_per_epoch, validation_steps, validation_freq)\u001b[0m\n\u001b[0;32m    194\u001b[0m                     \u001b[0mins_batch\u001b[0m\u001b[1;33m[\u001b[0m\u001b[0mi\u001b[0m\u001b[1;33m]\u001b[0m \u001b[1;33m=\u001b[0m \u001b[0mins_batch\u001b[0m\u001b[1;33m[\u001b[0m\u001b[0mi\u001b[0m\u001b[1;33m]\u001b[0m\u001b[1;33m.\u001b[0m\u001b[0mtoarray\u001b[0m\u001b[1;33m(\u001b[0m\u001b[1;33m)\u001b[0m\u001b[1;33m\u001b[0m\u001b[1;33m\u001b[0m\u001b[0m\n\u001b[0;32m    195\u001b[0m \u001b[1;33m\u001b[0m\u001b[0m\n\u001b[1;32m--> 196\u001b[1;33m                 \u001b[0mouts\u001b[0m \u001b[1;33m=\u001b[0m \u001b[0mfit_function\u001b[0m\u001b[1;33m(\u001b[0m\u001b[0mins_batch\u001b[0m\u001b[1;33m)\u001b[0m\u001b[1;33m\u001b[0m\u001b[1;33m\u001b[0m\u001b[0m\n\u001b[0m\u001b[0;32m    197\u001b[0m                 \u001b[0mouts\u001b[0m \u001b[1;33m=\u001b[0m \u001b[0mto_list\u001b[0m\u001b[1;33m(\u001b[0m\u001b[0mouts\u001b[0m\u001b[1;33m)\u001b[0m\u001b[1;33m\u001b[0m\u001b[1;33m\u001b[0m\u001b[0m\n\u001b[0;32m    198\u001b[0m                 \u001b[1;32mfor\u001b[0m \u001b[0ml\u001b[0m\u001b[1;33m,\u001b[0m \u001b[0mo\u001b[0m \u001b[1;32min\u001b[0m \u001b[0mzip\u001b[0m\u001b[1;33m(\u001b[0m\u001b[0mout_labels\u001b[0m\u001b[1;33m,\u001b[0m \u001b[0mouts\u001b[0m\u001b[1;33m)\u001b[0m\u001b[1;33m:\u001b[0m\u001b[1;33m\u001b[0m\u001b[1;33m\u001b[0m\u001b[0m\n",
      "\u001b[1;32mc:\\users\\dhruvjyoti\\appdata\\local\\programs\\python\\python37\\lib\\site-packages\\tensorflow_core\\python\\keras\\backend.py\u001b[0m in \u001b[0;36m__call__\u001b[1;34m(self, inputs)\u001b[0m\n\u001b[0;32m   3725\u001b[0m         \u001b[0mvalue\u001b[0m \u001b[1;33m=\u001b[0m \u001b[0mmath_ops\u001b[0m\u001b[1;33m.\u001b[0m\u001b[0mcast\u001b[0m\u001b[1;33m(\u001b[0m\u001b[0mvalue\u001b[0m\u001b[1;33m,\u001b[0m \u001b[0mtensor\u001b[0m\u001b[1;33m.\u001b[0m\u001b[0mdtype\u001b[0m\u001b[1;33m)\u001b[0m\u001b[1;33m\u001b[0m\u001b[1;33m\u001b[0m\u001b[0m\n\u001b[0;32m   3726\u001b[0m       \u001b[0mconverted_inputs\u001b[0m\u001b[1;33m.\u001b[0m\u001b[0mappend\u001b[0m\u001b[1;33m(\u001b[0m\u001b[0mvalue\u001b[0m\u001b[1;33m)\u001b[0m\u001b[1;33m\u001b[0m\u001b[1;33m\u001b[0m\u001b[0m\n\u001b[1;32m-> 3727\u001b[1;33m     \u001b[0moutputs\u001b[0m \u001b[1;33m=\u001b[0m \u001b[0mself\u001b[0m\u001b[1;33m.\u001b[0m\u001b[0m_graph_fn\u001b[0m\u001b[1;33m(\u001b[0m\u001b[1;33m*\u001b[0m\u001b[0mconverted_inputs\u001b[0m\u001b[1;33m)\u001b[0m\u001b[1;33m\u001b[0m\u001b[1;33m\u001b[0m\u001b[0m\n\u001b[0m\u001b[0;32m   3728\u001b[0m \u001b[1;33m\u001b[0m\u001b[0m\n\u001b[0;32m   3729\u001b[0m     \u001b[1;31m# EagerTensor.numpy() will often make a copy to ensure memory safety.\u001b[0m\u001b[1;33m\u001b[0m\u001b[1;33m\u001b[0m\u001b[1;33m\u001b[0m\u001b[0m\n",
      "\u001b[1;32mc:\\users\\dhruvjyoti\\appdata\\local\\programs\\python\\python37\\lib\\site-packages\\tensorflow_core\\python\\eager\\function.py\u001b[0m in \u001b[0;36m__call__\u001b[1;34m(self, *args, **kwargs)\u001b[0m\n\u001b[0;32m   1549\u001b[0m       \u001b[0mTypeError\u001b[0m\u001b[1;33m:\u001b[0m \u001b[0mFor\u001b[0m \u001b[0minvalid\u001b[0m \u001b[0mpositional\u001b[0m\u001b[1;33m/\u001b[0m\u001b[0mkeyword\u001b[0m \u001b[0margument\u001b[0m \u001b[0mcombinations\u001b[0m\u001b[1;33m.\u001b[0m\u001b[1;33m\u001b[0m\u001b[1;33m\u001b[0m\u001b[0m\n\u001b[0;32m   1550\u001b[0m     \"\"\"\n\u001b[1;32m-> 1551\u001b[1;33m     \u001b[1;32mreturn\u001b[0m \u001b[0mself\u001b[0m\u001b[1;33m.\u001b[0m\u001b[0m_call_impl\u001b[0m\u001b[1;33m(\u001b[0m\u001b[0margs\u001b[0m\u001b[1;33m,\u001b[0m \u001b[0mkwargs\u001b[0m\u001b[1;33m)\u001b[0m\u001b[1;33m\u001b[0m\u001b[1;33m\u001b[0m\u001b[0m\n\u001b[0m\u001b[0;32m   1552\u001b[0m \u001b[1;33m\u001b[0m\u001b[0m\n\u001b[0;32m   1553\u001b[0m   \u001b[1;32mdef\u001b[0m \u001b[0m_call_impl\u001b[0m\u001b[1;33m(\u001b[0m\u001b[0mself\u001b[0m\u001b[1;33m,\u001b[0m \u001b[0margs\u001b[0m\u001b[1;33m,\u001b[0m \u001b[0mkwargs\u001b[0m\u001b[1;33m,\u001b[0m \u001b[0mcancellation_manager\u001b[0m\u001b[1;33m=\u001b[0m\u001b[1;32mNone\u001b[0m\u001b[1;33m)\u001b[0m\u001b[1;33m:\u001b[0m\u001b[1;33m\u001b[0m\u001b[1;33m\u001b[0m\u001b[0m\n",
      "\u001b[1;32mc:\\users\\dhruvjyoti\\appdata\\local\\programs\\python\\python37\\lib\\site-packages\\tensorflow_core\\python\\eager\\function.py\u001b[0m in \u001b[0;36m_call_impl\u001b[1;34m(self, args, kwargs, cancellation_manager)\u001b[0m\n\u001b[0;32m   1589\u001b[0m       raise TypeError(\"Keyword arguments {} unknown. Expected {}.\".format(\n\u001b[0;32m   1590\u001b[0m           list(kwargs.keys()), list(self._arg_keywords)))\n\u001b[1;32m-> 1591\u001b[1;33m     \u001b[1;32mreturn\u001b[0m \u001b[0mself\u001b[0m\u001b[1;33m.\u001b[0m\u001b[0m_call_flat\u001b[0m\u001b[1;33m(\u001b[0m\u001b[0margs\u001b[0m\u001b[1;33m,\u001b[0m \u001b[0mself\u001b[0m\u001b[1;33m.\u001b[0m\u001b[0mcaptured_inputs\u001b[0m\u001b[1;33m,\u001b[0m \u001b[0mcancellation_manager\u001b[0m\u001b[1;33m)\u001b[0m\u001b[1;33m\u001b[0m\u001b[1;33m\u001b[0m\u001b[0m\n\u001b[0m\u001b[0;32m   1592\u001b[0m \u001b[1;33m\u001b[0m\u001b[0m\n\u001b[0;32m   1593\u001b[0m   \u001b[1;32mdef\u001b[0m \u001b[0m_filtered_call\u001b[0m\u001b[1;33m(\u001b[0m\u001b[0mself\u001b[0m\u001b[1;33m,\u001b[0m \u001b[0margs\u001b[0m\u001b[1;33m,\u001b[0m \u001b[0mkwargs\u001b[0m\u001b[1;33m)\u001b[0m\u001b[1;33m:\u001b[0m\u001b[1;33m\u001b[0m\u001b[1;33m\u001b[0m\u001b[0m\n",
      "\u001b[1;32mc:\\users\\dhruvjyoti\\appdata\\local\\programs\\python\\python37\\lib\\site-packages\\tensorflow_core\\python\\eager\\function.py\u001b[0m in \u001b[0;36m_call_flat\u001b[1;34m(self, args, captured_inputs, cancellation_manager)\u001b[0m\n\u001b[0;32m   1690\u001b[0m       \u001b[1;31m# No tape is watching; skip to running the function.\u001b[0m\u001b[1;33m\u001b[0m\u001b[1;33m\u001b[0m\u001b[1;33m\u001b[0m\u001b[0m\n\u001b[0;32m   1691\u001b[0m       return self._build_call_outputs(self._inference_function.call(\n\u001b[1;32m-> 1692\u001b[1;33m           ctx, args, cancellation_manager=cancellation_manager))\n\u001b[0m\u001b[0;32m   1693\u001b[0m     forward_backward = self._select_forward_and_backward_functions(\n\u001b[0;32m   1694\u001b[0m         \u001b[0margs\u001b[0m\u001b[1;33m,\u001b[0m\u001b[1;33m\u001b[0m\u001b[1;33m\u001b[0m\u001b[0m\n",
      "\u001b[1;32mc:\\users\\dhruvjyoti\\appdata\\local\\programs\\python\\python37\\lib\\site-packages\\tensorflow_core\\python\\eager\\function.py\u001b[0m in \u001b[0;36mcall\u001b[1;34m(self, ctx, args, cancellation_manager)\u001b[0m\n\u001b[0;32m    543\u001b[0m               \u001b[0minputs\u001b[0m\u001b[1;33m=\u001b[0m\u001b[0margs\u001b[0m\u001b[1;33m,\u001b[0m\u001b[1;33m\u001b[0m\u001b[1;33m\u001b[0m\u001b[0m\n\u001b[0;32m    544\u001b[0m               \u001b[0mattrs\u001b[0m\u001b[1;33m=\u001b[0m\u001b[1;33m(\u001b[0m\u001b[1;34m\"executor_type\"\u001b[0m\u001b[1;33m,\u001b[0m \u001b[0mexecutor_type\u001b[0m\u001b[1;33m,\u001b[0m \u001b[1;34m\"config_proto\"\u001b[0m\u001b[1;33m,\u001b[0m \u001b[0mconfig\u001b[0m\u001b[1;33m)\u001b[0m\u001b[1;33m,\u001b[0m\u001b[1;33m\u001b[0m\u001b[1;33m\u001b[0m\u001b[0m\n\u001b[1;32m--> 545\u001b[1;33m               ctx=ctx)\n\u001b[0m\u001b[0;32m    546\u001b[0m         \u001b[1;32melse\u001b[0m\u001b[1;33m:\u001b[0m\u001b[1;33m\u001b[0m\u001b[1;33m\u001b[0m\u001b[0m\n\u001b[0;32m    547\u001b[0m           outputs = execute.execute_with_cancellation(\n",
      "\u001b[1;32mc:\\users\\dhruvjyoti\\appdata\\local\\programs\\python\\python37\\lib\\site-packages\\tensorflow_core\\python\\eager\\execute.py\u001b[0m in \u001b[0;36mquick_execute\u001b[1;34m(op_name, num_outputs, inputs, attrs, ctx, name)\u001b[0m\n\u001b[0;32m     59\u001b[0m     tensors = pywrap_tensorflow.TFE_Py_Execute(ctx._handle, device_name,\n\u001b[0;32m     60\u001b[0m                                                \u001b[0mop_name\u001b[0m\u001b[1;33m,\u001b[0m \u001b[0minputs\u001b[0m\u001b[1;33m,\u001b[0m \u001b[0mattrs\u001b[0m\u001b[1;33m,\u001b[0m\u001b[1;33m\u001b[0m\u001b[1;33m\u001b[0m\u001b[0m\n\u001b[1;32m---> 61\u001b[1;33m                                                num_outputs)\n\u001b[0m\u001b[0;32m     62\u001b[0m   \u001b[1;32mexcept\u001b[0m \u001b[0mcore\u001b[0m\u001b[1;33m.\u001b[0m\u001b[0m_NotOkStatusException\u001b[0m \u001b[1;32mas\u001b[0m \u001b[0me\u001b[0m\u001b[1;33m:\u001b[0m\u001b[1;33m\u001b[0m\u001b[1;33m\u001b[0m\u001b[0m\n\u001b[0;32m     63\u001b[0m     \u001b[1;32mif\u001b[0m \u001b[0mname\u001b[0m \u001b[1;32mis\u001b[0m \u001b[1;32mnot\u001b[0m \u001b[1;32mNone\u001b[0m\u001b[1;33m:\u001b[0m\u001b[1;33m\u001b[0m\u001b[1;33m\u001b[0m\u001b[0m\n",
      "\u001b[1;31mKeyboardInterrupt\u001b[0m: "
     ]
    }
   ],
   "source": [
    "#fine tune\n",
    "history=model.fit(XL_train,yL_train,\n",
    "                epochs=300,\n",
    "                batch_size=256,\n",
    "                shuffle=True,\n",
    "                validation_data=(XL_val, yL_val))"
   ]
  },
  {
   "cell_type": "code",
   "execution_count": 54,
   "metadata": {},
   "outputs": [
    {
     "name": "stdout",
     "output_type": "stream",
     "text": [
      "22700/22700 [==============================] - 1s 33us/step\n"
     ]
    },
    {
     "data": {
      "text/plain": [
       "[1.6652489478997723, 0.5479295253753662]"
      ]
     },
     "execution_count": 54,
     "metadata": {},
     "output_type": "execute_result"
    }
   ],
   "source": [
    "model.evaluate(XL_test,yL_test)"
   ]
  },
  {
   "cell_type": "code",
   "execution_count": null,
   "metadata": {},
   "outputs": [],
   "source": []
  },
  {
   "cell_type": "code",
   "execution_count": null,
   "metadata": {},
   "outputs": [],
   "source": []
  },
  {
   "cell_type": "code",
   "execution_count": 140,
   "metadata": {},
   "outputs": [
    {
     "data": {
      "text/plain": [
       "[<matplotlib.lines.Line2D at 0x1eea0fad278>]"
      ]
     },
     "execution_count": 140,
     "metadata": {},
     "output_type": "execute_result"
    },
    {
     "data": {
      "image/png": "[encoded data removed]",
      "text/plain": [
       "<Figure size 432x288 with 1 Axes>"
      ]
     },
     "metadata": {},
     "output_type": "display_data"
    }
   ],
   "source": [
    "plt.plot(history.history['accuracy'])\n",
    "plt.plot(history.history['val_accuracy'])"
   ]
  },
  {
   "cell_type": "markdown",
   "metadata": {},
   "source": [
    "# 5. Results"
   ]
  },
  {
   "cell_type": "code",
   "execution_count": 141,
   "metadata": {},
   "outputs": [
    {
     "data": {
      "text/plain": [
       "array([[1.2913923e-14, 3.0351409e-16, 3.5164938e-21, ..., 1.1380052e-18,\n",
       "        1.9137769e-11, 4.1763305e-06],\n",
       "       [4.9162604e-04, 9.3076178e-09, 4.8519864e-12, ..., 3.2606172e-07,\n",
       "        3.5962557e-07, 1.3435394e-07],\n",
       "       [7.1954773e-08, 4.8477481e-21, 7.7184126e-23, ..., 5.1185622e-10,\n",
       "        1.1683595e-08, 1.3112775e-10],\n",
       "       ...,\n",
       "       [1.8238999e-11, 9.9996948e-01, 4.2627728e-09, ..., 7.0772365e-13,\n",
       "        2.0799262e-11, 1.6600808e-08],\n",
       "       [6.2613909e-10, 7.3030949e-11, 3.5931952e-17, ..., 7.5679242e-13,\n",
       "        5.4761886e-06, 2.3616825e-12],\n",
       "       [4.9030415e-11, 6.1379789e-15, 3.0997163e-10, ..., 1.5042368e-11,\n",
       "        2.5878926e-12, 1.0793907e-05]], dtype=float32)"
      ]
     },
     "execution_count": 141,
     "metadata": {},
     "output_type": "execute_result"
    }
   ],
   "source": [
    "y_pred=model.predict(XL_test)\n",
    "y_pred"
   ]
  },
  {
   "cell_type": "code",
   "execution_count": 142,
   "metadata": {},
   "outputs": [],
   "source": [
    "y_pred1=y_pred.argmax(axis=1)\n",
    "y_pred1=np.append(y_pred1,np.arange(42))\n",
    "y_pred1=pd.get_dummies(y_pred1,columns=yL_train.columns)\n",
    "y_pred1.columns=yL_test.columns\n",
    "y_pred1=y_pred1.iloc[:-42]"
   ]
  },
  {
   "cell_type": "code",
   "execution_count": null,
   "metadata": {},
   "outputs": [],
   "source": []
  },
  {
   "cell_type": "code",
   "execution_count": 143,
   "metadata": {},
   "outputs": [
    {
     "data": {
      "text/plain": [
       "22700"
      ]
     },
     "execution_count": 143,
     "metadata": {},
     "output_type": "execute_result"
    }
   ],
   "source": [
    "(yL_test!=0).sum().sum()"
   ]
  },
  {
   "cell_type": "code",
   "execution_count": 144,
   "metadata": {},
   "outputs": [],
   "source": [
    "#y_test1 = yL_test.columns[np.where(yL_test!=0)[1]]"
   ]
  },
  {
   "cell_type": "code",
   "execution_count": 145,
   "metadata": {},
   "outputs": [],
   "source": [
    "#y_test1"
   ]
  },
  {
   "cell_type": "code",
   "execution_count": 30,
   "metadata": {},
   "outputs": [],
   "source": [
    "import seaborn as sns\n",
    "from sklearn.metrics import confusion_matrix\n",
    "from sklearn.metrics import accuracy_score\n",
    "from sklearn.metrics import f1_score"
   ]
  },
  {
   "cell_type": "code",
   "execution_count": 147,
   "metadata": {},
   "outputs": [
    {
     "data": {
      "text/plain": [
       "AMAZON            600\n",
       "APPLE             496\n",
       "APPLE_ICLOUD      477\n",
       "APPLE_ITUNES      517\n",
       "CITRIX_ONLINE     477\n",
       "CLOUDFLARE        472\n",
       "CONTENT_FLASH     521\n",
       "DNS               481\n",
       "DROPBOX           481\n",
       "EASYTAXI          528\n",
       "EBAY              513\n",
       "FACEBOOK          523\n",
       "FTP_DATA          483\n",
       "GMAIL             502\n",
       "GOOGLE            623\n",
       "GOOGLE_MAPS       476\n",
       "H323              486\n",
       "HTTP              602\n",
       "HTTP_CONNECT      596\n",
       "HTTP_DOWNLOAD     495\n",
       "HTTP_PROXY        616\n",
       "INSTAGRAM         485\n",
       "IP_ICMP           467\n",
       "LASTFM            495\n",
       "MICROSOFT         492\n",
       "MQTT              501\n",
       "MSN               513\n",
       "MSSQL             511\n",
       "MS_ONE_DRIVE      551\n",
       "NETFLIX           522\n",
       "NTP               491\n",
       "OFFICE_365        529\n",
       "SKYPE             484\n",
       "SPOTIFY           506\n",
       "SSL               596\n",
       "SSL_NO_CERT       505\n",
       "TEAMVIEWER        496\n",
       "TOR               502\n",
       "TWITTER           501\n",
       "WHATSAPP          496\n",
       "WIKIPEDIA         475\n",
       "WINDOWS_UPDATE    497\n",
       "YAHOO             493\n",
       "YOUTUBE           627\n",
       "dtype: int64"
      ]
     },
     "execution_count": 147,
     "metadata": {},
     "output_type": "execute_result"
    }
   ],
   "source": [
    "yL_test.sum()"
   ]
  },
  {
   "cell_type": "code",
   "execution_count": null,
   "metadata": {},
   "outputs": [],
   "source": []
  },
  {
   "cell_type": "code",
   "execution_count": 148,
   "metadata": {},
   "outputs": [],
   "source": [
    "#y_pred1=y_pred1.drop(yL_test.sum().index[list(np.where(yL_test.sum()==0)[0])],axis=1)\n",
    "#yL_test=yL_test.drop(yL_test.sum().index[list(np.where(yL_test.sum()==0)[0])],axis=1)"
   ]
  },
  {
   "cell_type": "code",
   "execution_count": 149,
   "metadata": {},
   "outputs": [],
   "source": [
    "y_test1 = yL_test.columns[np.where(yL_test!=0)[1]]"
   ]
  },
  {
   "cell_type": "code",
   "execution_count": 150,
   "metadata": {},
   "outputs": [
    {
     "data": {
      "text/plain": [
       "Index(['GOOGLE_MAPS', 'MSN', 'CONTENT_FLASH', 'FTP_DATA', 'HTTP_PROXY', 'NTP',\n",
       "       'MICROSOFT', 'LASTFM', 'WINDOWS_UPDATE', 'DROPBOX',\n",
       "       ...\n",
       "       'GOOGLE', 'EASYTAXI', 'INSTAGRAM', 'FTP_DATA', 'MSN', 'GOOGLE_MAPS',\n",
       "       'CONTENT_FLASH', 'APPLE', 'FTP_DATA', 'SKYPE'],\n",
       "      dtype='object', length=22700)"
      ]
     },
     "execution_count": 150,
     "metadata": {},
     "output_type": "execute_result"
    }
   ],
   "source": [
    "y_pred1=y_pred1.columns[np.where(y_pred1!=0)[1]]\n",
    "y_pred1"
   ]
  },
  {
   "cell_type": "code",
   "execution_count": 151,
   "metadata": {},
   "outputs": [],
   "source": [
    "cm=confusion_matrix(y_test1,y_pred1,labels=yL_test.columns)"
   ]
  },
  {
   "cell_type": "code",
   "execution_count": 152,
   "metadata": {},
   "outputs": [],
   "source": [
    "cm_pc=pd.DataFrame((cm.T/np.sum(cm,axis=1)).T,columns=yL_test.columns,index=yL_test.columns)\n",
    "cm_pc=cm_pc.replace(np.nan,0)\n"
   ]
  },
  {
   "cell_type": "code",
   "execution_count": 153,
   "metadata": {},
   "outputs": [
    {
     "data": {
      "image/png": "[encoded data removed]",
      "text/plain": [
       "<Figure size 2520x1800 with 2 Axes>"
      ]
     },
     "metadata": {},
     "output_type": "display_data"
    }
   ],
   "source": [
    "plt.figure(figsize=(35,25))\n",
    "df_cm=pd.DataFrame(cm,columns=yL_test.columns,index=yL_test.columns)\n",
    "sns.set(font_scale=1.0)\n",
    "sns.heatmap(cm_pc, annot=True,fmt='.1%',cmap=sns.color_palette(\"Reds\",50)) # font size\n",
    "plt.show()"
   ]
  },
  {
   "cell_type": "code",
   "execution_count": 154,
   "metadata": {},
   "outputs": [
    {
     "name": "stdout",
     "output_type": "stream",
     "text": [
      "Test Accuracy : 0.8905286343612335\n"
     ]
    }
   ],
   "source": [
    "print('Test Accuracy : '+str(accuracy_score(y_test1, y_pred1)))"
   ]
  },
  {
   "cell_type": "code",
   "execution_count": 155,
   "metadata": {},
   "outputs": [
    {
     "name": "stdout",
     "output_type": "stream",
     "text": [
      "weighted F1 Score : 0.8951018519503067\n",
      "Macro F1 Score : 0.8955458003918594\n",
      "Micro F1 Score : 0.8905286343612335\n",
      "F1 Scores : \n"
     ]
    },
    {
     "data": {
      "text/html": [
       "<div>\n",
       "<style scoped>\n",
       "    .dataframe tbody tr th:only-of-type {\n",
       "        vertical-align: middle;\n",
       "    }\n",
       "\n",
       "    .dataframe tbody tr th {\n",
       "        vertical-align: top;\n",
       "    }\n",
       "\n",
       "    .dataframe thead th {\n",
       "        text-align: right;\n",
       "    }\n",
       "</style>\n",
       "<table border=\"1\" class=\"dataframe\">\n",
       "  <thead>\n",
       "    <tr style=\"text-align: right;\">\n",
       "      <th></th>\n",
       "      <th>F1-score</th>\n",
       "    </tr>\n",
       "  </thead>\n",
       "  <tbody>\n",
       "    <tr>\n",
       "      <th>AMAZON</th>\n",
       "      <td>0.865272</td>\n",
       "    </tr>\n",
       "    <tr>\n",
       "      <th>APPLE</th>\n",
       "      <td>0.945919</td>\n",
       "    </tr>\n",
       "    <tr>\n",
       "      <th>APPLE_ICLOUD</th>\n",
       "      <td>0.989627</td>\n",
       "    </tr>\n",
       "    <tr>\n",
       "      <th>APPLE_ITUNES</th>\n",
       "      <td>0.959459</td>\n",
       "    </tr>\n",
       "    <tr>\n",
       "      <th>CITRIX_ONLINE</th>\n",
       "      <td>0.998953</td>\n",
       "    </tr>\n",
       "    <tr>\n",
       "      <th>CLOUDFLARE</th>\n",
       "      <td>0.960905</td>\n",
       "    </tr>\n",
       "    <tr>\n",
       "      <th>CONTENT_FLASH</th>\n",
       "      <td>0.993314</td>\n",
       "    </tr>\n",
       "    <tr>\n",
       "      <th>DNS</th>\n",
       "      <td>0.996891</td>\n",
       "    </tr>\n",
       "    <tr>\n",
       "      <th>DROPBOX</th>\n",
       "      <td>0.950617</td>\n",
       "    </tr>\n",
       "    <tr>\n",
       "      <th>EASYTAXI</th>\n",
       "      <td>0.996226</td>\n",
       "    </tr>\n",
       "    <tr>\n",
       "      <th>EBAY</th>\n",
       "      <td>0.939227</td>\n",
       "    </tr>\n",
       "    <tr>\n",
       "      <th>FACEBOOK</th>\n",
       "      <td>0.912603</td>\n",
       "    </tr>\n",
       "    <tr>\n",
       "      <th>FTP_DATA</th>\n",
       "      <td>0.983707</td>\n",
       "    </tr>\n",
       "    <tr>\n",
       "      <th>GMAIL</th>\n",
       "      <td>0.651256</td>\n",
       "    </tr>\n",
       "    <tr>\n",
       "      <th>GOOGLE</th>\n",
       "      <td>0.455718</td>\n",
       "    </tr>\n",
       "    <tr>\n",
       "      <th>GOOGLE_MAPS</th>\n",
       "      <td>0.983471</td>\n",
       "    </tr>\n",
       "    <tr>\n",
       "      <th>H323</th>\n",
       "      <td>0.997947</td>\n",
       "    </tr>\n",
       "    <tr>\n",
       "      <th>HTTP</th>\n",
       "      <td>0.734970</td>\n",
       "    </tr>\n",
       "    <tr>\n",
       "      <th>HTTP_CONNECT</th>\n",
       "      <td>0.536713</td>\n",
       "    </tr>\n",
       "    <tr>\n",
       "      <th>HTTP_DOWNLOAD</th>\n",
       "      <td>0.993976</td>\n",
       "    </tr>\n",
       "    <tr>\n",
       "      <th>HTTP_PROXY</th>\n",
       "      <td>0.599638</td>\n",
       "    </tr>\n",
       "    <tr>\n",
       "      <th>INSTAGRAM</th>\n",
       "      <td>0.985772</td>\n",
       "    </tr>\n",
       "    <tr>\n",
       "      <th>IP_ICMP</th>\n",
       "      <td>1.000000</td>\n",
       "    </tr>\n",
       "    <tr>\n",
       "      <th>LASTFM</th>\n",
       "      <td>0.991984</td>\n",
       "    </tr>\n",
       "    <tr>\n",
       "      <th>MICROSOFT</th>\n",
       "      <td>0.665208</td>\n",
       "    </tr>\n",
       "    <tr>\n",
       "      <th>MQTT</th>\n",
       "      <td>0.994048</td>\n",
       "    </tr>\n",
       "    <tr>\n",
       "      <th>MSN</th>\n",
       "      <td>0.898336</td>\n",
       "    </tr>\n",
       "    <tr>\n",
       "      <th>MSSQL</th>\n",
       "      <td>0.999022</td>\n",
       "    </tr>\n",
       "    <tr>\n",
       "      <th>MS_ONE_DRIVE</th>\n",
       "      <td>0.991899</td>\n",
       "    </tr>\n",
       "    <tr>\n",
       "      <th>NETFLIX</th>\n",
       "      <td>0.986767</td>\n",
       "    </tr>\n",
       "    <tr>\n",
       "      <th>NTP</th>\n",
       "      <td>1.000000</td>\n",
       "    </tr>\n",
       "    <tr>\n",
       "      <th>OFFICE_365</th>\n",
       "      <td>0.948135</td>\n",
       "    </tr>\n",
       "    <tr>\n",
       "      <th>SKYPE</th>\n",
       "      <td>0.797056</td>\n",
       "    </tr>\n",
       "    <tr>\n",
       "      <th>SPOTIFY</th>\n",
       "      <td>0.995084</td>\n",
       "    </tr>\n",
       "    <tr>\n",
       "      <th>SSL</th>\n",
       "      <td>0.584354</td>\n",
       "    </tr>\n",
       "    <tr>\n",
       "      <th>SSL_NO_CERT</th>\n",
       "      <td>0.987292</td>\n",
       "    </tr>\n",
       "    <tr>\n",
       "      <th>TEAMVIEWER</th>\n",
       "      <td>0.995984</td>\n",
       "    </tr>\n",
       "    <tr>\n",
       "      <th>TOR</th>\n",
       "      <td>0.994059</td>\n",
       "    </tr>\n",
       "    <tr>\n",
       "      <th>TWITTER</th>\n",
       "      <td>0.848138</td>\n",
       "    </tr>\n",
       "    <tr>\n",
       "      <th>WHATSAPP</th>\n",
       "      <td>0.961877</td>\n",
       "    </tr>\n",
       "    <tr>\n",
       "      <th>WIKIPEDIA</th>\n",
       "      <td>0.962513</td>\n",
       "    </tr>\n",
       "    <tr>\n",
       "      <th>WINDOWS_UPDATE</th>\n",
       "      <td>0.903674</td>\n",
       "    </tr>\n",
       "    <tr>\n",
       "      <th>YAHOO</th>\n",
       "      <td>0.906130</td>\n",
       "    </tr>\n",
       "    <tr>\n",
       "      <th>YOUTUBE</th>\n",
       "      <td>0.560272</td>\n",
       "    </tr>\n",
       "  </tbody>\n",
       "</table>\n",
       "</div>"
      ],
      "text/plain": [
       "                F1-score\n",
       "AMAZON          0.865272\n",
       "APPLE           0.945919\n",
       "APPLE_ICLOUD    0.989627\n",
       "APPLE_ITUNES    0.959459\n",
       "CITRIX_ONLINE   0.998953\n",
       "CLOUDFLARE      0.960905\n",
       "CONTENT_FLASH   0.993314\n",
       "DNS             0.996891\n",
       "DROPBOX         0.950617\n",
       "EASYTAXI        0.996226\n",
       "EBAY            0.939227\n",
       "FACEBOOK        0.912603\n",
       "FTP_DATA        0.983707\n",
       "GMAIL           0.651256\n",
       "GOOGLE          0.455718\n",
       "GOOGLE_MAPS     0.983471\n",
       "H323            0.997947\n",
       "HTTP            0.734970\n",
       "HTTP_CONNECT    0.536713\n",
       "HTTP_DOWNLOAD   0.993976\n",
       "HTTP_PROXY      0.599638\n",
       "INSTAGRAM       0.985772\n",
       "IP_ICMP         1.000000\n",
       "LASTFM          0.991984\n",
       "MICROSOFT       0.665208\n",
       "MQTT            0.994048\n",
       "MSN             0.898336\n",
       "MSSQL           0.999022\n",
       "MS_ONE_DRIVE    0.991899\n",
       "NETFLIX         0.986767\n",
       "NTP             1.000000\n",
       "OFFICE_365      0.948135\n",
       "SKYPE           0.797056\n",
       "SPOTIFY         0.995084\n",
       "SSL             0.584354\n",
       "SSL_NO_CERT     0.987292\n",
       "TEAMVIEWER      0.995984\n",
       "TOR             0.994059\n",
       "TWITTER         0.848138\n",
       "WHATSAPP        0.961877\n",
       "WIKIPEDIA       0.962513\n",
       "WINDOWS_UPDATE  0.903674\n",
       "YAHOO           0.906130\n",
       "YOUTUBE         0.560272"
      ]
     },
     "execution_count": 155,
     "metadata": {},
     "output_type": "execute_result"
    }
   ],
   "source": [
    "print('weighted F1 Score : ' + str(f1_score(y_pred1,y_test1,average = 'weighted')))\n",
    "print('Macro F1 Score : ' + str(f1_score(y_pred1,y_test1,average = 'macro')))\n",
    "print('Micro F1 Score : ' + str(f1_score(y_pred1,y_test1,average = 'micro')))\n",
    "print('F1 Scores : ' )\n",
    "pd.DataFrame(f1_score(y_pred1,y_test1,labels=yL_test.columns,average = None),columns=['F1-score'],index=yL_test.columns)"
   ]
  },
  {
   "cell_type": "code",
   "execution_count": 156,
   "metadata": {},
   "outputs": [
    {
     "data": {
      "text/plain": [
       "44"
      ]
     },
     "execution_count": 156,
     "metadata": {},
     "output_type": "execute_result"
    }
   ],
   "source": [
    "len(yL_train.columns)# No. of distinct labels"
   ]
  },
  {
   "cell_type": "code",
   "execution_count": 29,
   "metadata": {},
   "outputs": [],
   "source": [
    "from sklearn.metrics import precision_score\n",
    "from sklearn.metrics import recall_score"
   ]
  },
  {
   "cell_type": "code",
   "execution_count": 158,
   "metadata": {},
   "outputs": [
    {
     "name": "stdout",
     "output_type": "stream",
     "text": [
      "Macro Presicion : 0.8917709309544887\n",
      "Micro Presicion : 0.8905286343612335\n",
      "Weighted Presicion : 0.883588131048132\n",
      "Precision Scores : \n"
     ]
    },
    {
     "data": {
      "text/html": [
       "<div>\n",
       "<style scoped>\n",
       "    .dataframe tbody tr th:only-of-type {\n",
       "        vertical-align: middle;\n",
       "    }\n",
       "\n",
       "    .dataframe tbody tr th {\n",
       "        vertical-align: top;\n",
       "    }\n",
       "\n",
       "    .dataframe thead th {\n",
       "        text-align: right;\n",
       "    }\n",
       "</style>\n",
       "<table border=\"1\" class=\"dataframe\">\n",
       "  <thead>\n",
       "    <tr style=\"text-align: right;\">\n",
       "      <th></th>\n",
       "      <th>Precision-score</th>\n",
       "    </tr>\n",
       "  </thead>\n",
       "  <tbody>\n",
       "    <tr>\n",
       "      <th>AMAZON</th>\n",
       "      <td>0.861667</td>\n",
       "    </tr>\n",
       "    <tr>\n",
       "      <th>APPLE</th>\n",
       "      <td>0.969758</td>\n",
       "    </tr>\n",
       "    <tr>\n",
       "      <th>APPLE_ICLOUD</th>\n",
       "      <td>1.000000</td>\n",
       "    </tr>\n",
       "    <tr>\n",
       "      <th>APPLE_ITUNES</th>\n",
       "      <td>0.961315</td>\n",
       "    </tr>\n",
       "    <tr>\n",
       "      <th>CITRIX_ONLINE</th>\n",
       "      <td>1.000000</td>\n",
       "    </tr>\n",
       "    <tr>\n",
       "      <th>CLOUDFLARE</th>\n",
       "      <td>0.989407</td>\n",
       "    </tr>\n",
       "    <tr>\n",
       "      <th>CONTENT_FLASH</th>\n",
       "      <td>0.998081</td>\n",
       "    </tr>\n",
       "    <tr>\n",
       "      <th>DNS</th>\n",
       "      <td>1.000000</td>\n",
       "    </tr>\n",
       "    <tr>\n",
       "      <th>DROPBOX</th>\n",
       "      <td>0.960499</td>\n",
       "    </tr>\n",
       "    <tr>\n",
       "      <th>EASYTAXI</th>\n",
       "      <td>1.000000</td>\n",
       "    </tr>\n",
       "    <tr>\n",
       "      <th>EBAY</th>\n",
       "      <td>0.994152</td>\n",
       "    </tr>\n",
       "    <tr>\n",
       "      <th>FACEBOOK</th>\n",
       "      <td>0.948375</td>\n",
       "    </tr>\n",
       "    <tr>\n",
       "      <th>FTP_DATA</th>\n",
       "      <td>1.000000</td>\n",
       "    </tr>\n",
       "    <tr>\n",
       "      <th>GMAIL</th>\n",
       "      <td>0.645418</td>\n",
       "    </tr>\n",
       "    <tr>\n",
       "      <th>GOOGLE</th>\n",
       "      <td>0.425361</td>\n",
       "    </tr>\n",
       "    <tr>\n",
       "      <th>GOOGLE_MAPS</th>\n",
       "      <td>1.000000</td>\n",
       "    </tr>\n",
       "    <tr>\n",
       "      <th>H323</th>\n",
       "      <td>1.000000</td>\n",
       "    </tr>\n",
       "    <tr>\n",
       "      <th>HTTP</th>\n",
       "      <td>0.720930</td>\n",
       "    </tr>\n",
       "    <tr>\n",
       "      <th>HTTP_CONNECT</th>\n",
       "      <td>0.515101</td>\n",
       "    </tr>\n",
       "    <tr>\n",
       "      <th>HTTP_DOWNLOAD</th>\n",
       "      <td>1.000000</td>\n",
       "    </tr>\n",
       "    <tr>\n",
       "      <th>HTTP_PROXY</th>\n",
       "      <td>0.537338</td>\n",
       "    </tr>\n",
       "    <tr>\n",
       "      <th>INSTAGRAM</th>\n",
       "      <td>1.000000</td>\n",
       "    </tr>\n",
       "    <tr>\n",
       "      <th>IP_ICMP</th>\n",
       "      <td>1.000000</td>\n",
       "    </tr>\n",
       "    <tr>\n",
       "      <th>LASTFM</th>\n",
       "      <td>1.000000</td>\n",
       "    </tr>\n",
       "    <tr>\n",
       "      <th>MICROSOFT</th>\n",
       "      <td>0.617886</td>\n",
       "    </tr>\n",
       "    <tr>\n",
       "      <th>MQTT</th>\n",
       "      <td>1.000000</td>\n",
       "    </tr>\n",
       "    <tr>\n",
       "      <th>MSN</th>\n",
       "      <td>0.947368</td>\n",
       "    </tr>\n",
       "    <tr>\n",
       "      <th>MSSQL</th>\n",
       "      <td>1.000000</td>\n",
       "    </tr>\n",
       "    <tr>\n",
       "      <th>MS_ONE_DRIVE</th>\n",
       "      <td>1.000000</td>\n",
       "    </tr>\n",
       "    <tr>\n",
       "      <th>NETFLIX</th>\n",
       "      <td>1.000000</td>\n",
       "    </tr>\n",
       "    <tr>\n",
       "      <th>NTP</th>\n",
       "      <td>1.000000</td>\n",
       "    </tr>\n",
       "    <tr>\n",
       "      <th>OFFICE_365</th>\n",
       "      <td>0.984877</td>\n",
       "    </tr>\n",
       "    <tr>\n",
       "      <th>SKYPE</th>\n",
       "      <td>0.783058</td>\n",
       "    </tr>\n",
       "    <tr>\n",
       "      <th>SPOTIFY</th>\n",
       "      <td>1.000000</td>\n",
       "    </tr>\n",
       "    <tr>\n",
       "      <th>SSL</th>\n",
       "      <td>0.520134</td>\n",
       "    </tr>\n",
       "    <tr>\n",
       "      <th>SSL_NO_CERT</th>\n",
       "      <td>1.000000</td>\n",
       "    </tr>\n",
       "    <tr>\n",
       "      <th>TEAMVIEWER</th>\n",
       "      <td>1.000000</td>\n",
       "    </tr>\n",
       "    <tr>\n",
       "      <th>TOR</th>\n",
       "      <td>1.000000</td>\n",
       "    </tr>\n",
       "    <tr>\n",
       "      <th>TWITTER</th>\n",
       "      <td>0.886228</td>\n",
       "    </tr>\n",
       "    <tr>\n",
       "      <th>WHATSAPP</th>\n",
       "      <td>0.991935</td>\n",
       "    </tr>\n",
       "    <tr>\n",
       "      <th>WIKIPEDIA</th>\n",
       "      <td>1.000000</td>\n",
       "    </tr>\n",
       "    <tr>\n",
       "      <th>WINDOWS_UPDATE</th>\n",
       "      <td>0.915493</td>\n",
       "    </tr>\n",
       "    <tr>\n",
       "      <th>YAHOO</th>\n",
       "      <td>0.959432</td>\n",
       "    </tr>\n",
       "    <tr>\n",
       "      <th>YOUTUBE</th>\n",
       "      <td>0.526316</td>\n",
       "    </tr>\n",
       "  </tbody>\n",
       "</table>\n",
       "</div>"
      ],
      "text/plain": [
       "                Precision-score\n",
       "AMAZON                 0.861667\n",
       "APPLE                  0.969758\n",
       "APPLE_ICLOUD           1.000000\n",
       "APPLE_ITUNES           0.961315\n",
       "CITRIX_ONLINE          1.000000\n",
       "CLOUDFLARE             0.989407\n",
       "CONTENT_FLASH          0.998081\n",
       "DNS                    1.000000\n",
       "DROPBOX                0.960499\n",
       "EASYTAXI               1.000000\n",
       "EBAY                   0.994152\n",
       "FACEBOOK               0.948375\n",
       "FTP_DATA               1.000000\n",
       "GMAIL                  0.645418\n",
       "GOOGLE                 0.425361\n",
       "GOOGLE_MAPS            1.000000\n",
       "H323                   1.000000\n",
       "HTTP                   0.720930\n",
       "HTTP_CONNECT           0.515101\n",
       "HTTP_DOWNLOAD          1.000000\n",
       "HTTP_PROXY             0.537338\n",
       "INSTAGRAM              1.000000\n",
       "IP_ICMP                1.000000\n",
       "LASTFM                 1.000000\n",
       "MICROSOFT              0.617886\n",
       "MQTT                   1.000000\n",
       "MSN                    0.947368\n",
       "MSSQL                  1.000000\n",
       "MS_ONE_DRIVE           1.000000\n",
       "NETFLIX                1.000000\n",
       "NTP                    1.000000\n",
       "OFFICE_365             0.984877\n",
       "SKYPE                  0.783058\n",
       "SPOTIFY                1.000000\n",
       "SSL                    0.520134\n",
       "SSL_NO_CERT            1.000000\n",
       "TEAMVIEWER             1.000000\n",
       "TOR                    1.000000\n",
       "TWITTER                0.886228\n",
       "WHATSAPP               0.991935\n",
       "WIKIPEDIA              1.000000\n",
       "WINDOWS_UPDATE         0.915493\n",
       "YAHOO                  0.959432\n",
       "YOUTUBE                0.526316"
      ]
     },
     "execution_count": 158,
     "metadata": {},
     "output_type": "execute_result"
    }
   ],
   "source": [
    "print('Macro Presicion : '+str(precision_score(y_test1, y_pred1,average=\"macro\")))\n",
    "print('Micro Presicion : '+str(precision_score(y_test1, y_pred1,average=\"micro\")))\n",
    "print('Weighted Presicion : '+str(precision_score(y_test1, y_pred1,average=\"weighted\")))\n",
    "print('Precision Scores : ' )\n",
    "pd.DataFrame(precision_score(y_pred1,y_test1,labels=yL_test.columns,average = None),columns=['Precision-score'],index=yL_test.columns)"
   ]
  },
  {
   "cell_type": "code",
   "execution_count": 159,
   "metadata": {},
   "outputs": [
    {
     "name": "stdout",
     "output_type": "stream",
     "text": [
      "Macro Recall : 0.9013665648385332\n",
      "Micro Recall : 0.8905286343612335\n",
      "Weighted Recall : 0.8905286343612335\n",
      "Recall Scores : \n"
     ]
    },
    {
     "data": {
      "text/html": [
       "<div>\n",
       "<style scoped>\n",
       "    .dataframe tbody tr th:only-of-type {\n",
       "        vertical-align: middle;\n",
       "    }\n",
       "\n",
       "    .dataframe tbody tr th {\n",
       "        vertical-align: top;\n",
       "    }\n",
       "\n",
       "    .dataframe thead th {\n",
       "        text-align: right;\n",
       "    }\n",
       "</style>\n",
       "<table border=\"1\" class=\"dataframe\">\n",
       "  <thead>\n",
       "    <tr style=\"text-align: right;\">\n",
       "      <th></th>\n",
       "      <th>recall-score</th>\n",
       "    </tr>\n",
       "  </thead>\n",
       "  <tbody>\n",
       "    <tr>\n",
       "      <th>AMAZON</th>\n",
       "      <td>0.868908</td>\n",
       "    </tr>\n",
       "    <tr>\n",
       "      <th>APPLE</th>\n",
       "      <td>0.923225</td>\n",
       "    </tr>\n",
       "    <tr>\n",
       "      <th>APPLE_ICLOUD</th>\n",
       "      <td>0.979466</td>\n",
       "    </tr>\n",
       "    <tr>\n",
       "      <th>APPLE_ITUNES</th>\n",
       "      <td>0.957611</td>\n",
       "    </tr>\n",
       "    <tr>\n",
       "      <th>CITRIX_ONLINE</th>\n",
       "      <td>0.997908</td>\n",
       "    </tr>\n",
       "    <tr>\n",
       "      <th>CLOUDFLARE</th>\n",
       "      <td>0.934000</td>\n",
       "    </tr>\n",
       "    <tr>\n",
       "      <th>CONTENT_FLASH</th>\n",
       "      <td>0.988593</td>\n",
       "    </tr>\n",
       "    <tr>\n",
       "      <th>DNS</th>\n",
       "      <td>0.993802</td>\n",
       "    </tr>\n",
       "    <tr>\n",
       "      <th>DROPBOX</th>\n",
       "      <td>0.940937</td>\n",
       "    </tr>\n",
       "    <tr>\n",
       "      <th>EASYTAXI</th>\n",
       "      <td>0.992481</td>\n",
       "    </tr>\n",
       "    <tr>\n",
       "      <th>EBAY</th>\n",
       "      <td>0.890052</td>\n",
       "    </tr>\n",
       "    <tr>\n",
       "      <th>FACEBOOK</th>\n",
       "      <td>0.879433</td>\n",
       "    </tr>\n",
       "    <tr>\n",
       "      <th>FTP_DATA</th>\n",
       "      <td>0.967936</td>\n",
       "    </tr>\n",
       "    <tr>\n",
       "      <th>GMAIL</th>\n",
       "      <td>0.657201</td>\n",
       "    </tr>\n",
       "    <tr>\n",
       "      <th>GOOGLE</th>\n",
       "      <td>0.490741</td>\n",
       "    </tr>\n",
       "    <tr>\n",
       "      <th>GOOGLE_MAPS</th>\n",
       "      <td>0.967480</td>\n",
       "    </tr>\n",
       "    <tr>\n",
       "      <th>H323</th>\n",
       "      <td>0.995902</td>\n",
       "    </tr>\n",
       "    <tr>\n",
       "      <th>HTTP</th>\n",
       "      <td>0.749568</td>\n",
       "    </tr>\n",
       "    <tr>\n",
       "      <th>HTTP_CONNECT</th>\n",
       "      <td>0.560219</td>\n",
       "    </tr>\n",
       "    <tr>\n",
       "      <th>HTTP_DOWNLOAD</th>\n",
       "      <td>0.988024</td>\n",
       "    </tr>\n",
       "    <tr>\n",
       "      <th>HTTP_PROXY</th>\n",
       "      <td>0.678279</td>\n",
       "    </tr>\n",
       "    <tr>\n",
       "      <th>INSTAGRAM</th>\n",
       "      <td>0.971944</td>\n",
       "    </tr>\n",
       "    <tr>\n",
       "      <th>IP_ICMP</th>\n",
       "      <td>1.000000</td>\n",
       "    </tr>\n",
       "    <tr>\n",
       "      <th>LASTFM</th>\n",
       "      <td>0.984095</td>\n",
       "    </tr>\n",
       "    <tr>\n",
       "      <th>MICROSOFT</th>\n",
       "      <td>0.720379</td>\n",
       "    </tr>\n",
       "    <tr>\n",
       "      <th>MQTT</th>\n",
       "      <td>0.988166</td>\n",
       "    </tr>\n",
       "    <tr>\n",
       "      <th>MSN</th>\n",
       "      <td>0.854130</td>\n",
       "    </tr>\n",
       "    <tr>\n",
       "      <th>MSSQL</th>\n",
       "      <td>0.998047</td>\n",
       "    </tr>\n",
       "    <tr>\n",
       "      <th>MS_ONE_DRIVE</th>\n",
       "      <td>0.983929</td>\n",
       "    </tr>\n",
       "    <tr>\n",
       "      <th>NETFLIX</th>\n",
       "      <td>0.973881</td>\n",
       "    </tr>\n",
       "    <tr>\n",
       "      <th>NTP</th>\n",
       "      <td>1.000000</td>\n",
       "    </tr>\n",
       "    <tr>\n",
       "      <th>OFFICE_365</th>\n",
       "      <td>0.914035</td>\n",
       "    </tr>\n",
       "    <tr>\n",
       "      <th>SKYPE</th>\n",
       "      <td>0.811563</td>\n",
       "    </tr>\n",
       "    <tr>\n",
       "      <th>SPOTIFY</th>\n",
       "      <td>0.990215</td>\n",
       "    </tr>\n",
       "    <tr>\n",
       "      <th>SSL</th>\n",
       "      <td>0.666667</td>\n",
       "    </tr>\n",
       "    <tr>\n",
       "      <th>SSL_NO_CERT</th>\n",
       "      <td>0.974903</td>\n",
       "    </tr>\n",
       "    <tr>\n",
       "      <th>TEAMVIEWER</th>\n",
       "      <td>0.992000</td>\n",
       "    </tr>\n",
       "    <tr>\n",
       "      <th>TOR</th>\n",
       "      <td>0.988189</td>\n",
       "    </tr>\n",
       "    <tr>\n",
       "      <th>TWITTER</th>\n",
       "      <td>0.813187</td>\n",
       "    </tr>\n",
       "    <tr>\n",
       "      <th>WHATSAPP</th>\n",
       "      <td>0.933586</td>\n",
       "    </tr>\n",
       "    <tr>\n",
       "      <th>WIKIPEDIA</th>\n",
       "      <td>0.927734</td>\n",
       "    </tr>\n",
       "    <tr>\n",
       "      <th>WINDOWS_UPDATE</th>\n",
       "      <td>0.892157</td>\n",
       "    </tr>\n",
       "    <tr>\n",
       "      <th>YAHOO</th>\n",
       "      <td>0.858439</td>\n",
       "    </tr>\n",
       "    <tr>\n",
       "      <th>YOUTUBE</th>\n",
       "      <td>0.598911</td>\n",
       "    </tr>\n",
       "  </tbody>\n",
       "</table>\n",
       "</div>"
      ],
      "text/plain": [
       "                recall-score\n",
       "AMAZON              0.868908\n",
       "APPLE               0.923225\n",
       "APPLE_ICLOUD        0.979466\n",
       "APPLE_ITUNES        0.957611\n",
       "CITRIX_ONLINE       0.997908\n",
       "CLOUDFLARE          0.934000\n",
       "CONTENT_FLASH       0.988593\n",
       "DNS                 0.993802\n",
       "DROPBOX             0.940937\n",
       "EASYTAXI            0.992481\n",
       "EBAY                0.890052\n",
       "FACEBOOK            0.879433\n",
       "FTP_DATA            0.967936\n",
       "GMAIL               0.657201\n",
       "GOOGLE              0.490741\n",
       "GOOGLE_MAPS         0.967480\n",
       "H323                0.995902\n",
       "HTTP                0.749568\n",
       "HTTP_CONNECT        0.560219\n",
       "HTTP_DOWNLOAD       0.988024\n",
       "HTTP_PROXY          0.678279\n",
       "INSTAGRAM           0.971944\n",
       "IP_ICMP             1.000000\n",
       "LASTFM              0.984095\n",
       "MICROSOFT           0.720379\n",
       "MQTT                0.988166\n",
       "MSN                 0.854130\n",
       "MSSQL               0.998047\n",
       "MS_ONE_DRIVE        0.983929\n",
       "NETFLIX             0.973881\n",
       "NTP                 1.000000\n",
       "OFFICE_365          0.914035\n",
       "SKYPE               0.811563\n",
       "SPOTIFY             0.990215\n",
       "SSL                 0.666667\n",
       "SSL_NO_CERT         0.974903\n",
       "TEAMVIEWER          0.992000\n",
       "TOR                 0.988189\n",
       "TWITTER             0.813187\n",
       "WHATSAPP            0.933586\n",
       "WIKIPEDIA           0.927734\n",
       "WINDOWS_UPDATE      0.892157\n",
       "YAHOO               0.858439\n",
       "YOUTUBE             0.598911"
      ]
     },
     "execution_count": 159,
     "metadata": {},
     "output_type": "execute_result"
    }
   ],
   "source": [
    "print('Macro Recall : '+str(recall_score(y_test1, y_pred1,average=\"macro\")))\n",
    "print('Micro Recall : '+str(recall_score(y_test1, y_pred1,average=\"micro\")))\n",
    "print('Weighted Recall : '+str(recall_score(y_test1, y_pred1,average=\"weighted\")))\n",
    "print('Recall Scores : ' )\n",
    "pd.DataFrame(recall_score(y_pred1,y_test1,labels=yL_test.columns,average = None),columns=['recall-score'],index=yL_test.columns)"
   ]
  },
  {
   "cell_type": "code",
   "execution_count": null,
   "metadata": {},
   "outputs": [],
   "source": []
  },
  {
   "cell_type": "code",
   "execution_count": null,
   "metadata": {},
   "outputs": [],
   "source": []
  },
  {
   "cell_type": "markdown",
   "metadata": {},
   "source": [
    "# 6. ML methods"
   ]
  },
  {
   "cell_type": "code",
   "execution_count": null,
   "metadata": {},
   "outputs": [],
   "source": [
    "from sklearn.metrics import precision_score\n",
    "from sklearn.metrics import recall_score\n",
    "from sklearn.metrics import f1_score"
   ]
  },
  {
   "cell_type": "markdown",
   "metadata": {},
   "source": [
    "# RF\n"
   ]
  },
  {
   "cell_type": "code",
   "execution_count": 80,
   "metadata": {},
   "outputs": [
    {
     "data": {
      "text/plain": [
       "RandomForestClassifier(max_features=None, random_state=0)"
      ]
     },
     "execution_count": 80,
     "metadata": {},
     "output_type": "execute_result"
    }
   ],
   "source": [
    "from sklearn.ensemble import RandomForestClassifier\n",
    "clf=RandomForestClassifier(random_state=0,max_features=None)\n",
    "clf.fit(XL_train1,yL_train2)"
   ]
  },
  {
   "cell_type": "code",
   "execution_count": 81,
   "metadata": {},
   "outputs": [
    {
     "name": "stdout",
     "output_type": "stream",
     "text": [
      "0.983920704845815\n",
      "0.864273127753304\n"
     ]
    }
   ],
   "source": [
    "print(clf.score(XL_train1,yL_train2))# train accuracy\n",
    "print(clf.score(XL_test1,yL_test2))# test accuracy"
   ]
  },
  {
   "cell_type": "code",
   "execution_count": 82,
   "metadata": {},
   "outputs": [],
   "source": [
    "y_pred=clf.predict(XL_test1)"
   ]
  },
  {
   "cell_type": "code",
   "execution_count": 83,
   "metadata": {},
   "outputs": [],
   "source": [
    "#y_pred[np.where(np.sum(y_pred,axis=1)==0),0]=1  # process rows with all zeros if any"
   ]
  },
  {
   "cell_type": "code",
   "execution_count": 84,
   "metadata": {},
   "outputs": [
    {
     "name": "stdout",
     "output_type": "stream",
     "text": [
      "weighted F1 Score : 0.8696102779947574\n",
      "weighted Precision : 0.8819690265237563\n",
      "weighted Recall : 0.864273127753304\n"
     ]
    }
   ],
   "source": [
    "\n",
    "print('weighted F1 Score : ' + str(f1_score(y_pred,yL_test2,average='weighted')))\n",
    "print('weighted Precision : ' + str(precision_score(y_pred,yL_test2,average='weighted')))\n",
    "print('weighted Recall : ' + str(recall_score(y_pred,yL_test2,average='weighted')))"
   ]
  },
  {
   "cell_type": "markdown",
   "metadata": {},
   "source": [
    "# SVM"
   ]
  },
  {
   "cell_type": "code",
   "execution_count": 135,
   "metadata": {},
   "outputs": [],
   "source": [
    "from sklearn.svm import SVC\n",
    "clf=SVC(random_state=0,kernel='rbf').fit(XL_train1,yL_train2)"
   ]
  },
  {
   "cell_type": "code",
   "execution_count": 136,
   "metadata": {},
   "outputs": [
    {
     "data": {
      "text/plain": [
       "0.5512665198237885"
      ]
     },
     "execution_count": 136,
     "metadata": {},
     "output_type": "execute_result"
    }
   ],
   "source": [
    "clf.score(XL_train1,yL_train2) # train accuracy"
   ]
  },
  {
   "cell_type": "code",
   "execution_count": 137,
   "metadata": {},
   "outputs": [
    {
     "data": {
      "text/plain": [
       "0.55"
      ]
     },
     "execution_count": 137,
     "metadata": {},
     "output_type": "execute_result"
    }
   ],
   "source": [
    "clf.score(XL_test1,yL_test2) # test accuracy"
   ]
  },
  {
   "cell_type": "code",
   "execution_count": 138,
   "metadata": {},
   "outputs": [],
   "source": [
    "y_pred=clf.predict(XL_test1)"
   ]
  },
  {
   "cell_type": "code",
   "execution_count": 139,
   "metadata": {},
   "outputs": [
    {
     "name": "stdout",
     "output_type": "stream",
     "text": [
      "weighted F1 Score : 0.567943422208222\n",
      "weighted Precision : 0.6322466143073135\n",
      "weighted Recall : 0.55\n"
     ]
    }
   ],
   "source": [
    "print('weighted F1 Score : ' + str(f1_score(y_pred,yL_test2,average = 'weighted')))\n",
    "print('weighted Precision : ' + str(precision_score(y_pred,yL_test2,average = 'weighted')))\n",
    "print('weighted Recall : ' + str(recall_score(y_pred,yL_test2,average = 'weighted')))"
   ]
  },
  {
   "cell_type": "markdown",
   "metadata": {},
   "source": [
    "# Decision Tree"
   ]
  },
  {
   "cell_type": "code",
   "execution_count": 29,
   "metadata": {},
   "outputs": [],
   "source": [
    "from sklearn.tree import DecisionTreeClassifier\n",
    "clf=DecisionTreeClassifier(random_state=0,max_depth=20).fit(XL_train1,yL_train2)"
   ]
  },
  {
   "cell_type": "code",
   "execution_count": 30,
   "metadata": {},
   "outputs": [
    {
     "data": {
      "text/plain": [
       "0.690897577092511"
      ]
     },
     "execution_count": 30,
     "metadata": {},
     "output_type": "execute_result"
    }
   ],
   "source": [
    "clf.score(XL_train1,yL_train2) #train accuracy"
   ]
  },
  {
   "cell_type": "code",
   "execution_count": 31,
   "metadata": {},
   "outputs": [
    {
     "data": {
      "text/plain": [
       "0.6444052863436124"
      ]
     },
     "execution_count": 31,
     "metadata": {},
     "output_type": "execute_result"
    }
   ],
   "source": [
    "clf.score(XL_test1,yL_test2)# test accuracy"
   ]
  },
  {
   "cell_type": "code",
   "execution_count": 133,
   "metadata": {},
   "outputs": [],
   "source": [
    "#y_pred[np.where(np.sum(y_pred,axis=1)==0),0]=1  # process rows with all zeros if any"
   ]
  },
  {
   "cell_type": "code",
   "execution_count": 34,
   "metadata": {},
   "outputs": [
    {
     "name": "stdout",
     "output_type": "stream",
     "text": [
      "weighted F1 Score : 0.6445420293703698\n",
      "weighted Precision : 0.7235119488636761\n",
      "weighted Recall : 0.6444052863436124\n"
     ]
    }
   ],
   "source": [
    "y_pred=clf.predict(XL_test1)\n",
    "print('weighted F1 Score : ' + str(f1_score(y_pred,yL_test2,average = 'weighted')))\n",
    "print('weighted Precision : ' + str(precision_score(y_pred,yL_test2,average = 'weighted')))\n",
    "print('weighted Recall : ' + str(recall_score(y_pred,yL_test2,average = 'weighted')))"
   ]
  },
  {
   "cell_type": "code",
   "execution_count": null,
   "metadata": {},
   "outputs": [],
   "source": []
  }
 ],
 "metadata": {
  "kernelspec": {
   "display_name": "Python 3",
   "language": "python",
   "name": "python3"
  },
  "language_info": {
   "codemirror_mode": {
    "name": "ipython",
    "version": 3
   },
   "file_extension": ".py",
   "mimetype": "text/x-python",
   "name": "python",
   "nbconvert_exporter": "python",
   "pygments_lexer": "ipython3",
   "version": "3.7.1"
  }
 },
 "nbformat": 4,
 "nbformat_minor": 2
}
