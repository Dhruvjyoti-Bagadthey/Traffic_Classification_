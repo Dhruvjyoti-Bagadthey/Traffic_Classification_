{
 "cells": [
  {
   "cell_type": "markdown",
   "metadata": {},
   "source": [
    "# 1.Preprocessing"
   ]
  },
  {
   "cell_type": "code",
   "execution_count": 1,
   "metadata": {},
   "outputs": [],
   "source": [
    "import pandas as pd\n",
    "import numpy as np\n",
    "import matplotlib.pyplot as plt\n",
    "import time\n",
    "from tensorflow.keras import regularizers"
   ]
  },
  {
   "cell_type": "code",
   "execution_count": 2,
   "metadata": {},
   "outputs": [],
   "source": [
    "from sklearn.model_selection import train_test_split"
   ]
  },
  {
   "cell_type": "code",
   "execution_count": 3,
   "metadata": {},
   "outputs": [],
   "source": [
    "\n",
    "XL=pd.read_csv('9_510_L_resample_95_5.csv')\n",
    "XU_train=pd.read_csv('9_510_U_resample_95_5.csv')# No resampling done in the unlabeled set, It just denotes the pair of L and U\n"
   ]
  },
  {
   "cell_type": "code",
   "execution_count": 4,
   "metadata": {},
   "outputs": [
    {
     "data": {
      "text/html": [
       "<div>\n",
       "<style scoped>\n",
       "    .dataframe tbody tr th:only-of-type {\n",
       "        vertical-align: middle;\n",
       "    }\n",
       "\n",
       "    .dataframe tbody tr th {\n",
       "        vertical-align: top;\n",
       "    }\n",
       "\n",
       "    .dataframe thead th {\n",
       "        text-align: right;\n",
       "    }\n",
       "</style>\n",
       "<table border=\"1\" class=\"dataframe\">\n",
       "  <thead>\n",
       "    <tr style=\"text-align: right;\">\n",
       "      <th></th>\n",
       "      <th>Source.IP</th>\n",
       "      <th>Source.Port</th>\n",
       "      <th>Destination.IP</th>\n",
       "      <th>Destination.Port</th>\n",
       "      <th>Protocol</th>\n",
       "      <th>Timestamp</th>\n",
       "      <th>Flow.Duration</th>\n",
       "      <th>Total.Fwd.Packets</th>\n",
       "      <th>Total.Backward.Packets</th>\n",
       "      <th>Fwd.Packet.Length.Max</th>\n",
       "      <th>...</th>\n",
       "      <th>act_data_pkt_fwd</th>\n",
       "      <th>min_seg_size_forward</th>\n",
       "      <th>Active.Mean</th>\n",
       "      <th>Active.Std</th>\n",
       "      <th>Active.Max</th>\n",
       "      <th>Active.Min</th>\n",
       "      <th>Idle.Mean</th>\n",
       "      <th>Idle.Std</th>\n",
       "      <th>Idle.Max</th>\n",
       "      <th>Idle.Min</th>\n",
       "    </tr>\n",
       "  </thead>\n",
       "  <tbody>\n",
       "    <tr>\n",
       "      <th>0</th>\n",
       "      <td>180881158</td>\n",
       "      <td>3128</td>\n",
       "      <td>3232288105</td>\n",
       "      <td>3125</td>\n",
       "      <td>6</td>\n",
       "      <td>1.494314e+09</td>\n",
       "      <td>182</td>\n",
       "      <td>2</td>\n",
       "      <td>0</td>\n",
       "      <td>55</td>\n",
       "      <td>...</td>\n",
       "      <td>1</td>\n",
       "      <td>20</td>\n",
       "      <td>0.0</td>\n",
       "      <td>0.0</td>\n",
       "      <td>0.0</td>\n",
       "      <td>0.0</td>\n",
       "      <td>0.0</td>\n",
       "      <td>0.0</td>\n",
       "      <td>0.0</td>\n",
       "      <td>0.0</td>\n",
       "    </tr>\n",
       "    <tr>\n",
       "      <th>1</th>\n",
       "      <td>180881370</td>\n",
       "      <td>47719</td>\n",
       "      <td>3003188475</td>\n",
       "      <td>443</td>\n",
       "      <td>6</td>\n",
       "      <td>1.494314e+09</td>\n",
       "      <td>16259595</td>\n",
       "      <td>21</td>\n",
       "      <td>12</td>\n",
       "      <td>258</td>\n",
       "      <td>...</td>\n",
       "      <td>4</td>\n",
       "      <td>32</td>\n",
       "      <td>0.0</td>\n",
       "      <td>0.0</td>\n",
       "      <td>0.0</td>\n",
       "      <td>0.0</td>\n",
       "      <td>0.0</td>\n",
       "      <td>0.0</td>\n",
       "      <td>0.0</td>\n",
       "      <td>0.0</td>\n",
       "    </tr>\n",
       "    <tr>\n",
       "      <th>2</th>\n",
       "      <td>3232238139</td>\n",
       "      <td>55664</td>\n",
       "      <td>180881160</td>\n",
       "      <td>3128</td>\n",
       "      <td>6</td>\n",
       "      <td>1.494314e+09</td>\n",
       "      <td>13470045</td>\n",
       "      <td>15</td>\n",
       "      <td>25</td>\n",
       "      <td>258</td>\n",
       "      <td>...</td>\n",
       "      <td>13</td>\n",
       "      <td>20</td>\n",
       "      <td>0.0</td>\n",
       "      <td>0.0</td>\n",
       "      <td>0.0</td>\n",
       "      <td>0.0</td>\n",
       "      <td>0.0</td>\n",
       "      <td>0.0</td>\n",
       "      <td>0.0</td>\n",
       "      <td>0.0</td>\n",
       "    </tr>\n",
       "    <tr>\n",
       "      <th>3</th>\n",
       "      <td>3232258715</td>\n",
       "      <td>2310</td>\n",
       "      <td>180881161</td>\n",
       "      <td>3128</td>\n",
       "      <td>6</td>\n",
       "      <td>1.494314e+09</td>\n",
       "      <td>258099</td>\n",
       "      <td>6</td>\n",
       "      <td>36</td>\n",
       "      <td>1460</td>\n",
       "      <td>...</td>\n",
       "      <td>5</td>\n",
       "      <td>20</td>\n",
       "      <td>0.0</td>\n",
       "      <td>0.0</td>\n",
       "      <td>0.0</td>\n",
       "      <td>0.0</td>\n",
       "      <td>0.0</td>\n",
       "      <td>0.0</td>\n",
       "      <td>0.0</td>\n",
       "      <td>0.0</td>\n",
       "    </tr>\n",
       "    <tr>\n",
       "      <th>4</th>\n",
       "      <td>180881156</td>\n",
       "      <td>3128</td>\n",
       "      <td>3232243811</td>\n",
       "      <td>50141</td>\n",
       "      <td>6</td>\n",
       "      <td>1.494314e+09</td>\n",
       "      <td>73512428</td>\n",
       "      <td>4</td>\n",
       "      <td>2</td>\n",
       "      <td>257</td>\n",
       "      <td>...</td>\n",
       "      <td>3</td>\n",
       "      <td>20</td>\n",
       "      <td>4453.0</td>\n",
       "      <td>0.0</td>\n",
       "      <td>4453.0</td>\n",
       "      <td>4453.0</td>\n",
       "      <td>73504132.0</td>\n",
       "      <td>0.0</td>\n",
       "      <td>73504132.0</td>\n",
       "      <td>73504132.0</td>\n",
       "    </tr>\n",
       "  </tbody>\n",
       "</table>\n",
       "<p>5 rows × 75 columns</p>\n",
       "</div>"
      ],
      "text/plain": [
       "    Source.IP  Source.Port  Destination.IP  Destination.Port  Protocol  \\\n",
       "0   180881158         3128      3232288105              3125         6   \n",
       "1   180881370        47719      3003188475               443         6   \n",
       "2  3232238139        55664       180881160              3128         6   \n",
       "3  3232258715         2310       180881161              3128         6   \n",
       "4   180881156         3128      3232243811             50141         6   \n",
       "\n",
       "      Timestamp  Flow.Duration  Total.Fwd.Packets  Total.Backward.Packets  \\\n",
       "0  1.494314e+09            182                  2                       0   \n",
       "1  1.494314e+09       16259595                 21                      12   \n",
       "2  1.494314e+09       13470045                 15                      25   \n",
       "3  1.494314e+09         258099                  6                      36   \n",
       "4  1.494314e+09       73512428                  4                       2   \n",
       "\n",
       "   Fwd.Packet.Length.Max  ...  act_data_pkt_fwd  min_seg_size_forward  \\\n",
       "0                     55  ...                 1                    20   \n",
       "1                    258  ...                 4                    32   \n",
       "2                    258  ...                13                    20   \n",
       "3                   1460  ...                 5                    20   \n",
       "4                    257  ...                 3                    20   \n",
       "\n",
       "   Active.Mean  Active.Std  Active.Max  Active.Min   Idle.Mean  Idle.Std  \\\n",
       "0          0.0         0.0         0.0         0.0         0.0       0.0   \n",
       "1          0.0         0.0         0.0         0.0         0.0       0.0   \n",
       "2          0.0         0.0         0.0         0.0         0.0       0.0   \n",
       "3          0.0         0.0         0.0         0.0         0.0       0.0   \n",
       "4       4453.0         0.0      4453.0      4453.0  73504132.0       0.0   \n",
       "\n",
       "     Idle.Max    Idle.Min  \n",
       "0         0.0         0.0  \n",
       "1         0.0         0.0  \n",
       "2         0.0         0.0  \n",
       "3         0.0         0.0  \n",
       "4  73504132.0  73504132.0  \n",
       "\n",
       "[5 rows x 75 columns]"
      ]
     },
     "execution_count": 4,
     "metadata": {},
     "output_type": "execute_result"
    }
   ],
   "source": [
    "from sklearn.utils import shuffle\n",
    "XU_train.head()"
   ]
  },
  {
   "cell_type": "code",
   "execution_count": 5,
   "metadata": {},
   "outputs": [
    {
     "data": {
      "text/html": [
       "<div>\n",
       "<style scoped>\n",
       "    .dataframe tbody tr th:only-of-type {\n",
       "        vertical-align: middle;\n",
       "    }\n",
       "\n",
       "    .dataframe tbody tr th {\n",
       "        vertical-align: top;\n",
       "    }\n",
       "\n",
       "    .dataframe thead th {\n",
       "        text-align: right;\n",
       "    }\n",
       "</style>\n",
       "<table border=\"1\" class=\"dataframe\">\n",
       "  <thead>\n",
       "    <tr style=\"text-align: right;\">\n",
       "      <th></th>\n",
       "      <th>Source.IP</th>\n",
       "      <th>Source.Port</th>\n",
       "      <th>Destination.IP</th>\n",
       "      <th>Destination.Port</th>\n",
       "      <th>Protocol</th>\n",
       "      <th>Timestamp</th>\n",
       "      <th>Flow.Duration</th>\n",
       "      <th>Total.Fwd.Packets</th>\n",
       "      <th>Total.Backward.Packets</th>\n",
       "      <th>Fwd.Packet.Length.Max</th>\n",
       "      <th>...</th>\n",
       "      <th>min_seg_size_forward</th>\n",
       "      <th>Active.Mean</th>\n",
       "      <th>Active.Std</th>\n",
       "      <th>Active.Max</th>\n",
       "      <th>Active.Min</th>\n",
       "      <th>Idle.Mean</th>\n",
       "      <th>Idle.Std</th>\n",
       "      <th>Idle.Max</th>\n",
       "      <th>Idle.Min</th>\n",
       "      <th>ProtocolName</th>\n",
       "    </tr>\n",
       "  </thead>\n",
       "  <tbody>\n",
       "    <tr>\n",
       "      <th>0</th>\n",
       "      <td>180881370</td>\n",
       "      <td>44176</td>\n",
       "      <td>872483344</td>\n",
       "      <td>80</td>\n",
       "      <td>6</td>\n",
       "      <td>1.494318e+09</td>\n",
       "      <td>263343</td>\n",
       "      <td>9</td>\n",
       "      <td>8</td>\n",
       "      <td>1</td>\n",
       "      <td>...</td>\n",
       "      <td>32</td>\n",
       "      <td>0.0</td>\n",
       "      <td>0.0</td>\n",
       "      <td>0.0</td>\n",
       "      <td>0.0</td>\n",
       "      <td>0.0</td>\n",
       "      <td>0.0</td>\n",
       "      <td>0.0</td>\n",
       "      <td>0.0</td>\n",
       "      <td>AMAZON</td>\n",
       "    </tr>\n",
       "    <tr>\n",
       "      <th>1</th>\n",
       "      <td>180881351</td>\n",
       "      <td>58339</td>\n",
       "      <td>877954422</td>\n",
       "      <td>80</td>\n",
       "      <td>6</td>\n",
       "      <td>1.494314e+09</td>\n",
       "      <td>59769277</td>\n",
       "      <td>9</td>\n",
       "      <td>6</td>\n",
       "      <td>712</td>\n",
       "      <td>...</td>\n",
       "      <td>32</td>\n",
       "      <td>0.0</td>\n",
       "      <td>0.0</td>\n",
       "      <td>0.0</td>\n",
       "      <td>0.0</td>\n",
       "      <td>0.0</td>\n",
       "      <td>0.0</td>\n",
       "      <td>0.0</td>\n",
       "      <td>0.0</td>\n",
       "      <td>AMAZON</td>\n",
       "    </tr>\n",
       "    <tr>\n",
       "      <th>2</th>\n",
       "      <td>919780279</td>\n",
       "      <td>443</td>\n",
       "      <td>180881348</td>\n",
       "      <td>55558</td>\n",
       "      <td>6</td>\n",
       "      <td>1.494324e+09</td>\n",
       "      <td>130702</td>\n",
       "      <td>3</td>\n",
       "      <td>3</td>\n",
       "      <td>542</td>\n",
       "      <td>...</td>\n",
       "      <td>32</td>\n",
       "      <td>0.0</td>\n",
       "      <td>0.0</td>\n",
       "      <td>0.0</td>\n",
       "      <td>0.0</td>\n",
       "      <td>0.0</td>\n",
       "      <td>0.0</td>\n",
       "      <td>0.0</td>\n",
       "      <td>0.0</td>\n",
       "      <td>AMAZON</td>\n",
       "    </tr>\n",
       "    <tr>\n",
       "      <th>3</th>\n",
       "      <td>180881351</td>\n",
       "      <td>55012</td>\n",
       "      <td>839964609</td>\n",
       "      <td>80</td>\n",
       "      <td>6</td>\n",
       "      <td>1.494322e+09</td>\n",
       "      <td>188648</td>\n",
       "      <td>3</td>\n",
       "      <td>5</td>\n",
       "      <td>92</td>\n",
       "      <td>...</td>\n",
       "      <td>32</td>\n",
       "      <td>0.0</td>\n",
       "      <td>0.0</td>\n",
       "      <td>0.0</td>\n",
       "      <td>0.0</td>\n",
       "      <td>0.0</td>\n",
       "      <td>0.0</td>\n",
       "      <td>0.0</td>\n",
       "      <td>0.0</td>\n",
       "      <td>AMAZON</td>\n",
       "    </tr>\n",
       "    <tr>\n",
       "      <th>4</th>\n",
       "      <td>877262549</td>\n",
       "      <td>443</td>\n",
       "      <td>180881369</td>\n",
       "      <td>50404</td>\n",
       "      <td>6</td>\n",
       "      <td>1.494314e+09</td>\n",
       "      <td>1984</td>\n",
       "      <td>4</td>\n",
       "      <td>3</td>\n",
       "      <td>681</td>\n",
       "      <td>...</td>\n",
       "      <td>32</td>\n",
       "      <td>0.0</td>\n",
       "      <td>0.0</td>\n",
       "      <td>0.0</td>\n",
       "      <td>0.0</td>\n",
       "      <td>0.0</td>\n",
       "      <td>0.0</td>\n",
       "      <td>0.0</td>\n",
       "      <td>0.0</td>\n",
       "      <td>AMAZON</td>\n",
       "    </tr>\n",
       "  </tbody>\n",
       "</table>\n",
       "<p>5 rows × 76 columns</p>\n",
       "</div>"
      ],
      "text/plain": [
       "   Source.IP  Source.Port  Destination.IP  Destination.Port  Protocol  \\\n",
       "0  180881370        44176       872483344                80         6   \n",
       "1  180881351        58339       877954422                80         6   \n",
       "2  919780279          443       180881348             55558         6   \n",
       "3  180881351        55012       839964609                80         6   \n",
       "4  877262549          443       180881369             50404         6   \n",
       "\n",
       "      Timestamp  Flow.Duration  Total.Fwd.Packets  Total.Backward.Packets  \\\n",
       "0  1.494318e+09         263343                  9                       8   \n",
       "1  1.494314e+09       59769277                  9                       6   \n",
       "2  1.494324e+09         130702                  3                       3   \n",
       "3  1.494322e+09         188648                  3                       5   \n",
       "4  1.494314e+09           1984                  4                       3   \n",
       "\n",
       "   Fwd.Packet.Length.Max  ...  min_seg_size_forward  Active.Mean  Active.Std  \\\n",
       "0                      1  ...                    32          0.0         0.0   \n",
       "1                    712  ...                    32          0.0         0.0   \n",
       "2                    542  ...                    32          0.0         0.0   \n",
       "3                     92  ...                    32          0.0         0.0   \n",
       "4                    681  ...                    32          0.0         0.0   \n",
       "\n",
       "   Active.Max  Active.Min  Idle.Mean  Idle.Std  Idle.Max  Idle.Min  \\\n",
       "0         0.0         0.0        0.0       0.0       0.0       0.0   \n",
       "1         0.0         0.0        0.0       0.0       0.0       0.0   \n",
       "2         0.0         0.0        0.0       0.0       0.0       0.0   \n",
       "3         0.0         0.0        0.0       0.0       0.0       0.0   \n",
       "4         0.0         0.0        0.0       0.0       0.0       0.0   \n",
       "\n",
       "   ProtocolName  \n",
       "0        AMAZON  \n",
       "1        AMAZON  \n",
       "2        AMAZON  \n",
       "3        AMAZON  \n",
       "4        AMAZON  \n",
       "\n",
       "[5 rows x 76 columns]"
      ]
     },
     "execution_count": 5,
     "metadata": {},
     "output_type": "execute_result"
    }
   ],
   "source": [
    "XL.head()"
   ]
  },
  {
   "cell_type": "code",
   "execution_count": 6,
   "metadata": {},
   "outputs": [
    {
     "name": "stderr",
     "output_type": "stream",
     "text": [
      "Using TensorFlow backend.\n"
     ]
    }
   ],
   "source": [
    "from imblearn.over_sampling import RandomOverSampler\n",
    "from imblearn.under_sampling import RandomUnderSampler "
   ]
  },
  {
   "cell_type": "code",
   "execution_count": 7,
   "metadata": {},
   "outputs": [],
   "source": [
    "a=XL.groupby('ProtocolName')['ProtocolName'].count().sort_values(ascending=False)\n"
   ]
  },
  {
   "cell_type": "code",
   "execution_count": 8,
   "metadata": {},
   "outputs": [
    {
     "data": {
      "text/plain": [
       "ProtocolName\n",
       "GOOGLE            5365\n",
       "YOUTUBE           5000\n",
       "YAHOO             5000\n",
       "APPLE             5000\n",
       "APPLE_ITUNES      5000\n",
       "CLOUDFLARE        5000\n",
       "CONTENT_FLASH     5000\n",
       "DROPBOX           5000\n",
       "EBAY              5000\n",
       "FACEBOOK          5000\n",
       "GMAIL             5000\n",
       "HTTP              5000\n",
       "HTTP_CONNECT      5000\n",
       "HTTP_PROXY        5000\n",
       "MICROSOFT         5000\n",
       "MSN               5000\n",
       "OFFICE_365        5000\n",
       "SKYPE             5000\n",
       "SSL               5000\n",
       "TWITTER           5000\n",
       "WHATSAPP          5000\n",
       "WIKIPEDIA         5000\n",
       "WINDOWS_UPDATE    5000\n",
       "AMAZON            5000\n",
       "Name: ProtocolName, dtype: int64"
      ]
     },
     "execution_count": 8,
     "metadata": {},
     "output_type": "execute_result"
    }
   ],
   "source": [
    "a   # see resampled instances"
   ]
  },
  {
   "cell_type": "code",
   "execution_count": 9,
   "metadata": {},
   "outputs": [],
   "source": [
    "'''\n",
    "Function mask_noise\n",
    "\n",
    "Input: numpy array , fraction_delete(between 0 and 1)\n",
    "\n",
    "Removes a fraction_delete fraction of the input array X randomly\n",
    "\n",
    "Output: numpy array after deletions\n",
    "\n",
    "'''\n",
    "def mask_noise(X,fraction_delete=0.2):\n",
    "    mask=np.random.rand(np.shape(X)[0],np.shape(X)[1])\n",
    "    mask=1*(mask>fraction_delete)\n",
    "    return mask*X"
   ]
  },
  {
   "cell_type": "code",
   "execution_count": 10,
   "metadata": {},
   "outputs": [],
   "source": [
    "'''\n",
    "Function Gaussian_noise\n",
    "\n",
    "Input: numpy array , sigma\n",
    "\n",
    "adds noise distributed normally with a stddev sigma \n",
    "\n",
    "Output: numpy array after adding noise\n",
    "\n",
    "'''\n",
    "def Gaussian_noise(X,sigma=0.5):\n",
    "    noise = np.random.normal(0,sigma,np.shape(X))\n",
    "    return noise+X"
   ]
  },
  {
   "cell_type": "code",
   "execution_count": 11,
   "metadata": {},
   "outputs": [],
   "source": [
    "from keras.layers import Input, Dense\n",
    "from keras.models import Model\n",
    "import keras.backend as K\n",
    "import tensorflow as tf\n",
    "from tensorflow.keras import regularizers\n",
    "from keras.models import load_model\n",
    "import keras\n",
    "from keras.layers import Dropout"
   ]
  },
  {
   "cell_type": "code",
   "execution_count": 12,
   "metadata": {},
   "outputs": [],
   "source": [
    "'''\n",
    "Sparcity Autoencoder's Sparcity Activity Regularization\n",
    "\n",
    "'''\n",
    "def kl_divergence(rho, rho_hat):\n",
    "    return rho * tf.math.log(rho) - rho * tf.math.log(rho_hat+1e-12) + (1 - rho) * tf.math.log(1 - rho) - (1 - rho) * tf.math.log(1 - rho_hat+1e-12)\n",
    "\n",
    "class SparseActivityRegularizer(tf.keras.regularizers.Regularizer):\n",
    "\n",
    "    def __init__(self, p=0.1, sparsityBeta=3):\n",
    "        self.p = p\n",
    "        self.sparsityBeta = sparsityBeta\n",
    "\n",
    "    def __call__(self, x):\n",
    "        regularization = 0            \n",
    "\n",
    "        p_hat = K.mean(x, axis=0)\n",
    "        regularization += self.sparsityBeta * K.sum(kl_divergence(self.p, p_hat))\n",
    "\n",
    "        return regularization\n",
    "\n",
    "    def get_config(self):\n",
    "        return {\"name\": self.__class__.__name__} "
   ]
  },
  {
   "cell_type": "code",
   "execution_count": 13,
   "metadata": {},
   "outputs": [],
   "source": [
    "from keras.optimizers import RMSprop\n",
    "from keras.optimizers import Adam\n",
    "from keras.optimizers import Adagrad\n",
    "from keras.optimizers import SGD\n",
    "from sklearn.preprocessing import LabelEncoder"
   ]
  },
  {
   "cell_type": "code",
   "execution_count": 14,
   "metadata": {},
   "outputs": [],
   "source": [
    "yL_train=XL.iloc[:,-1]\n",
    "XL_train=XL.iloc[:,:-1]"
   ]
  },
  {
   "cell_type": "code",
   "execution_count": 15,
   "metadata": {},
   "outputs": [],
   "source": [
    "yL_train=pd.get_dummies(yL_train)#One-hot_encoding\n",
    "\n",
    "# Split into train,test and val\n",
    "\n",
    "#randomly split into train(80%) and val(20%)\n",
    "XL_train,XL_val,yL_train,yL_val=train_test_split(XL_train,yL_train,random_state=0,test_size=0.2)\n",
    "\n",
    "#randomly split val into val(10%) and test(10%)\n",
    "XL_val,XL_test,yL_val,yL_test=train_test_split(XL_val,yL_val,random_state=0,test_size=0.5)"
   ]
  },
  {
   "cell_type": "markdown",
   "metadata": {},
   "source": [
    " Reversing the one hot encoding for each set to be used for ML methods"
   ]
  },
  {
   "cell_type": "code",
   "execution_count": 16,
   "metadata": {},
   "outputs": [],
   "source": [
    "yL_train2=yL_train[yL_train==1].stack().reset_index().drop(0,1)['level_1'] # reversing the one hot encoding for each set"
   ]
  },
  {
   "cell_type": "code",
   "execution_count": 17,
   "metadata": {},
   "outputs": [],
   "source": [
    "yL_val2=yL_val[yL_val==1].stack().reset_index().drop(0,1)['level_1']# reversing the one hot encoding for each set"
   ]
  },
  {
   "cell_type": "code",
   "execution_count": 18,
   "metadata": {},
   "outputs": [],
   "source": [
    "yL_test2=yL_test[yL_test==1].stack().reset_index().drop(0,1)['level_1']# reversing the one hot encoding for each set"
   ]
  },
  {
   "cell_type": "code",
   "execution_count": 19,
   "metadata": {},
   "outputs": [],
   "source": [
    "from sklearn.preprocessing import MinMaxScaler\n",
    "from sklearn.preprocessing import StandardScaler\n",
    "from sklearn.preprocessing import normalize\n",
    "\n",
    "#scaling and normalization\n",
    "scaler=StandardScaler()\n",
    "XU_train=scaler.fit_transform(XU_train)\n",
    "XL_train=scaler.fit_transform(XL_train)\n",
    "XL_val=scaler.transform(XL_val)\n",
    "XL_test=scaler.transform(XL_test)\n"
   ]
  },
  {
   "cell_type": "markdown",
   "metadata": {},
   "source": [
    "# 2. Training the SDAE\n",
    "#### Training the Encoder parts"
   ]
  },
  {
   "cell_type": "code",
   "execution_count": 20,
   "metadata": {},
   "outputs": [],
   "source": [
    "from keras_sequential_ascii import keras2ascii\n",
    "from tensorflow.keras import regularizers\n",
    "from keras.models import Sequential"
   ]
  },
  {
   "cell_type": "code",
   "execution_count": 21,
   "metadata": {},
   "outputs": [],
   "source": [
    "from keras import backend as K\n"
   ]
  },
  {
   "cell_type": "code",
   "execution_count": 22,
   "metadata": {},
   "outputs": [],
   "source": [
    "'''\n",
    "Function SDAE\n",
    "Inputs: numpy array X, list layers,list activations,float rho,int n_epochs,string denoise,float fraction_delete\n",
    "\n",
    "denoise is the mode of adding noise\n",
    "rho is the sparcity constraint parameter\n",
    "layers is a list of no. of hidden nodes in each hidden layer\n",
    "activations is a list of activations used in each encoding layer\n",
    "\n",
    "trains each autoencoder layer and outputs all the encoder-layer models.\n",
    "\n",
    "Output: a list of keras models\n",
    "\n",
    "'''\n",
    "def SDAE(X,layers,activations,rho,n_epochs,denoise,fraction_delete=0.2):\n",
    "    layers.insert(0,len(X[0]))\n",
    "    #layers.insert(0,len(X_train.iloc[0]))\n",
    "    ec=[]\n",
    "    for i in range(len(layers)-1):\n",
    "        encoding_dim = layers[i+1]\n",
    "\n",
    "    # this is our input placeholder\n",
    "        input_ = Input(shape=(layers[i],))\n",
    "    # define regulariser\n",
    "        if rho[i] != None: \n",
    "            regulariser = SparseActivityRegularizer(rho[i],3)\n",
    "        else:\n",
    "            regulariser=None\n",
    "\n",
    "        # \"encoded\" is the encoded representation of the input\n",
    "        encoded = Dense(encoding_dim, activation=activations[i],bias_initializer='random_normal',kernel_initializer='he_uniform',activity_regularizer=regulariser,name='encoder'+str(i+1))(input_)\n",
    "        \n",
    "        # \"decoded\" is the lossy reconstruction of the input\n",
    "        decoded = Dense(layers[i],activation=None,name='decoder'+str(i+1))(encoded)\n",
    "\n",
    "        # this model maps an input to its reconstruction\n",
    "        autoencoder = Model(input_, decoded)\n",
    "\n",
    "        # this model maps an input to its encoded representation\n",
    "        encoder = Model(input_, encoded)\n",
    "\n",
    "        # create a placeholder for an encoded (32-dimensional) input\n",
    "        encoded_input = Input(shape=(encoding_dim,))\n",
    "\n",
    "        autoencoder.compile(optimizer=RMSprop(learning_rate=0.001,clipnorm=0.1), loss='mse')\n",
    "        \n",
    "        if denoise =='Gauss':\n",
    "            X_noisy=Gaussian_noise(X,fraction_delete)\n",
    "        else:\n",
    "            X_noisy=mask_noise(X,fraction_delete)\n",
    "        \n",
    "        print('Training Layer ' + str(i+1)+' : ')\n",
    "        autoencoder.fit(X_noisy,X,\n",
    "                epochs=n_epochs,\n",
    "                batch_size=256,\n",
    "                shuffle=True,\n",
    "                validation_data=(X,X))\n",
    "        ec.append(encoder)\n",
    "        X=encoder.predict(X)\n",
    "    print('All Layers Done!')    \n",
    "    return ec       "
   ]
  },
  {
   "cell_type": "code",
   "execution_count": 23,
   "metadata": {},
   "outputs": [
    {
     "name": "stdout",
     "output_type": "stream",
     "text": [
      "Training Layer 1 : \n",
      "Train on 384366 samples, validate on 384366 samples\n",
      "Epoch 1/10\n",
      "384366/384366 [==============================] - 8s 20us/step - loss: 3.2923 - val_loss: 0.4568\n",
      "Epoch 2/10\n",
      "384366/384366 [==============================] - 8s 20us/step - loss: 0.4191 - val_loss: 0.3589\n",
      "Epoch 3/10\n",
      "384366/384366 [==============================] - 8s 21us/step - loss: 0.3510 - val_loss: 0.3089\n",
      "Epoch 4/10\n",
      "384366/384366 [==============================] - 8s 20us/step - loss: 0.3105 - val_loss: 0.2697\n",
      "Epoch 5/10\n",
      "384366/384366 [==============================] - 7s 19us/step - loss: 0.2822 - val_loss: 0.2536\n",
      "Epoch 6/10\n",
      "384366/384366 [==============================] - 8s 20us/step - loss: 0.2568 - val_loss: 0.2220\n",
      "Epoch 7/10\n",
      "384366/384366 [==============================] - 8s 20us/step - loss: 0.2377 - val_loss: 0.2188\n",
      "Epoch 8/10\n",
      "384366/384366 [==============================] - 8s 21us/step - loss: 0.2207 - val_loss: 0.2071\n",
      "Epoch 9/10\n",
      "384366/384366 [==============================] - 8s 20us/step - loss: 0.2062 - val_loss: 0.1963\n",
      "Epoch 10/10\n",
      "384366/384366 [==============================] - 8s 20us/step - loss: 0.1929 - val_loss: 0.1796\n",
      "Training Layer 2 : \n",
      "Train on 384366 samples, validate on 384366 samples\n",
      "Epoch 1/10\n",
      "384366/384366 [==============================] - 8s 20us/step - loss: 0.2764 - val_loss: 0.2412\n",
      "Epoch 2/10\n",
      "384366/384366 [==============================] - 8s 21us/step - loss: 0.1803 - val_loss: 0.1757\n",
      "Epoch 3/10\n",
      "384366/384366 [==============================] - 8s 20us/step - loss: 0.1654 - val_loss: 0.1771\n",
      "Epoch 4/10\n",
      "384366/384366 [==============================] - 8s 20us/step - loss: 0.1552 - val_loss: 0.1800\n",
      "Epoch 5/10\n",
      "384366/384366 [==============================] - 8s 20us/step - loss: 0.1470 - val_loss: 0.1582\n",
      "Epoch 6/10\n",
      "384366/384366 [==============================] - 8s 20us/step - loss: 0.1420 - val_loss: 0.1932\n",
      "Epoch 7/10\n",
      "384366/384366 [==============================] - 8s 20us/step - loss: 0.1386 - val_loss: 0.1257\n",
      "Epoch 8/10\n",
      "384366/384366 [==============================] - 8s 20us/step - loss: 0.1363 - val_loss: 0.1735\n",
      "Epoch 9/10\n",
      "384366/384366 [==============================] - 8s 21us/step - loss: 0.1330 - val_loss: 0.1788\n",
      "Epoch 10/10\n",
      "384366/384366 [==============================] - 8s 20us/step - loss: 0.1320 - val_loss: 0.1226\n",
      "Training Layer 3 : \n",
      "Train on 384366 samples, validate on 384366 samples\n",
      "Epoch 1/10\n",
      "384366/384366 [==============================] - 14s 36us/step - loss: 0.7841 - val_loss: 0.5975\n",
      "Epoch 2/10\n",
      "384366/384366 [==============================] - 13s 35us/step - loss: 0.4448 - val_loss: 0.4692\n",
      "Epoch 3/10\n",
      "384366/384366 [==============================] - 13s 35us/step - loss: 0.4390 - val_loss: 0.7912\n",
      "Epoch 4/10\n",
      "384366/384366 [==============================] - 14s 35us/step - loss: 0.4362 - val_loss: 0.4573\n",
      "Epoch 5/10\n",
      "384366/384366 [==============================] - 13s 35us/step - loss: 0.4337 - val_loss: 0.6329\n",
      "Epoch 6/10\n",
      "384366/384366 [==============================] - 13s 35us/step - loss: 0.4330 - val_loss: 0.4989\n",
      "Epoch 7/10\n",
      "384366/384366 [==============================] - 13s 35us/step - loss: 0.4262 - val_loss: 0.3997\n",
      "Epoch 8/10\n",
      "384366/384366 [==============================] - 14s 35us/step - loss: 0.4219 - val_loss: 0.6562\n",
      "Epoch 9/10\n",
      "384366/384366 [==============================] - 14s 35us/step - loss: 0.4196 - val_loss: 0.5480\n",
      "Epoch 10/10\n",
      "384366/384366 [==============================] - 14s 35us/step - loss: 0.4233 - val_loss: 0.4213\n",
      "Training Layer 4 : \n",
      "Train on 384366 samples, validate on 384366 samples\n",
      "Epoch 1/10\n",
      "384366/384366 [==============================] - 11s 27us/step - loss: 0.1294 - val_loss: 0.1075\n",
      "Epoch 2/10\n",
      "384366/384366 [==============================] - 10s 27us/step - loss: 0.0995 - val_loss: 0.1038\n",
      "Epoch 3/10\n",
      "384366/384366 [==============================] - 10s 26us/step - loss: 0.0977 - val_loss: 0.1308\n",
      "Epoch 4/10\n",
      "384366/384366 [==============================] - 10s 26us/step - loss: 0.0978 - val_loss: 0.0903\n",
      "Epoch 5/10\n",
      "384366/384366 [==============================] - 10s 26us/step - loss: 0.0979 - val_loss: 0.1458\n",
      "Epoch 6/10\n",
      "384366/384366 [==============================] - 10s 26us/step - loss: 0.0978 - val_loss: 0.1334\n",
      "Epoch 7/10\n",
      "384366/384366 [==============================] - 10s 25us/step - loss: 0.0971 - val_loss: 0.0715\n",
      "Epoch 8/10\n",
      "384366/384366 [==============================] - 10s 26us/step - loss: 0.0954 - val_loss: 0.2306\n",
      "Epoch 9/10\n",
      "384366/384366 [==============================] - 10s 26us/step - loss: 0.0975 - val_loss: 0.0716\n",
      "Epoch 10/10\n",
      "384366/384366 [==============================] - 10s 27us/step - loss: 0.0966 - val_loss: 0.0703\n",
      "All Layers Done!\n"
     ]
    }
   ],
   "source": [
    "#Train Sparse Stacked Denoising Autoencoder\n",
    "layers = [100,200,400,50]\n",
    "activations=['relu','relu','relu','relu']\n",
    "rho=[0.06,0.06,0.06,0.06]\n",
    "traint0=time.time()\n",
    "stacked_layers=SDAE(XU_train,layers,activations,rho,10,'mask',0.02)"
   ]
  },
  {
   "cell_type": "markdown",
   "metadata": {},
   "source": [
    "# 3.Training the SoftMax classifier"
   ]
  },
  {
   "cell_type": "code",
   "execution_count": 24,
   "metadata": {},
   "outputs": [],
   "source": [
    "'''\n",
    "Performs a Forward Pass through the SDAE\n",
    "\n",
    "'''\n",
    "def SDAE_predict(stacked_layers,X):\n",
    "    for layer in stacked_layers:\n",
    "        X1=layer.predict(X)\n",
    "        X=X1\n",
    "    return X1    "
   ]
  },
  {
   "cell_type": "code",
   "execution_count": 25,
   "metadata": {},
   "outputs": [],
   "source": [
    "#forward pass through SDAE\n",
    "XL_train1=SDAE_predict(stacked_layers,XL_train)\n",
    "XL_val1=SDAE_predict(stacked_layers,XL_val)\n",
    "XL_test1=SDAE_predict(stacked_layers,XL_test)"
   ]
  },
  {
   "cell_type": "markdown",
   "metadata": {},
   "source": [
    "### Please skip this section to part 6 If only ML methods are to be tested, The following is the DL NN model"
   ]
  },
  {
   "cell_type": "code",
   "execution_count": 27,
   "metadata": {},
   "outputs": [],
   "source": [
    "#Train Classifier separately\n",
    "input1 = Input(shape=(layers[-1],))\n",
    "L1 = Dense(len(yL_train.columns),activation='softmax')(input1)\n",
    "classifier=Model(input1,L1)   \n",
    "classifier.compile(optimizer=SGD(learning_rate=0.1,momentum=0.9),loss='categorical_crossentropy',metrics=['accuracy'])"
   ]
  },
  {
   "cell_type": "code",
   "execution_count": 28,
   "metadata": {},
   "outputs": [
    {
     "name": "stdout",
     "output_type": "stream",
     "text": [
      "Train on 96292 samples, validate on 12036 samples\n",
      "Epoch 1/50\n",
      "96292/96292 [==============================] - 3s 26us/step - loss: 2.8137 - accuracy: 0.1870 - val_loss: 2.7148 - val_accuracy: 0.2038\n",
      "Epoch 2/50\n",
      "96292/96292 [==============================] - 2s 24us/step - loss: 2.6614 - accuracy: 0.2234 - val_loss: 2.6311 - val_accuracy: 0.2192\n",
      "Epoch 3/50\n",
      "96292/96292 [==============================] - 2s 24us/step - loss: 2.5980 - accuracy: 0.2376 - val_loss: 2.5866 - val_accuracy: 0.2342\n",
      "Epoch 4/50\n",
      "96292/96292 [==============================] - 2s 22us/step - loss: 2.5548 - accuracy: 0.2509 - val_loss: 2.5490 - val_accuracy: 0.2454\n",
      "Epoch 5/50\n",
      "96292/96292 [==============================] - 2s 22us/step - loss: 2.5232 - accuracy: 0.2604 - val_loss: 2.5201 - val_accuracy: 0.2492\n",
      "Epoch 6/50\n",
      "96292/96292 [==============================] - 2s 22us/step - loss: 2.4975 - accuracy: 0.2698 - val_loss: 2.5058 - val_accuracy: 0.2663\n",
      "Epoch 7/50\n",
      "96292/96292 [==============================] - 2s 22us/step - loss: 2.4749 - accuracy: 0.2777 - val_loss: 2.4773 - val_accuracy: 0.2685\n",
      "Epoch 8/50\n",
      "96292/96292 [==============================] - 2s 22us/step - loss: 2.4569 - accuracy: 0.2848 - val_loss: 2.4687 - val_accuracy: 0.2627\n",
      "Epoch 9/50\n",
      "96292/96292 [==============================] - 2s 22us/step - loss: 2.4413 - accuracy: 0.2882 - val_loss: 2.4579 - val_accuracy: 0.2826\n",
      "Epoch 10/50\n",
      "96292/96292 [==============================] - 2s 22us/step - loss: 2.4270 - accuracy: 0.2946 - val_loss: 2.4361 - val_accuracy: 0.2848\n",
      "Epoch 11/50\n",
      "96292/96292 [==============================] - 2s 23us/step - loss: 2.4146 - accuracy: 0.2980 - val_loss: 2.4281 - val_accuracy: 0.2871\n",
      "Epoch 12/50\n",
      "96292/96292 [==============================] - 2s 22us/step - loss: 2.4031 - accuracy: 0.3013 - val_loss: 2.4118 - val_accuracy: 0.2984\n",
      "Epoch 13/50\n",
      "96292/96292 [==============================] - 2s 22us/step - loss: 2.3927 - accuracy: 0.3036 - val_loss: 2.4042 - val_accuracy: 0.3023\n",
      "Epoch 14/50\n",
      "96292/96292 [==============================] - 2s 22us/step - loss: 2.3832 - accuracy: 0.3061 - val_loss: 2.3972 - val_accuracy: 0.2900\n",
      "Epoch 15/50\n",
      "96292/96292 [==============================] - 2s 22us/step - loss: 2.3745 - accuracy: 0.3071 - val_loss: 2.3890 - val_accuracy: 0.3018\n",
      "Epoch 16/50\n",
      "96292/96292 [==============================] - 2s 21us/step - loss: 2.3664 - accuracy: 0.3096 - val_loss: 2.3777 - val_accuracy: 0.3073\n",
      "Epoch 17/50\n",
      "96292/96292 [==============================] - 2s 22us/step - loss: 2.3586 - accuracy: 0.3108 - val_loss: 2.3748 - val_accuracy: 0.2949\n",
      "Epoch 18/50\n",
      "96292/96292 [==============================] - 2s 22us/step - loss: 2.3517 - accuracy: 0.3132 - val_loss: 2.3686 - val_accuracy: 0.3115\n",
      "Epoch 19/50\n",
      "96292/96292 [==============================] - 2s 22us/step - loss: 2.3455 - accuracy: 0.3156 - val_loss: 2.3621 - val_accuracy: 0.3127\n",
      "Epoch 20/50\n",
      "96292/96292 [==============================] - 2s 22us/step - loss: 2.3393 - accuracy: 0.3156 - val_loss: 2.3561 - val_accuracy: 0.3075\n",
      "Epoch 21/50\n",
      "96292/96292 [==============================] - 2s 22us/step - loss: 2.3333 - accuracy: 0.3187 - val_loss: 2.3462 - val_accuracy: 0.3105\n",
      "Epoch 22/50\n",
      "96292/96292 [==============================] - 2s 22us/step - loss: 2.3284 - accuracy: 0.3195 - val_loss: 2.3457 - val_accuracy: 0.3140\n",
      "Epoch 23/50\n",
      "96292/96292 [==============================] - 2s 22us/step - loss: 2.3227 - accuracy: 0.3233 - val_loss: 2.3388 - val_accuracy: 0.3217\n",
      "Epoch 24/50\n",
      "96292/96292 [==============================] - 2s 22us/step - loss: 2.3180 - accuracy: 0.3234 - val_loss: 2.3371 - val_accuracy: 0.3105\n",
      "Epoch 25/50\n",
      "96292/96292 [==============================] - 2s 22us/step - loss: 2.3141 - accuracy: 0.3255 - val_loss: 2.3311 - val_accuracy: 0.3189\n",
      "Epoch 26/50\n",
      "96292/96292 [==============================] - 2s 22us/step - loss: 2.3094 - accuracy: 0.3253 - val_loss: 2.3230 - val_accuracy: 0.3207\n",
      "Epoch 27/50\n",
      "96292/96292 [==============================] - 2s 22us/step - loss: 2.3052 - accuracy: 0.3287 - val_loss: 2.3284 - val_accuracy: 0.3179\n",
      "Epoch 28/50\n",
      "96292/96292 [==============================] - 2s 22us/step - loss: 2.3017 - accuracy: 0.3288 - val_loss: 2.3241 - val_accuracy: 0.3229\n",
      "Epoch 29/50\n",
      "96292/96292 [==============================] - 2s 22us/step - loss: 2.2977 - accuracy: 0.3307 - val_loss: 2.3190 - val_accuracy: 0.3205\n",
      "Epoch 30/50\n",
      "96292/96292 [==============================] - 2s 22us/step - loss: 2.2946 - accuracy: 0.3309 - val_loss: 2.3130 - val_accuracy: 0.3149\n",
      "Epoch 31/50\n",
      "96292/96292 [==============================] - 2s 22us/step - loss: 2.2911 - accuracy: 0.3311 - val_loss: 2.3061 - val_accuracy: 0.3284\n",
      "Epoch 32/50\n",
      "96292/96292 [==============================] - 2s 23us/step - loss: 2.2885 - accuracy: 0.3332 - val_loss: 2.3083 - val_accuracy: 0.3240\n",
      "Epoch 33/50\n",
      "96292/96292 [==============================] - 2s 22us/step - loss: 2.2849 - accuracy: 0.3332 - val_loss: 2.2983 - val_accuracy: 0.3271\n",
      "Epoch 34/50\n",
      "96292/96292 [==============================] - 2s 22us/step - loss: 2.2820 - accuracy: 0.3336 - val_loss: 2.3013 - val_accuracy: 0.3264\n",
      "Epoch 35/50\n",
      "96292/96292 [==============================] - 2s 22us/step - loss: 2.2790 - accuracy: 0.3351 - val_loss: 2.2966 - val_accuracy: 0.3226\n",
      "Epoch 36/50\n",
      "96292/96292 [==============================] - 2s 21us/step - loss: 2.2763 - accuracy: 0.3362 - val_loss: 2.2944 - val_accuracy: 0.3199\n",
      "Epoch 37/50\n",
      "96292/96292 [==============================] - 2s 21us/step - loss: 2.2739 - accuracy: 0.3360 - val_loss: 2.2879 - val_accuracy: 0.3277\n",
      "Epoch 38/50\n",
      "96292/96292 [==============================] - 2s 23us/step - loss: 2.2709 - accuracy: 0.3382 - val_loss: 2.2911 - val_accuracy: 0.3261\n",
      "Epoch 39/50\n",
      "96292/96292 [==============================] - 2s 21us/step - loss: 2.2691 - accuracy: 0.3384 - val_loss: 2.2850 - val_accuracy: 0.3268\n",
      "Epoch 40/50\n",
      "96292/96292 [==============================] - 2s 21us/step - loss: 2.2670 - accuracy: 0.3391 - val_loss: 2.2835 - val_accuracy: 0.3239\n",
      "Epoch 41/50\n",
      "96292/96292 [==============================] - 2s 21us/step - loss: 2.2649 - accuracy: 0.3402 - val_loss: 2.2781 - val_accuracy: 0.3328\n",
      "Epoch 42/50\n",
      "96292/96292 [==============================] - 2s 21us/step - loss: 2.2623 - accuracy: 0.3403 - val_loss: 2.2791 - val_accuracy: 0.3248\n",
      "Epoch 43/50\n",
      "96292/96292 [==============================] - 2s 22us/step - loss: 2.2602 - accuracy: 0.3403 - val_loss: 2.2787 - val_accuracy: 0.3272\n",
      "Epoch 44/50\n",
      "96292/96292 [==============================] - 2s 22us/step - loss: 2.2586 - accuracy: 0.3413 - val_loss: 2.2736 - val_accuracy: 0.3329\n",
      "Epoch 45/50\n",
      "96292/96292 [==============================] - 2s 22us/step - loss: 2.2568 - accuracy: 0.3422 - val_loss: 2.2751 - val_accuracy: 0.3309\n",
      "Epoch 46/50\n",
      "96292/96292 [==============================] - 2s 21us/step - loss: 2.2545 - accuracy: 0.3436 - val_loss: 2.2760 - val_accuracy: 0.3352\n",
      "Epoch 47/50\n",
      "96292/96292 [==============================] - 2s 21us/step - loss: 2.2531 - accuracy: 0.3438 - val_loss: 2.2737 - val_accuracy: 0.3285\n",
      "Epoch 48/50\n",
      "96292/96292 [==============================] - 2s 21us/step - loss: 2.2510 - accuracy: 0.3440 - val_loss: 2.2675 - val_accuracy: 0.3319\n",
      "Epoch 49/50\n",
      "96292/96292 [==============================] - 2s 21us/step - loss: 2.2493 - accuracy: 0.3450 - val_loss: 2.2692 - val_accuracy: 0.3396\n",
      "Epoch 50/50\n",
      "96292/96292 [==============================] - 2s 21us/step - loss: 2.2477 - accuracy: 0.3456 - val_loss: 2.2627 - val_accuracy: 0.3429\n"
     ]
    }
   ],
   "source": [
    "history=classifier.fit(XL_train1,yL_train,\n",
    "                epochs=50,\n",
    "                #batch_size=256, #default batch_size=32\n",
    "                shuffle=True,\n",
    "                validation_data=(XL_val1, yL_val))"
   ]
  },
  {
   "cell_type": "markdown",
   "metadata": {},
   "source": [
    "# 4. Fine Tuning\n",
    "#### Fine Tuning Involves removing the sparsity regularizer from all the layers , adding dropout etc and performing backpropagation to improve the overall model accuracy "
   ]
  },
  {
   "cell_type": "code",
   "execution_count": 29,
   "metadata": {},
   "outputs": [
    {
     "name": "stderr",
     "output_type": "stream",
     "text": [
      "c:\\users\\dhruvjyoti\\appdata\\local\\programs\\python\\python37\\lib\\site-packages\\keras\\engine\\saving.py:341: UserWarning: No training configuration found in save file: the model was *not* compiled. Compile it manually.\n",
      "  warnings.warn('No training configuration found in save file: '\n"
     ]
    },
    {
     "name": "stdout",
     "output_type": "stream",
     "text": [
      "[]\n",
      "[]\n",
      "[]\n",
      "[]\n",
      "[]\n"
     ]
    }
   ],
   "source": [
    "# change regularisation settings\n",
    "a=[]\n",
    "for i in range(len(stacked_layers)):\n",
    "    encoder=stacked_layers[i]\n",
    "    #encoder.layers[-2].activity_regularizer=None  \n",
    "    encoder.layers[-1].activity_regularizer=None #remove Sparse activity regularizer\n",
    "    encoder.save('temp.h5')\n",
    "    encoder=load_model('temp.h5')\n",
    "    print(encoder.losses)\n",
    "    a.append(encoder)\n",
    "    \n",
    "classifier.save('temp.h5')\n",
    "classifier=load_model('temp.h5')\n",
    "print(classifier.losses)\n",
    "a.append(classifier)    "
   ]
  },
  {
   "cell_type": "code",
   "execution_count": 30,
   "metadata": {},
   "outputs": [],
   "source": [
    "# add dropout till n-2 layers\n",
    "model=Sequential()\n",
    "for i in a:\n",
    "    model.add(i)\n",
    "    if i != classifier and i != encoder:\n",
    "        model.add(Dropout(0.02))"
   ]
  },
  {
   "cell_type": "code",
   "execution_count": 31,
   "metadata": {},
   "outputs": [
    {
     "name": "stderr",
     "output_type": "stream",
     "text": [
      "c:\\users\\dhruvjyoti\\appdata\\local\\programs\\python\\python37\\lib\\site-packages\\keras\\engine\\saving.py:341: UserWarning: No training configuration found in save file: the model was *not* compiled. Compile it manually.\n",
      "  warnings.warn('No training configuration found in save file: '\n"
     ]
    }
   ],
   "source": [
    "model.save('temp.h5')\n",
    "model=load_model('temp.h5')"
   ]
  },
  {
   "cell_type": "code",
   "execution_count": 32,
   "metadata": {},
   "outputs": [],
   "source": [
    "model.compile(optimizer=RMSprop(learning_rate=0.0001),loss='categorical_crossentropy',metrics=['accuracy'])"
   ]
  },
  {
   "cell_type": "code",
   "execution_count": 35,
   "metadata": {},
   "outputs": [],
   "source": [
    "#fine tune model runs for no. of epochs set below\n",
    "history=model.fit(XL_train,yL_train,\n",
    "                epochs=750,\n",
    "                batch_size=256,\n",
    "                shuffle=True,\n",
    "                validation_data=(XL_val, yL_val),\n",
    "                verbose=0)\n",
    "traint1=time.time()"
   ]
  },
  {
   "cell_type": "code",
   "execution_count": 38,
   "metadata": {},
   "outputs": [
    {
     "name": "stdout",
     "output_type": "stream",
     "text": [
      "Train_time: 2712.742925100327\n"
     ]
    }
   ],
   "source": [
    "print(\"Train_time: \"+str(traint1-traint0))"
   ]
  },
  {
   "cell_type": "code",
   "execution_count": 40,
   "metadata": {},
   "outputs": [
    {
     "name": "stdout",
     "output_type": "stream",
     "text": [
      "[0.2525774887911904, 0.951129241943359]\n",
      "Test_time: 0.374902311706543\n"
     ]
    }
   ],
   "source": [
    "test0=time.time()\n",
    "print(model.evaluate(XL_test,yL_test))\n",
    "test1=time.time()\n",
    "print(\"Test_time: \"+str(test1-test0))"
   ]
  },
  {
   "cell_type": "code",
   "execution_count": 41,
   "metadata": {},
   "outputs": [
    {
     "data": {
      "text/plain": [
       "[<matplotlib.lines.Line2D at 0x1fc9bd6c2e8>]"
      ]
     },
     "execution_count": 41,
     "metadata": {},
     "output_type": "execute_result"
    },
    {
     "data": {
      "image/png": "[encoded data removed]",
      "text/plain": [
       "<Figure size 432x288 with 1 Axes>"
      ]
     },
     "metadata": {
      "needs_background": "light"
     },
     "output_type": "display_data"
    }
   ],
   "source": [
    "#Visualise convergence with no. of epochs\n",
    "plt.plot(history.history['accuracy'])\n",
    "plt.plot(history.history['val_accuracy'])\n"
   ]
  },
  {
   "cell_type": "markdown",
   "metadata": {},
   "source": [
    "# 5. Results\n",
    "#### Below are the results obtained on our NN model"
   ]
  },
  {
   "cell_type": "code",
   "execution_count": 42,
   "metadata": {},
   "outputs": [],
   "source": [
    "import seaborn as sns\n",
    "from sklearn.metrics import confusion_matrix\n",
    "from sklearn.metrics import accuracy_score\n",
    "from sklearn.metrics import f1_score"
   ]
  },
  {
   "cell_type": "code",
   "execution_count": 43,
   "metadata": {},
   "outputs": [],
   "source": [
    "y_pred=model.predict(XL_test)"
   ]
  },
  {
   "cell_type": "code",
   "execution_count": 44,
   "metadata": {},
   "outputs": [],
   "source": [
    "y_pred1=y_pred.argmax(axis=1)\n",
    "y_pred1=np.append(y_pred1,np.arange(24))\n",
    "y_pred1=pd.get_dummies(y_pred1,columns=yL_train.columns)\n",
    "y_pred1.columns=yL_test.columns\n",
    "y_pred1=y_pred1.iloc[:-24]"
   ]
  },
  {
   "cell_type": "code",
   "execution_count": 45,
   "metadata": {},
   "outputs": [
    {
     "data": {
      "text/plain": [
       "AMAZON            500\n",
       "APPLE             474\n",
       "APPLE_ITUNES      515\n",
       "CLOUDFLARE        461\n",
       "CONTENT_FLASH     494\n",
       "DROPBOX           487\n",
       "EBAY              508\n",
       "FACEBOOK          473\n",
       "GMAIL             501\n",
       "GOOGLE            550\n",
       "HTTP              491\n",
       "HTTP_CONNECT      490\n",
       "HTTP_PROXY        533\n",
       "MICROSOFT         497\n",
       "MSN               497\n",
       "OFFICE_365        522\n",
       "SKYPE             491\n",
       "SSL               517\n",
       "TWITTER           509\n",
       "WHATSAPP          506\n",
       "WIKIPEDIA         511\n",
       "WINDOWS_UPDATE    502\n",
       "YAHOO             515\n",
       "YOUTUBE           493\n",
       "dtype: int64"
      ]
     },
     "execution_count": 45,
     "metadata": {},
     "output_type": "execute_result"
    }
   ],
   "source": [
    "yL_test.sum()"
   ]
  },
  {
   "cell_type": "code",
   "execution_count": 46,
   "metadata": {},
   "outputs": [],
   "source": [
    "y_test1 = yL_test.columns[np.where(yL_test!=0)[1]]"
   ]
  },
  {
   "cell_type": "code",
   "execution_count": 47,
   "metadata": {},
   "outputs": [
    {
     "data": {
      "text/plain": [
       "Index(['WINDOWS_UPDATE', 'APPLE', 'APPLE_ITUNES', 'OFFICE_365', 'MICROSOFT',\n",
       "       'WIKIPEDIA', 'CLOUDFLARE', 'HTTP_CONNECT', 'EBAY', 'MSN',\n",
       "       ...\n",
       "       'WINDOWS_UPDATE', 'YAHOO', 'HTTP_PROXY', 'GMAIL', 'HTTP', 'MSN',\n",
       "       'GMAIL', 'HTTP_CONNECT', 'WHATSAPP', 'SKYPE'],\n",
       "      dtype='object', length=12037)"
      ]
     },
     "execution_count": 47,
     "metadata": {},
     "output_type": "execute_result"
    }
   ],
   "source": [
    "y_pred1=y_pred1.columns[np.where(y_pred1!=0)[1]]\n",
    "y_pred1"
   ]
  },
  {
   "cell_type": "code",
   "execution_count": 48,
   "metadata": {},
   "outputs": [],
   "source": [
    "cm=confusion_matrix(y_test1,y_pred1,labels=yL_test.columns)"
   ]
  },
  {
   "cell_type": "code",
   "execution_count": 49,
   "metadata": {},
   "outputs": [],
   "source": [
    "cm_pc=pd.DataFrame((cm.T/np.sum(cm,axis=1)).T,columns=yL_test.columns,index=yL_test.columns)\n",
    "cm_pc=cm_pc.replace(np.nan,0)\n"
   ]
  },
  {
   "cell_type": "code",
   "execution_count": 50,
   "metadata": {},
   "outputs": [
    {
     "data": {
      "image/png": "[encoded data removed]",
      "text/plain": [
       "<Figure size 2520x1800 with 2 Axes>"
      ]
     },
     "metadata": {
      "needs_background": "light"
     },
     "output_type": "display_data"
    }
   ],
   "source": [
    "# Plot confusion matrix\n",
    "plt.figure(figsize=(35,25))\n",
    "df_cm=pd.DataFrame(cm,columns=yL_test.columns,index=yL_test.columns)\n",
    "sns.set(font_scale=1.0)\n",
    "sns.heatmap(cm_pc, annot=True,fmt='.1%',cmap=sns.color_palette(\"Reds\",50)) # font size\n",
    "plt.show()"
   ]
  },
  {
   "cell_type": "code",
   "execution_count": 51,
   "metadata": {},
   "outputs": [
    {
     "name": "stdout",
     "output_type": "stream",
     "text": [
      "Test Accuracy : 0.9503459582952563\n"
     ]
    }
   ],
   "source": [
    "print('Test Accuracy : '+str(accuracy_score(y_test1, y_pred1)))"
   ]
  },
  {
   "cell_type": "code",
   "execution_count": 52,
   "metadata": {},
   "outputs": [
    {
     "name": "stdout",
     "output_type": "stream",
     "text": [
      "weighted F1 Score : 0.9551652225407365\n",
      "Macro F1 Score : 0.9440849230700469\n",
      "Micro F1 Score : 0.9513459582952563\n",
      "F1 Scores : \n"
     ]
    },
    {
     "data": {
      "text/html": [
       "<div>\n",
       "<style scoped>\n",
       "    .dataframe tbody tr th:only-of-type {\n",
       "        vertical-align: middle;\n",
       "    }\n",
       "\n",
       "    .dataframe tbody tr th {\n",
       "        vertical-align: top;\n",
       "    }\n",
       "\n",
       "    .dataframe thead th {\n",
       "        text-align: right;\n",
       "    }\n",
       "</style>\n",
       "<table border=\"1\" class=\"dataframe\">\n",
       "  <thead>\n",
       "    <tr style=\"text-align: right;\">\n",
       "      <th></th>\n",
       "      <th>F1-score</th>\n",
       "    </tr>\n",
       "  </thead>\n",
       "  <tbody>\n",
       "    <tr>\n",
       "      <th>AMAZON</th>\n",
       "      <td>0.958498</td>\n",
       "    </tr>\n",
       "    <tr>\n",
       "      <th>APPLE</th>\n",
       "      <td>0.997895</td>\n",
       "    </tr>\n",
       "    <tr>\n",
       "      <th>APPLE_ITUNES</th>\n",
       "      <td>0.999030</td>\n",
       "    </tr>\n",
       "    <tr>\n",
       "      <th>CLOUDFLARE</th>\n",
       "      <td>0.985043</td>\n",
       "    </tr>\n",
       "    <tr>\n",
       "      <th>CONTENT_FLASH</th>\n",
       "      <td>0.996973</td>\n",
       "    </tr>\n",
       "    <tr>\n",
       "      <th>DROPBOX</th>\n",
       "      <td>0.993878</td>\n",
       "    </tr>\n",
       "    <tr>\n",
       "      <th>EBAY</th>\n",
       "      <td>0.998035</td>\n",
       "    </tr>\n",
       "    <tr>\n",
       "      <th>FACEBOOK</th>\n",
       "      <td>0.978283</td>\n",
       "    </tr>\n",
       "    <tr>\n",
       "      <th>GMAIL</th>\n",
       "      <td>0.959381</td>\n",
       "    </tr>\n",
       "    <tr>\n",
       "      <th>GOOGLE</th>\n",
       "      <td>0.648765</td>\n",
       "    </tr>\n",
       "    <tr>\n",
       "      <th>HTTP</th>\n",
       "      <td>0.801205</td>\n",
       "    </tr>\n",
       "    <tr>\n",
       "      <th>HTTP_CONNECT</th>\n",
       "      <td>0.873767</td>\n",
       "    </tr>\n",
       "    <tr>\n",
       "      <th>HTTP_PROXY</th>\n",
       "      <td>0.703390</td>\n",
       "    </tr>\n",
       "    <tr>\n",
       "      <th>MICROSOFT</th>\n",
       "      <td>0.982213</td>\n",
       "    </tr>\n",
       "    <tr>\n",
       "      <th>MSN</th>\n",
       "      <td>0.987090</td>\n",
       "    </tr>\n",
       "    <tr>\n",
       "      <th>OFFICE_365</th>\n",
       "      <td>0.998088</td>\n",
       "    </tr>\n",
       "    <tr>\n",
       "      <th>SKYPE</th>\n",
       "      <td>0.979063</td>\n",
       "    </tr>\n",
       "    <tr>\n",
       "      <th>SSL</th>\n",
       "      <td>0.886320</td>\n",
       "    </tr>\n",
       "    <tr>\n",
       "      <th>TWITTER</th>\n",
       "      <td>0.978599</td>\n",
       "    </tr>\n",
       "    <tr>\n",
       "      <th>WHATSAPP</th>\n",
       "      <td>0.993131</td>\n",
       "    </tr>\n",
       "    <tr>\n",
       "      <th>WIKIPEDIA</th>\n",
       "      <td>0.998047</td>\n",
       "    </tr>\n",
       "    <tr>\n",
       "      <th>WINDOWS_UPDATE</th>\n",
       "      <td>0.990138</td>\n",
       "    </tr>\n",
       "    <tr>\n",
       "      <th>YAHOO</th>\n",
       "      <td>0.997096</td>\n",
       "    </tr>\n",
       "    <tr>\n",
       "      <th>YOUTUBE</th>\n",
       "      <td>0.902486</td>\n",
       "    </tr>\n",
       "  </tbody>\n",
       "</table>\n",
       "</div>"
      ],
      "text/plain": [
       "                F1-score\n",
       "AMAZON          0.958498\n",
       "APPLE           0.997895\n",
       "APPLE_ITUNES    0.999030\n",
       "CLOUDFLARE      0.985043\n",
       "CONTENT_FLASH   0.996973\n",
       "DROPBOX         0.993878\n",
       "EBAY            0.998035\n",
       "FACEBOOK        0.978283\n",
       "GMAIL           0.959381\n",
       "GOOGLE          0.648765\n",
       "HTTP            0.801205\n",
       "HTTP_CONNECT    0.873767\n",
       "HTTP_PROXY      0.703390\n",
       "MICROSOFT       0.982213\n",
       "MSN             0.987090\n",
       "OFFICE_365      0.998088\n",
       "SKYPE           0.979063\n",
       "SSL             0.886320\n",
       "TWITTER         0.978599\n",
       "WHATSAPP        0.993131\n",
       "WIKIPEDIA       0.998047\n",
       "WINDOWS_UPDATE  0.990138\n",
       "YAHOO           0.997096\n",
       "YOUTUBE         0.902486"
      ]
     },
     "execution_count": 52,
     "metadata": {},
     "output_type": "execute_result"
    }
   ],
   "source": [
    "print('weighted F1 Score : ' + str(f1_score(y_pred1,y_test1,average = 'weighted')))\n",
    "print('Macro F1 Score : ' + str(f1_score(y_pred1,y_test1,average = 'macro')))\n",
    "print('Micro F1 Score : ' + str(f1_score(y_pred1,y_test1,average = 'micro')))\n",
    "print('F1 Scores : ' )\n",
    "pd.DataFrame(f1_score(y_pred1,y_test1,labels=yL_test.columns,average = None),columns=['F1-score'],index=yL_test.columns)"
   ]
  },
  {
   "cell_type": "code",
   "execution_count": 53,
   "metadata": {},
   "outputs": [
    {
     "data": {
      "text/plain": [
       "24"
      ]
     },
     "execution_count": 53,
     "metadata": {},
     "output_type": "execute_result"
    }
   ],
   "source": [
    "len(yL_train.columns)# No. of distinct labels"
   ]
  },
  {
   "cell_type": "code",
   "execution_count": 54,
   "metadata": {},
   "outputs": [],
   "source": [
    "from sklearn.metrics import precision_score\n",
    "from sklearn.metrics import recall_score"
   ]
  },
  {
   "cell_type": "code",
   "execution_count": 67,
   "metadata": {},
   "outputs": [
    {
     "name": "stdout",
     "output_type": "stream",
     "text": [
      "Weighted Precision : 0.948367839982929\n",
      "Macro Precision : 0.9640601348949986\n",
      "Micro Precision : 0.9422459582952563\n",
      "Precision Scores : \n"
     ]
    },
    {
     "data": {
      "text/html": [
       "<div>\n",
       "<style scoped>\n",
       "    .dataframe tbody tr th:only-of-type {\n",
       "        vertical-align: middle;\n",
       "    }\n",
       "\n",
       "    .dataframe tbody tr th {\n",
       "        vertical-align: top;\n",
       "    }\n",
       "\n",
       "    .dataframe thead th {\n",
       "        text-align: right;\n",
       "    }\n",
       "</style>\n",
       "<table border=\"1\" class=\"dataframe\">\n",
       "  <thead>\n",
       "    <tr style=\"text-align: right;\">\n",
       "      <th></th>\n",
       "      <th>Precision-score</th>\n",
       "    </tr>\n",
       "  </thead>\n",
       "  <tbody>\n",
       "    <tr>\n",
       "      <th>AMAZON</th>\n",
       "      <td>0.970000</td>\n",
       "    </tr>\n",
       "    <tr>\n",
       "      <th>APPLE</th>\n",
       "      <td>1.000000</td>\n",
       "    </tr>\n",
       "    <tr>\n",
       "      <th>APPLE_ITUNES</th>\n",
       "      <td>1.000000</td>\n",
       "    </tr>\n",
       "    <tr>\n",
       "      <th>CLOUDFLARE</th>\n",
       "      <td>1.000000</td>\n",
       "    </tr>\n",
       "    <tr>\n",
       "      <th>CONTENT_FLASH</th>\n",
       "      <td>1.000000</td>\n",
       "    </tr>\n",
       "    <tr>\n",
       "      <th>DROPBOX</th>\n",
       "      <td>1.000000</td>\n",
       "    </tr>\n",
       "    <tr>\n",
       "      <th>EBAY</th>\n",
       "      <td>1.000000</td>\n",
       "    </tr>\n",
       "    <tr>\n",
       "      <th>FACEBOOK</th>\n",
       "      <td>1.000000</td>\n",
       "    </tr>\n",
       "    <tr>\n",
       "      <th>GMAIL</th>\n",
       "      <td>0.990020</td>\n",
       "    </tr>\n",
       "    <tr>\n",
       "      <th>GOOGLE</th>\n",
       "      <td>0.549091</td>\n",
       "    </tr>\n",
       "    <tr>\n",
       "      <th>HTTP</th>\n",
       "      <td>0.812627</td>\n",
       "    </tr>\n",
       "    <tr>\n",
       "      <th>HTTP_CONNECT</th>\n",
       "      <td>0.904082</td>\n",
       "    </tr>\n",
       "    <tr>\n",
       "      <th>HTTP_PROXY</th>\n",
       "      <td>0.622889</td>\n",
       "    </tr>\n",
       "    <tr>\n",
       "      <th>MICROSOFT</th>\n",
       "      <td>1.000000</td>\n",
       "    </tr>\n",
       "    <tr>\n",
       "      <th>MSN</th>\n",
       "      <td>1.000000</td>\n",
       "    </tr>\n",
       "    <tr>\n",
       "      <th>OFFICE_365</th>\n",
       "      <td>1.000000</td>\n",
       "    </tr>\n",
       "    <tr>\n",
       "      <th>SKYPE</th>\n",
       "      <td>1.000000</td>\n",
       "    </tr>\n",
       "    <tr>\n",
       "      <th>SSL</th>\n",
       "      <td>0.889749</td>\n",
       "    </tr>\n",
       "    <tr>\n",
       "      <th>TWITTER</th>\n",
       "      <td>0.988212</td>\n",
       "    </tr>\n",
       "    <tr>\n",
       "      <th>WHATSAPP</th>\n",
       "      <td>1.000000</td>\n",
       "    </tr>\n",
       "    <tr>\n",
       "      <th>WIKIPEDIA</th>\n",
       "      <td>1.000000</td>\n",
       "    </tr>\n",
       "    <tr>\n",
       "      <th>WINDOWS_UPDATE</th>\n",
       "      <td>1.000000</td>\n",
       "    </tr>\n",
       "    <tr>\n",
       "      <th>YAHOO</th>\n",
       "      <td>1.000000</td>\n",
       "    </tr>\n",
       "    <tr>\n",
       "      <th>YOUTUBE</th>\n",
       "      <td>0.957404</td>\n",
       "    </tr>\n",
       "  </tbody>\n",
       "</table>\n",
       "</div>"
      ],
      "text/plain": [
       "                Precision-score\n",
       "AMAZON                 0.970000\n",
       "APPLE                  1.000000\n",
       "APPLE_ITUNES           1.000000\n",
       "CLOUDFLARE             1.000000\n",
       "CONTENT_FLASH          1.000000\n",
       "DROPBOX                1.000000\n",
       "EBAY                   1.000000\n",
       "FACEBOOK               1.000000\n",
       "GMAIL                  0.990020\n",
       "GOOGLE                 0.549091\n",
       "HTTP                   0.812627\n",
       "HTTP_CONNECT           0.904082\n",
       "HTTP_PROXY             0.622889\n",
       "MICROSOFT              1.000000\n",
       "MSN                    1.000000\n",
       "OFFICE_365             1.000000\n",
       "SKYPE                  1.000000\n",
       "SSL                    0.889749\n",
       "TWITTER                0.988212\n",
       "WHATSAPP               1.000000\n",
       "WIKIPEDIA              1.000000\n",
       "WINDOWS_UPDATE         1.000000\n",
       "YAHOO                  1.000000\n",
       "YOUTUBE                0.957404"
      ]
     },
     "execution_count": 67,
     "metadata": {},
     "output_type": "execute_result"
    }
   ],
   "source": [
    "print('Weighted Precision : '+str(precision_score(y_test1, y_pred1,average=\"weighted\")))\n",
    "print('Macro Precision : '+str(precision_score(y_test1, y_pred1,average=\"macro\")))\n",
    "print('Micro Precision : '+str(precision_score(y_test1, y_pred1,average=\"micro\")))\n",
    "print('Precision Scores : ' )\n",
    "pd.DataFrame(precision_score(y_pred1,y_test1,labels=yL_test.columns,average = None),columns=['Precision-score'],index=yL_test.columns)"
   ]
  },
  {
   "cell_type": "code",
   "execution_count": 68,
   "metadata": {},
   "outputs": [
    {
     "name": "stdout",
     "output_type": "stream",
     "text": [
      "Weighted Recall : 0.9499043794165593\n",
      "Macro Recall : 0.9401459582952563\n",
      "Micro Recall : 0.9357459582952563\n",
      "Recall Scores : \n"
     ]
    },
    {
     "data": {
      "text/html": [
       "<div>\n",
       "<style scoped>\n",
       "    .dataframe tbody tr th:only-of-type {\n",
       "        vertical-align: middle;\n",
       "    }\n",
       "\n",
       "    .dataframe tbody tr th {\n",
       "        vertical-align: top;\n",
       "    }\n",
       "\n",
       "    .dataframe thead th {\n",
       "        text-align: right;\n",
       "    }\n",
       "</style>\n",
       "<table border=\"1\" class=\"dataframe\">\n",
       "  <thead>\n",
       "    <tr style=\"text-align: right;\">\n",
       "      <th></th>\n",
       "      <th>recall-score</th>\n",
       "    </tr>\n",
       "  </thead>\n",
       "  <tbody>\n",
       "    <tr>\n",
       "      <th>AMAZON</th>\n",
       "      <td>0.947266</td>\n",
       "    </tr>\n",
       "    <tr>\n",
       "      <th>APPLE</th>\n",
       "      <td>0.995798</td>\n",
       "    </tr>\n",
       "    <tr>\n",
       "      <th>APPLE_ITUNES</th>\n",
       "      <td>0.998062</td>\n",
       "    </tr>\n",
       "    <tr>\n",
       "      <th>CLOUDFLARE</th>\n",
       "      <td>0.970526</td>\n",
       "    </tr>\n",
       "    <tr>\n",
       "      <th>CONTENT_FLASH</th>\n",
       "      <td>0.993964</td>\n",
       "    </tr>\n",
       "    <tr>\n",
       "      <th>DROPBOX</th>\n",
       "      <td>0.987830</td>\n",
       "    </tr>\n",
       "    <tr>\n",
       "      <th>EBAY</th>\n",
       "      <td>0.996078</td>\n",
       "    </tr>\n",
       "    <tr>\n",
       "      <th>FACEBOOK</th>\n",
       "      <td>0.957490</td>\n",
       "    </tr>\n",
       "    <tr>\n",
       "      <th>GMAIL</th>\n",
       "      <td>0.930582</td>\n",
       "    </tr>\n",
       "    <tr>\n",
       "      <th>GOOGLE</th>\n",
       "      <td>0.792651</td>\n",
       "    </tr>\n",
       "    <tr>\n",
       "      <th>HTTP</th>\n",
       "      <td>0.790099</td>\n",
       "    </tr>\n",
       "    <tr>\n",
       "      <th>HTTP_CONNECT</th>\n",
       "      <td>0.845420</td>\n",
       "    </tr>\n",
       "    <tr>\n",
       "      <th>HTTP_PROXY</th>\n",
       "      <td>0.807786</td>\n",
       "    </tr>\n",
       "    <tr>\n",
       "      <th>MICROSOFT</th>\n",
       "      <td>0.965049</td>\n",
       "    </tr>\n",
       "    <tr>\n",
       "      <th>MSN</th>\n",
       "      <td>0.974510</td>\n",
       "    </tr>\n",
       "    <tr>\n",
       "      <th>OFFICE_365</th>\n",
       "      <td>0.996183</td>\n",
       "    </tr>\n",
       "    <tr>\n",
       "      <th>SKYPE</th>\n",
       "      <td>0.958984</td>\n",
       "    </tr>\n",
       "    <tr>\n",
       "      <th>SSL</th>\n",
       "      <td>0.882917</td>\n",
       "    </tr>\n",
       "    <tr>\n",
       "      <th>TWITTER</th>\n",
       "      <td>0.969171</td>\n",
       "    </tr>\n",
       "    <tr>\n",
       "      <th>WHATSAPP</th>\n",
       "      <td>0.986355</td>\n",
       "    </tr>\n",
       "    <tr>\n",
       "      <th>WIKIPEDIA</th>\n",
       "      <td>0.996101</td>\n",
       "    </tr>\n",
       "    <tr>\n",
       "      <th>WINDOWS_UPDATE</th>\n",
       "      <td>0.980469</td>\n",
       "    </tr>\n",
       "    <tr>\n",
       "      <th>YAHOO</th>\n",
       "      <td>0.994208</td>\n",
       "    </tr>\n",
       "    <tr>\n",
       "      <th>YOUTUBE</th>\n",
       "      <td>0.853526</td>\n",
       "    </tr>\n",
       "  </tbody>\n",
       "</table>\n",
       "</div>"
      ],
      "text/plain": [
       "                recall-score\n",
       "AMAZON              0.947266\n",
       "APPLE               0.995798\n",
       "APPLE_ITUNES        0.998062\n",
       "CLOUDFLARE          0.970526\n",
       "CONTENT_FLASH       0.993964\n",
       "DROPBOX             0.987830\n",
       "EBAY                0.996078\n",
       "FACEBOOK            0.957490\n",
       "GMAIL               0.930582\n",
       "GOOGLE              0.792651\n",
       "HTTP                0.790099\n",
       "HTTP_CONNECT        0.845420\n",
       "HTTP_PROXY          0.807786\n",
       "MICROSOFT           0.965049\n",
       "MSN                 0.974510\n",
       "OFFICE_365          0.996183\n",
       "SKYPE               0.958984\n",
       "SSL                 0.882917\n",
       "TWITTER             0.969171\n",
       "WHATSAPP            0.986355\n",
       "WIKIPEDIA           0.996101\n",
       "WINDOWS_UPDATE      0.980469\n",
       "YAHOO               0.994208\n",
       "YOUTUBE             0.853526"
      ]
     },
     "execution_count": 68,
     "metadata": {},
     "output_type": "execute_result"
    }
   ],
   "source": [
    "print('Weighted Recall : '+str(recall_score(y_test1, y_pred1,average=\"weighted\")))\n",
    "print('Macro Recall : '+str(recall_score(y_test1, y_pred1,average=\"macro\")))\n",
    "print('Micro Recall : '+str(recall_score(y_test1, y_pred1,average=\"micro\")))\n",
    "print('Recall Scores : ' )\n",
    "pd.DataFrame(recall_score(y_pred1,y_test1,labels=yL_test.columns,average = None),columns=['recall-score'],index=yL_test.columns)"
   ]
  },
  {
   "cell_type": "markdown",
   "metadata": {},
   "source": [
    "#### Confusion Matrix with 10 chosen well-known classes\n",
    "Classes : AMAZON, FACEBOOK, GMAIL, GOOGLE, HTTP, OFFICE_365, SKYPE, TWITTER, WHATSAPP, YOUTUBE"
   ]
  },
  {
   "cell_type": "code",
   "execution_count": 57,
   "metadata": {},
   "outputs": [],
   "source": [
    "from sklearn.metrics import confusion_matrix\n",
    "apps=['AMAZON','FACEBOOK','GMAIL','GOOGLE','HTTP','OFFICE_365','SKYPE','TWITTER','WHATSAPP','YOUTUBE']#reporting for these well-known Apps\n",
    "y_test1[y_test1.isin(apps)]\n",
    "cm=confusion_matrix(y_test1[y_test1.isin(apps)],y_pred1[y_test1.isin(apps)],labels=y_test1[y_test1.isin(apps)].unique())"
   ]
  },
  {
   "cell_type": "code",
   "execution_count": 58,
   "metadata": {},
   "outputs": [],
   "source": [
    "cm_pc=pd.DataFrame((cm.T/np.sum(cm,axis=1)).T,columns=y_test1[y_test1.isin(apps)].unique(),index=y_test1[y_test1.isin(apps)].unique())\n",
    "cm_pc=cm_pc.replace(np.nan,0)"
   ]
  },
  {
   "cell_type": "code",
   "execution_count": 60,
   "metadata": {},
   "outputs": [
    {
     "data": {
      "image/png": "[encoded data removed]",
      "text/plain": [
       "<Figure size 1080x720 with 2 Axes>"
      ]
     },
     "metadata": {},
     "output_type": "display_data"
    }
   ],
   "source": [
    "plt.figure(figsize=(15,10))\n",
    "df_cm=pd.DataFrame(cm,columns=y_test1[y_test1.isin(apps)].unique(),index=y_test1[y_test1.isin(apps)].unique())\n",
    "sns.set(font_scale=1.1)\n",
    "sns.heatmap(cm_pc, annot=True,fmt='.1%',cmap=sns.color_palette(\"Reds\",150)) # font size\n",
    "plt.show()"
   ]
  },
  {
   "cell_type": "markdown",
   "metadata": {},
   "source": [
    "# 6. ML methods\n",
    "#### Performing ML methods on Transformed data"
   ]
  },
  {
   "cell_type": "code",
   "execution_count": 26,
   "metadata": {},
   "outputs": [],
   "source": [
    "# import sklearn libraries\n",
    "from sklearn.metrics import precision_score\n",
    "from sklearn.metrics import recall_score\n",
    "from sklearn.metrics import f1_score"
   ]
  },
  {
   "cell_type": "markdown",
   "metadata": {},
   "source": [
    "# RandomForest\n"
   ]
  },
  {
   "cell_type": "code",
   "execution_count": 37,
   "metadata": {},
   "outputs": [
    {
     "data": {
      "text/plain": [
       "RandomForestClassifier(max_depth=60, random_state=0)"
      ]
     },
     "execution_count": 37,
     "metadata": {},
     "output_type": "execute_result"
    }
   ],
   "source": [
    "from sklearn.ensemble import RandomForestClassifier\n",
    "clf=RandomForestClassifier(random_state=0, max_depth = 60)\n",
    "clf.fit(XL_train1,yL_train2)"
   ]
  },
  {
   "cell_type": "code",
   "execution_count": 45,
   "metadata": {},
   "outputs": [
    {
     "name": "stdout",
     "output_type": "stream",
     "text": [
      "0.9415030324429859\n",
      "0.9007844645675832\n"
     ]
    }
   ],
   "source": [
    "print(clf.score(XL_train1,yL_train2))# train accuracy\n",
    "print(clf.score(XL_test1,yL_test2))# test accuracy"
   ]
  },
  {
   "cell_type": "code",
   "execution_count": 30,
   "metadata": {},
   "outputs": [],
   "source": [
    "y_pred=clf.predict(XL_test1)"
   ]
  },
  {
   "cell_type": "code",
   "execution_count": 47,
   "metadata": {},
   "outputs": [
    {
     "name": "stdout",
     "output_type": "stream",
     "text": [
      "weighted F1 Score : 0.8945228929535777\n",
      "weighted Precision : 0.9180610288207022\n",
      "weighted Recall : 0.9007844645675832\n"
     ]
    }
   ],
   "source": [
    "# Results\n",
    "print('weighted F1 Score : ' + str(f1_score(y_pred,yL_test2,average='weighted')))\n",
    "print('weighted Precision : ' + str(precision_score(y_pred,yL_test2,average='weighted')))\n",
    "print('weighted Recall : ' + str(recall_score(y_pred,yL_test2,average='weighted')))"
   ]
  },
  {
   "cell_type": "code",
   "execution_count": 48,
   "metadata": {},
   "outputs": [
    {
     "name": "stdout",
     "output_type": "stream",
     "text": [
      "macro F1 Score : 0.8811202439535777\n",
      "macro Precision : 0.9091948576626351\n",
      "macro Recall : 0.8968722819883678\n"
     ]
    }
   ],
   "source": [
    "# Results\n",
    "print('macro F1 Score : ' + str(f1_score(y_pred,yL_test2,average='macro')))\n",
    "print('macro Precision : ' + str(precision_score(y_pred,yL_test2,average='macro')))\n",
    "print('macro Recall : ' + str(recall_score(y_pred,yL_test2,average='macro')))"
   ]
  },
  {
   "cell_type": "markdown",
   "metadata": {},
   "source": [
    "# SVM"
   ]
  },
  {
   "cell_type": "code",
   "execution_count": 26,
   "metadata": {},
   "outputs": [],
   "source": [
    "from sklearn.svm import SVC\n",
    "clf=SVC(random_state=0,kernel='rbf').fit(XL_train1,yL_train2)"
   ]
  },
  {
   "cell_type": "code",
   "execution_count": 27,
   "metadata": {},
   "outputs": [
    {
     "name": "stdout",
     "output_type": "stream",
     "text": [
      "0.5646471316412579\n",
      "0.5619350918002824\n"
     ]
    }
   ],
   "source": [
    "print(clf.score(XL_train1,yL_train2))# train accuracy\n",
    "print(clf.score(XL_test1,yL_test2))# test accuracy"
   ]
  },
  {
   "cell_type": "code",
   "execution_count": 29,
   "metadata": {},
   "outputs": [],
   "source": [
    "y_pred=clf.predict(XL_test1)"
   ]
  },
  {
   "cell_type": "code",
   "execution_count": 30,
   "metadata": {},
   "outputs": [
    {
     "name": "stdout",
     "output_type": "stream",
     "text": [
      "weighted F1 Score : 0.5716087672478307\n",
      "weighted Precision : 0.6389943732560074\n",
      "weighted Recall : 0.5619350918002824\n"
     ]
    }
   ],
   "source": [
    "#results\n",
    "print('weighted F1 Score : ' + str(f1_score(y_pred,yL_test2,average = 'weighted')))\n",
    "print('weighted Precision : ' + str(precision_score(y_pred,yL_test2,average = 'weighted')))\n",
    "print('weighted Recall : ' + str(recall_score(y_pred,yL_test2,average = 'weighted')))"
   ]
  },
  {
   "cell_type": "code",
   "execution_count": 32,
   "metadata": {},
   "outputs": [
    {
     "name": "stdout",
     "output_type": "stream",
     "text": [
      "macro F1 Score : 0.5711357632472212\n",
      "macro Precision : 0.6365976626350074\n",
      "macro Recall : 0.5509540914002559\n"
     ]
    }
   ],
   "source": [
    "#results\n",
    "print('macro F1 Score : ' + str(f1_score(y_pred,yL_test2,average = 'macro')))\n",
    "print('macro' Precision :  + str(precision_score(y_pred,yL_test2,average = 'macro')))\n",
    "print('macro Recall : ' + str(recall_score(y_pred,yL_test2,average = 'macro')))"
   ]
  },
  {
   "cell_type": "markdown",
   "metadata": {},
   "source": [
    "# Decision Tree"
   ]
  },
  {
   "cell_type": "code",
   "execution_count": 49,
   "metadata": {},
   "outputs": [],
   "source": [
    "from sklearn.tree import DecisionTreeClassifier\n",
    "clf=DecisionTreeClassifier(max_depth=60).fit(XL_train1,yL_train2)"
   ]
  },
  {
   "cell_type": "code",
   "execution_count": 50,
   "metadata": {},
   "outputs": [
    {
     "data": {
      "text/plain": [
       "0.9990030324429859"
      ]
     },
     "execution_count": 50,
     "metadata": {},
     "output_type": "execute_result"
    }
   ],
   "source": [
    "clf.score(XL_train1,yL_train2) #train accuracy"
   ]
  },
  {
   "cell_type": "code",
   "execution_count": 52,
   "metadata": {},
   "outputs": [
    {
     "name": "stdout",
     "output_type": "stream",
     "text": [
      "0.8889428844396444\n"
     ]
    }
   ],
   "source": [
    "print(clf.score(XL_test1,yL_test2))# test accuracy"
   ]
  },
  {
   "cell_type": "code",
   "execution_count": 53,
   "metadata": {},
   "outputs": [
    {
     "name": "stdout",
     "output_type": "stream",
     "text": [
      "weighted F1 Score : 0.8842415669269293\n",
      "weighted Precision : 0.9093726370501222\n",
      "weighted Recall : 0.8889428844396444\n"
     ]
    }
   ],
   "source": [
    "#results\n",
    "y_pred=clf.predict(XL_test1)\n",
    "print('weighted F1 Score : ' + str(f1_score(y_pred,yL_test2,average = 'weighted')))\n",
    "print('weighted Precision : ' + str(precision_score(y_pred,yL_test2,average = 'weighted')))\n",
    "print('weighted Recall : ' + str(recall_score(y_pred,yL_test2,average = 'weighted')))"
   ]
  },
  {
   "cell_type": "code",
   "execution_count": 34,
   "metadata": {},
   "outputs": [
    {
     "name": "stdout",
     "output_type": "stream",
     "text": [
      "macro F1 Score : 0.874241564456929\n",
      "macro Precision : 0.900267837461521\n",
      "macro Recall : 0.890280052745829\n"
     ]
    }
   ],
   "source": [
    "#results\n",
    "y_pred=clf.predict(XL_test1)\n",
    "print('macro F1 Score : ' + str(f1_score(y_pred,yL_test2,average = 'macro')))\n",
    "print('macro Precision : ' + str(precision_score(y_pred,yL_test2,average = 'macro')))\n",
    "print('macro Recall : ' + str(recall_score(y_pred,yL_test2,average = 'macro')))"
   ]
  },
  {
   "cell_type": "markdown",
   "metadata": {},
   "source": [
    "### XGBOOST"
   ]
  },
  {
   "cell_type": "code",
   "execution_count": 60,
   "metadata": {},
   "outputs": [],
   "source": [
    "from xgboost import XGBClassifier\n",
    "from sklearn.multiclass import OneVsRestClassifier"
   ]
  },
  {
   "cell_type": "code",
   "execution_count": 61,
   "metadata": {},
   "outputs": [],
   "source": [
    "train0=time.time()\n",
    "clf = OneVsRestClassifier(XGBClassifier(verbosity=0)).fit(XL_train1, yL_train2)\n",
    "train1=time.time()"
   ]
  },
  {
   "cell_type": "code",
   "execution_count": 66,
   "metadata": {},
   "outputs": [
    {
     "name": "stdout",
     "output_type": "stream",
     "text": [
      "Train-score: 0.9510555161573488\n"
     ]
    }
   ],
   "source": [
    "print('Train-score: '+str(clf.score(XL_train1,yL_train2)))# train accuracy"
   ]
  },
  {
   "cell_type": "code",
   "execution_count": 64,
   "metadata": {},
   "outputs": [
    {
     "name": "stdout",
     "output_type": "stream",
     "text": [
      "Test-score: 0.9170889756583867\n"
     ]
    }
   ],
   "source": [
    "print('Test-score: '+str(clf.score(XL_test1,yL_test2)))# test accuracy"
   ]
  },
  {
   "cell_type": "code",
   "execution_count": 37,
   "metadata": {},
   "outputs": [
    {
     "name": "stdout",
     "output_type": "stream",
     "text": [
      "weighted F1 Score : 0.9205838415826192\n",
      "weighted Precision : 0.9308747161575589\n",
      "weighted Recall : 0.9170889756583867\n"
     ]
    }
   ],
   "source": [
    "#results\n",
    "y_pred=clf.predict(XL_test1)\n",
    "print('weighted F1 Score : ' + str(f1_score(y_pred,yL_test2,average = 'weighted')))\n",
    "print('weighted Precision : ' + str(precision_score(y_pred,yL_test2,average = 'weighted')))\n",
    "print('weighted Recall : ' + str(recall_score(y_pred,yL_test2,average = 'weighted')))"
   ]
  },
  {
   "cell_type": "code",
   "execution_count": 36,
   "metadata": {},
   "outputs": [
    {
     "name": "stdout",
     "output_type": "stream",
     "text": [
      "macro F1 Score : 0.922183877802733\n",
      "macro Precision : 0.9300789263578801\n",
      "macro Recall : 0.9111034044027819\n"
     ]
    }
   ],
   "source": [
    "#results\n",
    "y_pred=clf.predict(XL_test1)\n",
    "print('macro F1 Score : ' + str(f1_score(y_pred,yL_test2,average = 'macro')))\n",
    "print('macro Precision : ' + str(precision_score(y_pred,yL_test2,average = 'maco')))\n",
    "print('macro Recall : ' + str(recall_score(y_pred,yL_test2,average = 'macro')))"
   ]
  },
  {
   "cell_type": "code",
   "execution_count": null,
   "metadata": {},
   "outputs": [],
   "source": []
  }
 ],
 "metadata": {
  "kernelspec": {
   "display_name": "Python 3",
   "language": "python",
   "name": "python3"
  },
  "language_info": {
   "codemirror_mode": {
    "name": "ipython",
    "version": 3
   },
   "file_extension": ".py",
   "mimetype": "text/x-python",
   "name": "python",
   "nbconvert_exporter": "python",
   "pygments_lexer": "ipython3",
   "version": "3.7.1"
  }
 },
 "nbformat": 4,
 "nbformat_minor": 2
}
