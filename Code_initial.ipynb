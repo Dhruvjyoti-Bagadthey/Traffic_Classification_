{
 "cells": [
  {
   "cell_type": "code",
   "execution_count": 1,
   "metadata": {},
   "outputs": [],
   "source": [
    "import pandas as pd\n",
    "import glob\n",
    "import numpy as np\n",
    "import matplotlib.pyplot as plt"
   ]
  },
  {
   "cell_type": "code",
   "execution_count": 2,
   "metadata": {},
   "outputs": [
    {
     "name": "stderr",
     "output_type": "stream",
     "text": [
      "b'Skipping line 60888: expected 76 fields, saw 93\\n'\n",
      "b'Skipping line 71705: expected 76 fields, saw 93\\n'\n",
      "b'Skipping line 82522: expected 76 fields, saw 93\\n'\n",
      "b'Skipping line 93339: expected 76 fields, saw 93\\n'\n",
      "b'Skipping line 104156: expected 76 fields, saw 93\\n'\n",
      "b'Skipping line 114973: expected 76 fields, saw 93\\n'\n",
      "b'Skipping line 125790: expected 76 fields, saw 93\\n'\n",
      "b'Skipping line 136607: expected 76 fields, saw 93\\n'\n",
      "b'Skipping line 147424: expected 76 fields, saw 93\\n'\n",
      "b'Skipping line 158241: expected 76 fields, saw 93\\n'\n",
      "b'Skipping line 169058: expected 76 fields, saw 93\\n'\n",
      "b'Skipping line 179875: expected 76 fields, saw 93\\n'\n",
      "b'Skipping line 190692: expected 76 fields, saw 93\\n'\n",
      "b'Skipping line 201509: expected 76 fields, saw 93\\n'\n",
      "b'Skipping line 212326: expected 76 fields, saw 93\\n'\n",
      "b'Skipping line 223143: expected 76 fields, saw 93\\n'\n",
      "b'Skipping line 233960: expected 76 fields, saw 93\\n'\n",
      "b'Skipping line 244777: expected 76 fields, saw 93\\n'\n",
      "b'Skipping line 255594: expected 76 fields, saw 93\\n'\n",
      "b'Skipping line 266411: expected 76 fields, saw 93\\n'\n",
      "b'Skipping line 277228: expected 76 fields, saw 93\\n'\n",
      "b'Skipping line 288045: expected 76 fields, saw 93\\n'\n",
      "b'Skipping line 298862: expected 76 fields, saw 93\\n'\n",
      "b'Skipping line 309679: expected 76 fields, saw 93\\n'\n",
      "b'Skipping line 320496: expected 76 fields, saw 93\\n'\n",
      "b'Skipping line 331313: expected 76 fields, saw 93\\n'\n",
      "b'Skipping line 342130: expected 76 fields, saw 93\\n'\n",
      "b'Skipping line 352947: expected 76 fields, saw 93\\n'\n",
      "b'Skipping line 363764: expected 76 fields, saw 93\\n'\n",
      "b'Skipping line 374581: expected 76 fields, saw 93\\n'\n",
      "b'Skipping line 385398: expected 76 fields, saw 93\\n'\n",
      "b'Skipping line 396215: expected 76 fields, saw 93\\n'\n",
      "b'Skipping line 407032: expected 76 fields, saw 93\\n'\n",
      "b'Skipping line 417849: expected 76 fields, saw 93\\n'\n",
      "b'Skipping line 428666: expected 76 fields, saw 93\\n'\n",
      "b'Skipping line 439483: expected 76 fields, saw 93\\n'\n",
      "b'Skipping line 450300: expected 76 fields, saw 93\\n'\n",
      "b'Skipping line 461117: expected 76 fields, saw 93\\n'\n",
      "b'Skipping line 471934: expected 76 fields, saw 93\\n'\n",
      "b'Skipping line 482751: expected 76 fields, saw 93\\n'\n",
      "b'Skipping line 493568: expected 76 fields, saw 93\\n'\n",
      "b'Skipping line 504385: expected 76 fields, saw 93\\n'\n",
      "b'Skipping line 515202: expected 76 fields, saw 93\\n'\n",
      "b'Skipping line 526019: expected 76 fields, saw 93\\n'\n",
      "b'Skipping line 536836: expected 76 fields, saw 93\\n'\n",
      "b'Skipping line 547653: expected 76 fields, saw 93\\n'\n",
      "b'Skipping line 558470: expected 76 fields, saw 93\\n'\n",
      "b'Skipping line 569287: expected 76 fields, saw 93\\n'\n",
      "b'Skipping line 580104: expected 76 fields, saw 93\\n'\n",
      "b'Skipping line 590921: expected 76 fields, saw 93\\n'\n",
      "b'Skipping line 601738: expected 76 fields, saw 93\\n'\n",
      "b'Skipping line 612555: expected 76 fields, saw 93\\n'\n",
      "b'Skipping line 623372: expected 76 fields, saw 93\\n'\n",
      "b'Skipping line 634189: expected 76 fields, saw 93\\n'\n",
      "b'Skipping line 645006: expected 76 fields, saw 93\\n'\n",
      "b'Skipping line 655823: expected 76 fields, saw 93\\n'\n",
      "b'Skipping line 666640: expected 76 fields, saw 93\\n'\n",
      "b'Skipping line 677457: expected 76 fields, saw 93\\n'\n",
      "b'Skipping line 688274: expected 76 fields, saw 93\\n'\n",
      "b'Skipping line 699091: expected 76 fields, saw 93\\n'\n",
      "b'Skipping line 709908: expected 76 fields, saw 93\\n'\n",
      "b'Skipping line 720725: expected 76 fields, saw 93\\n'\n",
      "b'Skipping line 731542: expected 76 fields, saw 93\\n'\n",
      "b'Skipping line 742359: expected 76 fields, saw 93\\n'\n",
      "b'Skipping line 753176: expected 76 fields, saw 93\\n'\n",
      "b'Skipping line 763993: expected 76 fields, saw 93\\n'\n",
      "b'Skipping line 774810: expected 76 fields, saw 93\\n'\n",
      "b'Skipping line 785627: expected 76 fields, saw 93\\n'\n",
      "b'Skipping line 796444: expected 76 fields, saw 93\\n'\n",
      "b'Skipping line 807261: expected 76 fields, saw 93\\n'\n",
      "b'Skipping line 818078: expected 76 fields, saw 93\\n'\n",
      "b'Skipping line 828895: expected 76 fields, saw 93\\n'\n",
      "b'Skipping line 839712: expected 76 fields, saw 93\\n'\n",
      "b'Skipping line 850529: expected 76 fields, saw 93\\n'\n",
      "b'Skipping line 861346: expected 76 fields, saw 93\\n'\n",
      "b'Skipping line 872163: expected 76 fields, saw 93\\n'\n",
      "c:\\users\\dhruvjyoti\\appdata\\local\\programs\\python\\python37\\lib\\site-packages\\IPython\\core\\interactiveshell.py:3049: DtypeWarning: Columns (49) have mixed types. Specify dtype option on import or set low_memory=False.\n",
      "  interactivity=interactivity, compiler=compiler, result=result)\n"
     ]
    }
   ],
   "source": [
    "\n",
    "all_files = glob.glob(\"./Data\" + \"/*.csv\")\n",
    "\n",
    "li = []\n",
    "\n",
    "for filename in all_files:\n",
    "    df = pd.read_csv(filename, index_col=None, header=0,error_bad_lines=False)\n",
    "    li.append(df)\n",
    "\n",
    "frame = pd.concat(li, axis=0, ignore_index=True)\n"
   ]
  },
  {
   "cell_type": "code",
   "execution_count": 48,
   "metadata": {},
   "outputs": [
    {
     "name": "stdout",
     "output_type": "stream",
     "text": [
      "The total no. of instances are: 3707629\n"
     ]
    }
   ],
   "source": [
    "print('The total no. of instances are: '+str(len(frame)))"
   ]
  },
  {
   "cell_type": "code",
   "execution_count": 41,
   "metadata": {},
   "outputs": [
    {
     "data": {
      "text/plain": [
       "ProtocolName\n",
       "HTTP                 897948\n",
       "GOOGLE               822881\n",
       "HTTP_PROXY           797189\n",
       "SSL                  350782\n",
       "HTTP_CONNECT         317348\n",
       "YOUTUBE              135584\n",
       "AMAZON                63117\n",
       "DROPBOX               55647\n",
       "MICROSOFT             48440\n",
       "GMAIL                 37997\n",
       "WINDOWS_UPDATE        29848\n",
       "SKYPE                 27159\n",
       "FACEBOOK              22843\n",
       "YAHOO                 18469\n",
       "TWITTER               15328\n",
       "CLOUDFLARE            12898\n",
       "MSN                   12122\n",
       "CONTENT_FLASH          8589\n",
       "OFFICE_365             5468\n",
       "APPLE                  4097\n",
       "DNS                    3859\n",
       "WHATSAPP               3069\n",
       "INSTAGRAM              2292\n",
       "WIKIPEDIA              1801\n",
       "MS_ONE_DRIVE           1551\n",
       "NETFLIX                1420\n",
       "IP_ICMP                1326\n",
       "EBAY                   1070\n",
       "APPLE_ITUNES            970\n",
       "SPOTIFY                 969\n",
       "                      ...  \n",
       "UNENCRYPED_JABBER        35\n",
       "TIMMEU                   34\n",
       "TELEGRAM                 33\n",
       "TWITCH                   24\n",
       "FTP_CONTROL              23\n",
       "H323                     21\n",
       "MSSQL                    19\n",
       "LASTFM                   18\n",
       "ORACLE                   12\n",
       "CITRIX                   11\n",
       "TEAMSPEAK                10\n",
       "BITTORRENT               10\n",
       "WHOIS_DAS                10\n",
       "RTMP                      9\n",
       "MAIL_IMAPS                9\n",
       "OPENSIGNAL                9\n",
       "SKINNY                    8\n",
       "BGP                       6\n",
       "SIMET                     5\n",
       "OSCAR                     4\n",
       "SNMP                      4\n",
       "OPENVPN                   4\n",
       "LOTUS_NOTES               4\n",
       "STARCRAFT                 3\n",
       "CNN                       3\n",
       "IP_OSPF                   2\n",
       "QQ                        2\n",
       "SOCKS                     1\n",
       "NFS                       1\n",
       "99TAXI                    1\n",
       "Name: ProtocolName, Length: 77, dtype: int64"
      ]
     },
     "execution_count": 41,
     "metadata": {},
     "output_type": "execute_result"
    }
   ],
   "source": [
    "a=frame.groupby('ProtocolName')['ProtocolName'].count().sort_values(ascending=False)\n",
    "a# unique values of ProtocolName and their counts"
   ]
  },
  {
   "cell_type": "code",
   "execution_count": 37,
   "metadata": {},
   "outputs": [
    {
     "data": {
      "text/plain": [
       "HTTP              897948.0\n",
       "GOOGLE            822881.0\n",
       "HTTP_PROXY        797189.0\n",
       "SSL               350782.0\n",
       "HTTP_CONNECT      317348.0\n",
       "YOUTUBE           135584.0\n",
       "AMAZON             63117.0\n",
       "DROPBOX            55647.0\n",
       "MICROSOFT          48440.0\n",
       "GMAIL              37997.0\n",
       "WINDOWS_UPDATE     29848.0\n",
       "SKYPE              27159.0\n",
       "FACEBOOK           22843.0\n",
       "YAHOO              18469.0\n",
       "TWITTER            15328.0\n",
       "CLOUDFLARE         12898.0\n",
       "MSN                12122.0\n",
       "other              42027.0\n",
       "dtype: float64"
      ]
     },
     "execution_count": 37,
     "metadata": {},
     "output_type": "execute_result"
    }
   ],
   "source": [
    "b= a.where(a>10000).dropna()\n",
    "c=a.where(a<=10000).dropna()\n",
    "other=pd.Series(sum(c),index=['other'])\n",
    "b=b.append(other)\n",
    "b#Protocol names above a certain threshold, rest are marked in 'others'"
   ]
  },
  {
   "cell_type": "code",
   "execution_count": 53,
   "metadata": {},
   "outputs": [
    {
     "data": {
      "image/png": "[encoded data removed]",
      "text/plain": [
       "<Figure size 432x288 with 1 Axes>"
      ]
     },
     "metadata": {},
     "output_type": "display_data"
    }
   ],
   "source": [
    "#A pie chart on \n",
    "plt.pie(b,labels=b.index,radius=4,autopct='%1.1f%%',pctdistance=0.8)\n",
    "plt.xticks(fontsize=16)\n",
    "plt.show()"
   ]
  },
  {
   "cell_type": "code",
   "execution_count": 2,
   "metadata": {},
   "outputs": [],
   "source": [
    "df=pd.read_csv('./Data/data_27day.csv')"
   ]
  },
  {
   "cell_type": "code",
   "execution_count": null,
   "metadata": {},
   "outputs": [],
   "source": []
  },
  {
   "cell_type": "code",
   "execution_count": 3,
   "metadata": {},
   "outputs": [],
   "source": [
    "a=df.groupby('ProtocolName')['ProtocolName'].count()"
   ]
  },
  {
   "cell_type": "code",
   "execution_count": 4,
   "metadata": {},
   "outputs": [],
   "source": [
    "b= a.where(a>10000).dropna()\n",
    "c=a.where(a<=10000).dropna()\n",
    "other=pd.Series(sum(c),index=['other'])\n",
    "b=b.append(other)\n"
   ]
  },
  {
   "cell_type": "code",
   "execution_count": 5,
   "metadata": {},
   "outputs": [],
   "source": [
    "df.loc[df['ProtocolName'].isin(c.index) ,'ProtocolName'] = 'Others'"
   ]
  },
  {
   "cell_type": "code",
   "execution_count": 6,
   "metadata": {},
   "outputs": [],
   "source": [
    "Y=pd.get_dummies(df['ProtocolName'])\n",
    "X=df.iloc[:,:-1]"
   ]
  },
  {
   "cell_type": "markdown",
   "metadata": {},
   "source": [
    "### Layer 1 Autoencoder\n",
    "\n",
    "Input : INPUT with 75 features"
   ]
  },
  {
   "cell_type": "code",
   "execution_count": 7,
   "metadata": {},
   "outputs": [
    {
     "name": "stderr",
     "output_type": "stream",
     "text": [
      "Using TensorFlow backend.\n"
     ]
    }
   ],
   "source": [
    "from keras.layers import Input, Dense\n",
    "from keras.models import Model\n",
    "import keras.backend as K\n",
    "import tensorflow as tf\n"
   ]
  },
  {
   "cell_type": "code",
   "execution_count": 8,
   "metadata": {},
   "outputs": [],
   "source": [
    "'''\n",
    "Sparcity Autoencoder's Sparcity Activity Regularization\n",
    "\n",
    "'''\n",
    "def kl_divergence(rho, rho_hat):\n",
    "    return rho * tf.math.log(rho) - rho * tf.math.log(rho_hat) + (1 - rho) * tf.math.log(1 - rho) - (1 - rho) * tf.math.log(1 - rho_hat)\n",
    "\n",
    "class SparseActivityRegularizer(tf.keras.regularizers.Regularizer):\n",
    "\n",
    "    def __init__(self, p=0.1, sparsityBeta=3):\n",
    "        self.p = p\n",
    "        self.sparsityBeta = sparsityBeta\n",
    "\n",
    "    def __call__(self, x):\n",
    "        regularization = 0            \n",
    "\n",
    "        p_hat = K.mean(x, axis=0)\n",
    "        regularization += self.sparsityBeta * K.sum(kl_divergence(self.p, p_hat))\n",
    "\n",
    "        return regularization\n",
    "\n",
    "    def get_config(self):\n",
    "        return {\"name\": self.__class__.__name__} "
   ]
  },
  {
   "cell_type": "code",
   "execution_count": 80,
   "metadata": {},
   "outputs": [],
   "source": [
    "# this is the size of our encoded representations\n",
    "encoding_dim = 30\n",
    "\n",
    "# this is our input placeholder\n",
    "input_ = Input(shape=(75,))\n",
    "# define regulariser\n",
    "regulariser = SparseActivityRegularizer(0.1, 3)\n",
    "\n",
    "# \"encoded\" is the encoded representation of the input\n",
    "encoded = Dense(encoding_dim, activation='sigmoid',activity_regularizer=regulariser,name='encoded')(input_)\n",
    "# \"decoded\" is the lossy reconstruction of the input\n",
    "decoded = Dense(75,name='decoded')(encoded)\n",
    "\n",
    "# this model maps an input to its reconstruction\n",
    "autoencoder = Model(input_, decoded)\n",
    "\n",
    "# this model maps an input to its encoded representation\n",
    "encoder = Model(input_, encoded)\n",
    "\n",
    "# create a placeholder for an encoded (32-dimensional) input\n",
    "encoded_input = Input(shape=(encoding_dim,))\n",
    "# retrieve the last layer of the autoencoder model\n",
    "decoder_layer = autoencoder.layers[-1]\n",
    "# create the decoder model\n",
    "decoder = Model(encoded_input, decoder_layer(encoded_input))"
   ]
  },
  {
   "cell_type": "code",
   "execution_count": 81,
   "metadata": {},
   "outputs": [],
   "source": [
    "autoencoder.compile(optimizer='adam', loss='mean_squared_error')"
   ]
  },
  {
   "cell_type": "code",
   "execution_count": 82,
   "metadata": {},
   "outputs": [],
   "source": [
    "# taking first 80% as the training set\n",
    "x_train=X.iloc[:int(len(X)*0.8)]\n",
    "x_test=X.iloc[int(len(X)*0.8):]\n"
   ]
  },
  {
   "cell_type": "code",
   "execution_count": 83,
   "metadata": {},
   "outputs": [],
   "source": [
    "from sklearn.preprocessing import MinMaxScaler\n",
    "scaler=MinMaxScaler()\n",
    "x_train=scaler.fit_transform(x_train)\n",
    "x_test=scaler.fit_transform(x_test)"
   ]
  },
  {
   "cell_type": "code",
   "execution_count": 84,
   "metadata": {},
   "outputs": [
    {
     "name": "stdout",
     "output_type": "stream",
     "text": [
      "Train on 970641 samples, validate on 242661 samples\n",
      "Epoch 1/10\n",
      "970641/970641 [==============================] - 17s 18us/step - loss: 1.0177 - val_loss: 0.3328\n",
      "Epoch 2/10\n",
      "970641/970641 [==============================] - 18s 18us/step - loss: 0.0094 - val_loss: 0.2779\n",
      "Epoch 3/10\n",
      "970641/970641 [==============================] - 17s 17us/step - loss: 0.0044 - val_loss: 0.1940\n",
      "Epoch 4/10\n",
      "970641/970641 [==============================] - 17s 18us/step - loss: 0.0027 - val_loss: 0.1608\n",
      "Epoch 5/10\n",
      "970641/970641 [==============================] - 17s 17us/step - loss: 0.0021 - val_loss: 0.1357\n",
      "Epoch 6/10\n",
      "970641/970641 [==============================] - 18s 18us/step - loss: 0.0018 - val_loss: 0.1174\n",
      "Epoch 7/10\n",
      "970641/970641 [==============================] - 15s 16us/step - loss: 0.0016 - val_loss: 0.1032\n",
      "Epoch 8/10\n",
      "970641/970641 [==============================] - 16s 16us/step - loss: 0.0014 - val_loss: 0.0955\n",
      "Epoch 9/10\n",
      "970641/970641 [==============================] - 15s 16us/step - loss: 0.0013 - val_loss: 0.0862\n",
      "Epoch 10/10\n",
      "970641/970641 [==============================] - 15s 16us/step - loss: 0.0012 - val_loss: 0.0788\n"
     ]
    },
    {
     "data": {
      "text/plain": [
       "<keras.callbacks.callbacks.History at 0x239560e7fd0>"
      ]
     },
     "execution_count": 84,
     "metadata": {},
     "output_type": "execute_result"
    }
   ],
   "source": [
    "autoencoder.fit(x_train, x_train,\n",
    "                epochs=10,\n",
    "                batch_size=256,\n",
    "                shuffle=True,\n",
    "                validation_data=(x_test, x_test))"
   ]
  },
  {
   "cell_type": "code",
   "execution_count": 85,
   "metadata": {},
   "outputs": [],
   "source": [
    "encoded_imgs = encoder.predict(x_test)\n",
    "decoded_imgs = decoder.predict(encoded_imgs)"
   ]
  },
  {
   "cell_type": "code",
   "execution_count": 86,
   "metadata": {},
   "outputs": [
    {
     "data": {
      "text/plain": [
       "array([[-0.00652385,  0.5544718 ,  0.275091  , ..., -0.01395349,\n",
       "         0.2211742 ,  0.24618348],\n",
       "       [ 0.07138312,  0.880163  ,  0.3083682 , ...,  0.01818031,\n",
       "         0.3577077 ,  0.3497212 ],\n",
       "       [-0.01039451,  0.626281  ,  0.34859285, ...,  0.00941888,\n",
       "         0.5038914 ,  0.5162771 ],\n",
       "       ...,\n",
       "       [ 0.43130124,  0.08231568,  0.1778602 , ..., -0.00148105,\n",
       "         0.10398656,  0.10729502],\n",
       "       [ 0.4672244 , -0.0697872 ,  0.00591153, ..., -0.00656889,\n",
       "        -0.00110391,  0.01328686],\n",
       "       [ 0.50054145, -0.00847381,  0.01169854, ..., -0.01200485,\n",
       "         0.00242352,  0.01270956]], dtype=float32)"
      ]
     },
     "execution_count": 86,
     "metadata": {},
     "output_type": "execute_result"
    }
   ],
   "source": [
    "decoded_imgs"
   ]
  },
  {
   "cell_type": "code",
   "execution_count": 87,
   "metadata": {},
   "outputs": [
    {
     "data": {
      "text/plain": [
       "array([[0.02647684, 0.55030976, 0.2243077 , ..., 0.00241443, 0.22067703,\n",
       "        0.21854315],\n",
       "       [0.02647684, 0.91358684, 0.28612854, ..., 0.        , 0.37423147,\n",
       "        0.37423147],\n",
       "       [0.02647684, 0.59347819, 0.29306136, ..., 0.        , 0.49949869,\n",
       "        0.49949869],\n",
       "       ...,\n",
       "       [0.43954182, 0.00675985, 0.03123832, ..., 0.        , 0.13322746,\n",
       "        0.13322746],\n",
       "       [0.43954182, 0.00675985, 0.03123832, ..., 0.        , 0.        ,\n",
       "        0.        ],\n",
       "       [0.43954182, 0.00675985, 0.03123832, ..., 0.        , 0.        ,\n",
       "        0.        ]])"
      ]
     },
     "execution_count": 87,
     "metadata": {},
     "output_type": "execute_result"
    }
   ],
   "source": [
    "x_test"
   ]
  },
  {
   "cell_type": "code",
   "execution_count": 88,
   "metadata": {},
   "outputs": [
    {
     "data": {
      "text/plain": [
       "<keras.engine.training.Model at 0x23955ff64a8>"
      ]
     },
     "execution_count": 88,
     "metadata": {},
     "output_type": "execute_result"
    }
   ],
   "source": [
    "x1_train=encoder.predict(x_train)\n",
    "x1_test=encoder.predict(x_test)\n",
    "encoder\n"
   ]
  },
  {
   "cell_type": "code",
   "execution_count": 89,
   "metadata": {},
   "outputs": [],
   "source": [
    "decoded_imgs\n",
    "ec=[]\n",
    "ec.append(encoder)"
   ]
  },
  {
   "cell_type": "code",
   "execution_count": 74,
   "metadata": {},
   "outputs": [],
   "source": [
    "# add new layers here\n"
   ]
  },
  {
   "cell_type": "code",
   "execution_count": 75,
   "metadata": {},
   "outputs": [],
   "source": [
    "# this is the size of our encoded representations\n",
    "encoding_dim = 15\n",
    "\n",
    "# this is our input placeholder\n",
    "input1 = Input(shape=(15,))\n",
    "# define regulariser\n",
    "regulariser = SparseActivityRegularizer(0.1, 3)\n",
    "\n",
    "# \"encoded\" is the encoded representation of the input\n",
    "encoded1 = Dense(encoding_dim, activation='sigmoid',activity_regularizer=regulariser,name='encoded1')(input1)\n",
    "# \"decoded\" is the lossy reconstruction of the input\n",
    "decoded1 = Dense(15,name='decoded1')(encoded1)\n",
    "\n",
    "# this model maps an input to its reconstruction\n",
    "autoencoder1 = Model(input1, decoded1)\n",
    "\n",
    "# this model maps an input to its encoded representation\n",
    "encoder1 = Model(input1, encoded1)\n",
    "\n",
    "# create a placeholder for an encoded (32-dimensional) input\n",
    "encoded1_input = Input(shape=(encoding_dim,))\n",
    "# retrieve the last layer of the autoencoder model\n",
    "decoder1_layer = autoencoder1.layers[-1]\n",
    "# create the decoder model\n",
    "decoder1 = Model(encoded1_input, decoder1_layer(encoded1_input))\n",
    "autoencoder1.compile(optimizer='adam', loss='mean_squared_error')"
   ]
  },
  {
   "cell_type": "code",
   "execution_count": 76,
   "metadata": {},
   "outputs": [],
   "source": [
    "x1_train=encoder.predict(x_train)\n",
    "x1_test=encoder.predict(x_test)"
   ]
  },
  {
   "cell_type": "code",
   "execution_count": 77,
   "metadata": {},
   "outputs": [
    {
     "name": "stdout",
     "output_type": "stream",
     "text": [
      "Train on 970641 samples, validate on 242661 samples\n",
      "Epoch 1/10\n",
      "970641/970641 [==============================] - 8s 9us/step - loss: 1.5594 - val_loss: 0.0189\n",
      "Epoch 2/10\n",
      "970641/970641 [==============================] - 8s 8us/step - loss: 5.4158e-04 - val_loss: 0.0187\n",
      "Epoch 3/10\n",
      "970641/970641 [==============================] - 8s 8us/step - loss: 4.9737e-04 - val_loss: 0.0188\n",
      "Epoch 4/10\n",
      "970641/970641 [==============================] - 8s 8us/step - loss: 4.4518e-04 - val_loss: 0.0186\n",
      "Epoch 5/10\n",
      "970641/970641 [==============================] - 8s 8us/step - loss: 3.7517e-04 - val_loss: 0.0179\n",
      "Epoch 6/10\n",
      "970641/970641 [==============================] - 8s 8us/step - loss: 3.2623e-04 - val_loss: 0.0175\n",
      "Epoch 7/10\n",
      "970641/970641 [==============================] - 8s 8us/step - loss: 2.8939e-04 - val_loss: 0.0176\n",
      "Epoch 8/10\n",
      "970641/970641 [==============================] - 8s 8us/step - loss: 2.6742e-04 - val_loss: 0.0177\n",
      "Epoch 9/10\n",
      "970641/970641 [==============================] - 8s 8us/step - loss: 2.4910e-04 - val_loss: 0.0164\n",
      "Epoch 10/10\n",
      "970641/970641 [==============================] - 8s 8us/step - loss: 2.2907e-04 - val_loss: 0.0164\n"
     ]
    },
    {
     "data": {
      "text/plain": [
       "<keras.callbacks.callbacks.History at 0x239561b9f60>"
      ]
     },
     "execution_count": 77,
     "metadata": {},
     "output_type": "execute_result"
    }
   ],
   "source": [
    "autoencoder1.fit(x1_train, x1_train,\n",
    "                epochs=10,\n",
    "                batch_size=256,\n",
    "                shuffle=True,\n",
    "                validation_data=(x1_test, x1_test))"
   ]
  },
  {
   "cell_type": "code",
   "execution_count": 78,
   "metadata": {},
   "outputs": [],
   "source": [
    "x2_train=encoder1.predict(x1_train)\n",
    "x2_test=encoder1.predict(x1_test)\n",
    "y_train=Y.iloc[:int(len(Y)*0.8)]\n",
    "y_test=Y.iloc[int(len(Y)*0.8):]"
   ]
  },
  {
   "cell_type": "code",
   "execution_count": 79,
   "metadata": {},
   "outputs": [
    {
     "name": "stdout",
     "output_type": "stream",
     "text": [
      "Train on 970641 samples, validate on 242661 samples\n",
      "Epoch 1/10\n",
      "970641/970641 [==============================] - 8s 9us/step - loss: 2.0023 - accuracy: 0.2430 - val_loss: 1.9408 - val_accuracy: 0.2779\n",
      "Epoch 2/10\n",
      "970641/970641 [==============================] - 9s 9us/step - loss: 1.9735 - accuracy: 0.2619 - val_loss: 1.9347 - val_accuracy: 0.3335\n",
      "Epoch 3/10\n",
      "970641/970641 [==============================] - 9s 9us/step - loss: 1.9681 - accuracy: 0.2857 - val_loss: 1.9282 - val_accuracy: 0.3375\n",
      "Epoch 4/10\n",
      "970641/970641 [==============================] - 9s 10us/step - loss: 1.9632 - accuracy: 0.3059 - val_loss: 1.9221 - val_accuracy: 0.3399\n",
      "Epoch 5/10\n",
      "970641/970641 [==============================] - 9s 9us/step - loss: 1.9586 - accuracy: 0.3190 - val_loss: 1.9202 - val_accuracy: 0.3513\n",
      "Epoch 6/10\n",
      "970641/970641 [==============================] - 9s 9us/step - loss: 1.9543 - accuracy: 0.3278 - val_loss: 1.9152 - val_accuracy: 0.3561\n",
      "Epoch 7/10\n",
      "970641/970641 [==============================] - 9s 9us/step - loss: 1.9502 - accuracy: 0.3332 - val_loss: 1.9113 - val_accuracy: 0.3617\n",
      "Epoch 8/10\n",
      "970641/970641 [==============================] - 9s 9us/step - loss: 1.9463 - accuracy: 0.3376 - val_loss: 1.9064 - val_accuracy: 0.3647\n",
      "Epoch 9/10\n",
      "970641/970641 [==============================] - 9s 9us/step - loss: 1.9425 - accuracy: 0.3407 - val_loss: 1.9035 - val_accuracy: 0.3679\n",
      "Epoch 10/10\n",
      "970641/970641 [==============================] - 9s 9us/step - loss: 1.9388 - accuracy: 0.3428 - val_loss: 1.8986 - val_accuracy: 0.3701\n"
     ]
    },
    {
     "data": {
      "text/plain": [
       "<keras.callbacks.callbacks.History at 0x23955f16ba8>"
      ]
     },
     "execution_count": 79,
     "metadata": {},
     "output_type": "execute_result"
    }
   ],
   "source": [
    "input2 = Input(shape=(15,))\n",
    "classifier = Dense(11, activation='softmax')(input2)\n",
    "classifier=Model(input2,classifier)\n",
    "classifier.compile(optimizer='adam',loss='categorical_crossentropy',metrics=['accuracy'])\n",
    "classifier.fit(x2_train, y_train,\n",
    "                epochs=10,\n",
    "                batch_size=256,\n",
    "                shuffle=True,\n",
    "                validation_data=(x2_test, y_test))"
   ]
  },
  {
   "cell_type": "code",
   "execution_count": null,
   "metadata": {},
   "outputs": [],
   "source": []
  },
  {
   "cell_type": "code",
   "execution_count": 525,
   "metadata": {},
   "outputs": [],
   "source": [
    "from tensorflow.keras import regularizers\n",
    "from keras.models import load_model"
   ]
  },
  {
   "cell_type": "code",
   "execution_count": 624,
   "metadata": {},
   "outputs": [
    {
     "data": {
      "text/plain": [
       "{'name': 'model_131',\n",
       " 'layers': [{'name': 'input_93',\n",
       "   'class_name': 'InputLayer',\n",
       "   'config': {'batch_input_shape': (None, 75),\n",
       "    'dtype': 'float32',\n",
       "    'sparse': False,\n",
       "    'name': 'input_93'},\n",
       "   'inbound_nodes': []},\n",
       "  {'name': 'encoded',\n",
       "   'class_name': 'Dense',\n",
       "   'config': {'name': 'encoded',\n",
       "    'trainable': True,\n",
       "    'dtype': 'float32',\n",
       "    'units': 15,\n",
       "    'activation': 'sigmoid',\n",
       "    'use_bias': True,\n",
       "    'kernel_initializer': {'class_name': 'VarianceScaling',\n",
       "     'config': {'scale': 1.0,\n",
       "      'mode': 'fan_avg',\n",
       "      'distribution': 'uniform',\n",
       "      'seed': None}},\n",
       "    'bias_initializer': {'class_name': 'Zeros', 'config': {}},\n",
       "    'kernel_regularizer': {'class_name': 'L1L2',\n",
       "     'config': {'l1': 0.0, 'l2': 9.999999747378752e-05}},\n",
       "    'bias_regularizer': None,\n",
       "    'activity_regularizer': None,\n",
       "    'kernel_constraint': None,\n",
       "    'bias_constraint': None},\n",
       "   'inbound_nodes': [[['input_93', 0, 0, {}]]]}],\n",
       " 'input_layers': [['input_93', 0, 0]],\n",
       " 'output_layers': [['encoded', 0, 0]]}"
      ]
     },
     "execution_count": 624,
     "metadata": {},
     "output_type": "execute_result"
    }
   ],
   "source": [
    "# This code block will be used later\n",
    "# used during fine tuning the model, turns of Sparcity regulariser and turns on L2 regularisation\n",
    "encoder.layers[-1].kernel_regularizer=regularizers.l2(0.0001) #sets the kernel_regulariser in config file\n",
    "encoder.layers[-1].activity_regularizer=None # removes the KL Sparcity Constraint\n",
    "# required to get the model changed\n",
    "encoder.save('temp.h5')\n",
    "encoder=load_model('temp.h5')\n",
    "encoder.get_config()"
   ]
  },
  {
   "cell_type": "code",
   "execution_count": null,
   "metadata": {},
   "outputs": [],
   "source": []
  },
  {
   "cell_type": "code",
   "execution_count": null,
   "metadata": {},
   "outputs": [],
   "source": []
  },
  {
   "cell_type": "code",
   "execution_count": null,
   "metadata": {},
   "outputs": [],
   "source": []
  },
  {
   "cell_type": "code",
   "execution_count": null,
   "metadata": {},
   "outputs": [],
   "source": []
  },
  {
   "cell_type": "code",
   "execution_count": null,
   "metadata": {},
   "outputs": [],
   "source": []
  },
  {
   "cell_type": "code",
   "execution_count": null,
   "metadata": {},
   "outputs": [],
   "source": []
  },
  {
   "cell_type": "code",
   "execution_count": 601,
   "metadata": {},
   "outputs": [
    {
     "data": {
      "text/plain": [
       "[<tf.Tensor 'dense_59_1/weight_regularizer/add:0' shape=() dtype=float32>]"
      ]
     },
     "execution_count": 601,
     "metadata": {},
     "output_type": "execute_result"
    }
   ],
   "source": []
  },
  {
   "cell_type": "code",
   "execution_count": null,
   "metadata": {},
   "outputs": [],
   "source": []
  }
 ],
 "metadata": {
  "kernelspec": {
   "display_name": "Python 3",
   "language": "python",
   "name": "python3"
  },
  "language_info": {
   "codemirror_mode": {
    "name": "ipython",
    "version": 3
   },
   "file_extension": ".py",
   "mimetype": "text/x-python",
   "name": "python",
   "nbconvert_exporter": "python",
   "pygments_lexer": "ipython3",
   "version": "3.7.1"
  }
 },
 "nbformat": 4,
 "nbformat_minor": 2
}
