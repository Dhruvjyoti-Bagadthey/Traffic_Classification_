{
 "cells": [
  {
   "cell_type": "markdown",
   "metadata": {},
   "source": [
    "# Supervised ML Classifiers"
   ]
  },
  {
   "cell_type": "code",
   "execution_count": 1,
   "metadata": {},
   "outputs": [],
   "source": [
    "import pandas as pd\n",
    "import numpy as np\n",
    "import matplotlib.pyplot as plt\n",
    "import time\n",
    "from tensorflow.keras import regularizers\n",
    "from sklearn.model_selection import train_test_split\n",
    "\n",
    "from sklearn.metrics import precision_score\n",
    "from sklearn.metrics import recall_score\n",
    "from sklearn.metrics import f1_score"
   ]
  },
  {
   "cell_type": "code",
   "execution_count": 2,
   "metadata": {},
   "outputs": [],
   "source": [
    "df = pd.read_csv('9_5day_resampled.csv')#using 100% labelled resampled data\n",
    "X=df.iloc[:,:-1]\n",
    "y=df.iloc[:,-1]\n",
    "Xtrain,Xval,ytrain,yval=train_test_split(X,y,random_state=0,test_size=0.2)"
   ]
  },
  {
   "cell_type": "markdown",
   "metadata": {},
   "source": [
    "### Random Forest"
   ]
  },
  {
   "cell_type": "code",
   "execution_count": 3,
   "metadata": {},
   "outputs": [
    {
     "name": "stdout",
     "output_type": "stream",
     "text": [
      "train-time: 129.3002212047577\n"
     ]
    }
   ],
   "source": [
    "from sklearn.ensemble import RandomForestClassifier\n",
    "train0=time.time()\n",
    "clf=RandomForestClassifier().fit(Xtrain,ytrain)\n",
    "train1=time.time()\n",
    "print('train-time: '+str(train1-train0))"
   ]
  },
  {
   "cell_type": "code",
   "execution_count": 16,
   "metadata": {},
   "outputs": [
    {
     "name": "stdout",
     "output_type": "stream",
     "text": [
      "Train accuracy : 1.0\n",
      "Test accuracy : 0.930497271401041\n",
      "test-time: 4.159324645996094\n"
     ]
    }
   ],
   "source": [
    "print(\"Train accuracy : \"+str(clf.score(Xtrain,ytrain))) #train accuracy\n",
    "test0=time.time()\n",
    "print(\"Test accuracy : \"+str(clf.score(Xval,yval)))# test accuracy\n",
    "test1=time.time()\n",
    "print('test-time: '+str(test1-test0))"
   ]
  },
  {
   "cell_type": "code",
   "execution_count": 17,
   "metadata": {},
   "outputs": [
    {
     "name": "stdout",
     "output_type": "stream",
     "text": [
      "weighted F1 Score : 0.9313933860967433\n",
      "weighted Precision : 0.932957993281478\n",
      "weighted Recall : 0.930497271401041\n"
     ]
    }
   ],
   "source": [
    "y_pred=clf.predict(Xval)\n",
    "print('weighted F1 Score : ' + str(f1_score(y_pred,yval,average = 'weighted')))\n",
    "print('weighted Precision : ' + str(precision_score(y_pred,yval,average = 'weighted',zero_division=1)))\n",
    "print('weighted Recall : ' + str(recall_score(y_pred,yval,average = 'weighted',zero_division=1)))"
   ]
  },
  {
   "cell_type": "code",
   "execution_count": 4,
   "metadata": {},
   "outputs": [
    {
     "name": "stdout",
     "output_type": "stream",
     "text": [
      "macro F1 Score : 0.9367384977920438\n",
      "macro Precision : 0.937905243070162\n",
      "macro Recall : 0.936267773176522\n"
     ]
    }
   ],
   "source": [
    "y_pred=clf.predict(Xval)\n",
    "print('macro F1 Score : ' + str(f1_score(y_pred,yval,average = 'macro')))\n",
    "print('macro Precision : ' + str(precision_score(y_pred,yval,average = 'macro',zero_division=1)))\n",
    "print('macro Recall : ' + str(recall_score(y_pred,yval,average = 'macro',zero_division=1)))"
   ]
  },
  {
   "cell_type": "markdown",
   "metadata": {},
   "source": [
    "### Decision Tree"
   ]
  },
  {
   "cell_type": "code",
   "execution_count": 5,
   "metadata": {},
   "outputs": [
    {
     "name": "stdout",
     "output_type": "stream",
     "text": [
      "train-time: 15.537061929702759\n"
     ]
    }
   ],
   "source": [
    "from sklearn.tree import DecisionTreeClassifier\n",
    "train0=time.time()\n",
    "clf=DecisionTreeClassifier().fit(Xtrain,ytrain)\n",
    "train1=time.time()\n",
    "print('train-time: '+str(train1-train0))"
   ]
  },
  {
   "cell_type": "code",
   "execution_count": 28,
   "metadata": {},
   "outputs": [
    {
     "name": "stdout",
     "output_type": "stream",
     "text": [
      "Train accuracy : 1.0\n",
      "Test accuracy : 0.9259045800839292\n",
      "test-time: 0.1283702850341797\n"
     ]
    }
   ],
   "source": [
    "print(\"Train accuracy : \"+str(clf.score(Xtrain,ytrain))) #train accuracy\n",
    "test0=time.time()\n",
    "print(\"Test accuracy : \"+str(clf.score(Xval,yval)))# test accuracy\n",
    "test1=time.time()\n",
    "print('test-time: '+str(test1-test0))"
   ]
  },
  {
   "cell_type": "code",
   "execution_count": 29,
   "metadata": {},
   "outputs": [
    {
     "name": "stdout",
     "output_type": "stream",
     "text": [
      "weighted F1 Score : 0.9274069882261075\n",
      "weighted Precision : 0.9293403350378222\n",
      "weighted Recall : 0.9259045800839292\n"
     ]
    }
   ],
   "source": [
    "y_pred=clf.predict(Xval)\n",
    "print('weighted F1 Score : ' + str(f1_score(y_pred,yval,average = 'weighted')))\n",
    "print('weighted Precision : ' + str(precision_score(y_pred,yval,average = 'weighted',zero_division=1)))\n",
    "print('weighted Recall : ' + str(recall_score(y_pred,yval,average = 'weighted',zero_division=1)))"
   ]
  },
  {
   "cell_type": "code",
   "execution_count": 6,
   "metadata": {},
   "outputs": [
    {
     "name": "stdout",
     "output_type": "stream",
     "text": [
      "macro F1 Score : 0.9316280401102761\n",
      "macro Precision : 0.9336626450069077\n",
      "macro Recall : 0.9300102107586247\n"
     ]
    }
   ],
   "source": [
    "y_pred=clf.predict(Xval)\n",
    "print('macro F1 Score : ' + str(f1_score(y_pred,yval,average = 'macro')))\n",
    "print('macro Precision : ' + str(precision_score(y_pred,yval,average = 'macro',zero_division=1)))\n",
    "print('macro Recall : ' + str(recall_score(y_pred,yval,average = 'macro',zero_division=1)))"
   ]
  },
  {
   "cell_type": "markdown",
   "metadata": {},
   "source": [
    "### XGBOOST"
   ]
  },
  {
   "cell_type": "code",
   "execution_count": 7,
   "metadata": {},
   "outputs": [],
   "source": [
    "from xgboost import XGBClassifier\n",
    "from sklearn.multiclass import OneVsRestClassifier"
   ]
  },
  {
   "cell_type": "code",
   "execution_count": 10,
   "metadata": {},
   "outputs": [
    {
     "name": "stderr",
     "output_type": "stream",
     "text": [
      "c:\\users\\dhruvjyoti\\appdata\\local\\programs\\python\\python37\\lib\\site-packages\\xgboost\\sklearn.py:888: UserWarning: The use of label encoder in XGBClassifier is deprecated and will be removed in a future release. To remove this warning, do the following: 1) Pass option use_label_encoder=False when constructing XGBClassifier object; and 2) Encode your labels (y) as integers starting with 0, i.e. 0, 1, 2, ..., [num_class - 1].\n",
      "  warnings.warn(label_encoder_deprecation_msg, UserWarning)\n"
     ]
    },
    {
     "name": "stdout",
     "output_type": "stream",
     "text": [
      "train-time: 1540.0211742801666\n"
     ]
    }
   ],
   "source": [
    "train0=time.time()\n",
    "clf = OneVsRestClassifier(XGBClassifier(verbosity=0)).fit(Xtrain, ytrain)\n",
    "train1=time.time()\n",
    "print('train-time: '+str(train1-train0))"
   ]
  },
  {
   "cell_type": "code",
   "execution_count": 50,
   "metadata": {},
   "outputs": [
    {
     "data": {
      "text/plain": [
       "0.9764061740179746"
      ]
     },
     "execution_count": 50,
     "metadata": {},
     "output_type": "execute_result"
    }
   ],
   "source": [
    "clf.score(Xtrain,ytrain)"
   ]
  },
  {
   "cell_type": "code",
   "execution_count": 51,
   "metadata": {},
   "outputs": [
    {
     "data": {
      "text/plain": [
       "0.9488500261153036"
      ]
     },
     "execution_count": 51,
     "metadata": {},
     "output_type": "execute_result"
    }
   ],
   "source": [
    "clf.score(Xval,yval)"
   ]
  },
  {
   "cell_type": "code",
   "execution_count": 32,
   "metadata": {},
   "outputs": [
    {
     "name": "stdout",
     "output_type": "stream",
     "text": [
      "test-time: 7.68883752822876\n"
     ]
    }
   ],
   "source": [
    "test0=time.time()\n",
    "z= clf.score(Xval,yval)\n",
    "test1=time.time()\n",
    "print('test-time: '+str(test1-test0))"
   ]
  },
  {
   "cell_type": "code",
   "execution_count": 52,
   "metadata": {},
   "outputs": [
    {
     "name": "stdout",
     "output_type": "stream",
     "text": [
      "weighted F1 Score : 0.9494270153872865\n",
      "weighted Precision : 0.9504061564948149\n",
      "weighted Recall : 0.9488500261153036\n"
     ]
    }
   ],
   "source": [
    "y_pred=clf.predict(Xval)\n",
    "print('weighted F1 Score : ' + str(f1_score(y_pred,yval,average = 'weighted')))\n",
    "print('weighted Precision : ' + str(precision_score(y_pred,yval,average = 'weighted',zero_division=1)))\n",
    "print('weighted Recall : ' + str(recall_score(y_pred,yval,average = 'weighted',zero_division=1)))"
   ]
  },
  {
   "cell_type": "code",
   "execution_count": 18,
   "metadata": {},
   "outputs": [
    {
     "name": "stdout",
     "output_type": "stream",
     "text": [
      "macro F1 Score : 0.9439822506449667\n",
      "macro Precision : 0.9542895296353789\n",
      "macro Recall : 0.9412516852062398\n"
     ]
    }
   ],
   "source": [
    "#y_pred=clf.predict(Xval)\n",
    "print('macro F1 Score : ' + str(f1_score(y_pred,yval,average = 'macro')))\n",
    "print('macro Precision : ' + str(precision_score(y_pred,yval,average = 'macro',zero_division=1)))\n",
    "print('macro Recall : ' + str(recall_score(y_pred,yval,average = 'macro',zero_division=1)))"
   ]
  },
  {
   "cell_type": "code",
   "execution_count": 38,
   "metadata": {},
   "outputs": [],
   "source": [
    "y_pred=clf.predict(Xval)"
   ]
  },
  {
   "cell_type": "code",
   "execution_count": 27,
   "metadata": {},
   "outputs": [
    {
     "name": "stdout",
     "output_type": "stream",
     "text": [
      "F1 Scores : \n"
     ]
    },
    {
     "data": {
      "text/html": [
       "<div>\n",
       "<style scoped>\n",
       "    .dataframe tbody tr th:only-of-type {\n",
       "        vertical-align: middle;\n",
       "    }\n",
       "\n",
       "    .dataframe tbody tr th {\n",
       "        vertical-align: top;\n",
       "    }\n",
       "\n",
       "    .dataframe thead th {\n",
       "        text-align: right;\n",
       "    }\n",
       "</style>\n",
       "<table border=\"1\" class=\"dataframe\">\n",
       "  <thead>\n",
       "    <tr style=\"text-align: right;\">\n",
       "      <th></th>\n",
       "      <th>F1-score</th>\n",
       "    </tr>\n",
       "  </thead>\n",
       "  <tbody>\n",
       "    <tr>\n",
       "      <th>MICROSOFT</th>\n",
       "      <td>0.820356</td>\n",
       "    </tr>\n",
       "    <tr>\n",
       "      <th>EDONKEY</th>\n",
       "      <td>1.000000</td>\n",
       "    </tr>\n",
       "    <tr>\n",
       "      <th>TWITTER</th>\n",
       "      <td>0.947732</td>\n",
       "    </tr>\n",
       "    <tr>\n",
       "      <th>GMAIL</th>\n",
       "      <td>0.745151</td>\n",
       "    </tr>\n",
       "    <tr>\n",
       "      <th>AMAZON</th>\n",
       "      <td>0.955803</td>\n",
       "    </tr>\n",
       "    <tr>\n",
       "      <th>MQTT</th>\n",
       "      <td>0.998578</td>\n",
       "    </tr>\n",
       "    <tr>\n",
       "      <th>STARCRAFT</th>\n",
       "      <td>1.000000</td>\n",
       "    </tr>\n",
       "    <tr>\n",
       "      <th>SSL_NO_CERT</th>\n",
       "      <td>0.995401</td>\n",
       "    </tr>\n",
       "    <tr>\n",
       "      <th>HTTP_PROXY</th>\n",
       "      <td>0.679795</td>\n",
       "    </tr>\n",
       "    <tr>\n",
       "      <th>H323</th>\n",
       "      <td>1.000000</td>\n",
       "    </tr>\n",
       "    <tr>\n",
       "      <th>APPLE_ICLOUD</th>\n",
       "      <td>0.997519</td>\n",
       "    </tr>\n",
       "    <tr>\n",
       "      <th>SSH</th>\n",
       "      <td>1.000000</td>\n",
       "    </tr>\n",
       "    <tr>\n",
       "      <th>GOOGLE</th>\n",
       "      <td>0.599091</td>\n",
       "    </tr>\n",
       "    <tr>\n",
       "      <th>HTTP_CONNECT</th>\n",
       "      <td>0.681972</td>\n",
       "    </tr>\n",
       "    <tr>\n",
       "      <th>YAHOO</th>\n",
       "      <td>0.968750</td>\n",
       "    </tr>\n",
       "    <tr>\n",
       "      <th>APPLE_ITUNES</th>\n",
       "      <td>0.995030</td>\n",
       "    </tr>\n",
       "    <tr>\n",
       "      <th>YOUTUBE</th>\n",
       "      <td>0.729970</td>\n",
       "    </tr>\n",
       "    <tr>\n",
       "      <th>UBUNTUONE</th>\n",
       "      <td>1.000000</td>\n",
       "    </tr>\n",
       "    <tr>\n",
       "      <th>FACEBOOK</th>\n",
       "      <td>0.964341</td>\n",
       "    </tr>\n",
       "    <tr>\n",
       "      <th>APPLE</th>\n",
       "      <td>0.990231</td>\n",
       "    </tr>\n",
       "    <tr>\n",
       "      <th>NETFLIX</th>\n",
       "      <td>1.000000</td>\n",
       "    </tr>\n",
       "    <tr>\n",
       "      <th>DNS</th>\n",
       "      <td>0.997030</td>\n",
       "    </tr>\n",
       "    <tr>\n",
       "      <th>HTTP_DOWNLOAD</th>\n",
       "      <td>1.000000</td>\n",
       "    </tr>\n",
       "    <tr>\n",
       "      <th>IP_ICMP</th>\n",
       "      <td>1.000000</td>\n",
       "    </tr>\n",
       "    <tr>\n",
       "      <th>CONTENT_FLASH</th>\n",
       "      <td>0.998043</td>\n",
       "    </tr>\n",
       "    <tr>\n",
       "      <th>UPNP</th>\n",
       "      <td>1.000000</td>\n",
       "    </tr>\n",
       "    <tr>\n",
       "      <th>FTP_DATA</th>\n",
       "      <td>1.000000</td>\n",
       "    </tr>\n",
       "    <tr>\n",
       "      <th>GOOGLE_MAPS</th>\n",
       "      <td>0.996526</td>\n",
       "    </tr>\n",
       "    <tr>\n",
       "      <th>TEAMVIEWER</th>\n",
       "      <td>0.999507</td>\n",
       "    </tr>\n",
       "    <tr>\n",
       "      <th>MSN</th>\n",
       "      <td>0.946699</td>\n",
       "    </tr>\n",
       "    <tr>\n",
       "      <th>SSL</th>\n",
       "      <td>0.862984</td>\n",
       "    </tr>\n",
       "    <tr>\n",
       "      <th>RTMP</th>\n",
       "      <td>0.999498</td>\n",
       "    </tr>\n",
       "    <tr>\n",
       "      <th>CITRIX_ONLINE</th>\n",
       "      <td>1.000000</td>\n",
       "    </tr>\n",
       "    <tr>\n",
       "      <th>HTTP</th>\n",
       "      <td>0.857260</td>\n",
       "    </tr>\n",
       "    <tr>\n",
       "      <th>WIKIPEDIA</th>\n",
       "      <td>0.998520</td>\n",
       "    </tr>\n",
       "    <tr>\n",
       "      <th>MS_ONE_DRIVE</th>\n",
       "      <td>0.998432</td>\n",
       "    </tr>\n",
       "    <tr>\n",
       "      <th>OSCAR</th>\n",
       "      <td>1.000000</td>\n",
       "    </tr>\n",
       "    <tr>\n",
       "      <th>DROPBOX</th>\n",
       "      <td>0.983720</td>\n",
       "    </tr>\n",
       "    <tr>\n",
       "      <th>TEAMSPEAK</th>\n",
       "      <td>0.999001</td>\n",
       "    </tr>\n",
       "    <tr>\n",
       "      <th>WINDOWS_UPDATE</th>\n",
       "      <td>0.954592</td>\n",
       "    </tr>\n",
       "    <tr>\n",
       "      <th>WHATSAPP</th>\n",
       "      <td>0.996143</td>\n",
       "    </tr>\n",
       "    <tr>\n",
       "      <th>OFFICE_365</th>\n",
       "      <td>0.995010</td>\n",
       "    </tr>\n",
       "    <tr>\n",
       "      <th>SIMET</th>\n",
       "      <td>1.000000</td>\n",
       "    </tr>\n",
       "    <tr>\n",
       "      <th>EBAY</th>\n",
       "      <td>0.991521</td>\n",
       "    </tr>\n",
       "    <tr>\n",
       "      <th>MSSQL</th>\n",
       "      <td>1.000000</td>\n",
       "    </tr>\n",
       "    <tr>\n",
       "      <th>LASTFM</th>\n",
       "      <td>1.000000</td>\n",
       "    </tr>\n",
       "    <tr>\n",
       "      <th>CLOUDFLARE</th>\n",
       "      <td>0.992872</td>\n",
       "    </tr>\n",
       "    <tr>\n",
       "      <th>NTP</th>\n",
       "      <td>1.000000</td>\n",
       "    </tr>\n",
       "    <tr>\n",
       "      <th>INSTAGRAM</th>\n",
       "      <td>0.998081</td>\n",
       "    </tr>\n",
       "    <tr>\n",
       "      <th>SKYPE</th>\n",
       "      <td>0.883744</td>\n",
       "    </tr>\n",
       "    <tr>\n",
       "      <th>EASYTAXI</th>\n",
       "      <td>0.999493</td>\n",
       "    </tr>\n",
       "    <tr>\n",
       "      <th>TOR</th>\n",
       "      <td>1.000000</td>\n",
       "    </tr>\n",
       "    <tr>\n",
       "      <th>SPOTIFY</th>\n",
       "      <td>0.999503</td>\n",
       "    </tr>\n",
       "    <tr>\n",
       "      <th>IP_OSPF</th>\n",
       "      <td>1.000000</td>\n",
       "    </tr>\n",
       "  </tbody>\n",
       "</table>\n",
       "</div>"
      ],
      "text/plain": [
       "                F1-score\n",
       "MICROSOFT       0.820356\n",
       "EDONKEY         1.000000\n",
       "TWITTER         0.947732\n",
       "GMAIL           0.745151\n",
       "AMAZON          0.955803\n",
       "MQTT            0.998578\n",
       "STARCRAFT       1.000000\n",
       "SSL_NO_CERT     0.995401\n",
       "HTTP_PROXY      0.679795\n",
       "H323            1.000000\n",
       "APPLE_ICLOUD    0.997519\n",
       "SSH             1.000000\n",
       "GOOGLE          0.599091\n",
       "HTTP_CONNECT    0.681972\n",
       "YAHOO           0.968750\n",
       "APPLE_ITUNES    0.995030\n",
       "YOUTUBE         0.729970\n",
       "UBUNTUONE       1.000000\n",
       "FACEBOOK        0.964341\n",
       "APPLE           0.990231\n",
       "NETFLIX         1.000000\n",
       "DNS             0.997030\n",
       "HTTP_DOWNLOAD   1.000000\n",
       "IP_ICMP         1.000000\n",
       "CONTENT_FLASH   0.998043\n",
       "UPNP            1.000000\n",
       "FTP_DATA        1.000000\n",
       "GOOGLE_MAPS     0.996526\n",
       "TEAMVIEWER      0.999507\n",
       "MSN             0.946699\n",
       "SSL             0.862984\n",
       "RTMP            0.999498\n",
       "CITRIX_ONLINE   1.000000\n",
       "HTTP            0.857260\n",
       "WIKIPEDIA       0.998520\n",
       "MS_ONE_DRIVE    0.998432\n",
       "OSCAR           1.000000\n",
       "DROPBOX         0.983720\n",
       "TEAMSPEAK       0.999001\n",
       "WINDOWS_UPDATE  0.954592\n",
       "WHATSAPP        0.996143\n",
       "OFFICE_365      0.995010\n",
       "SIMET           1.000000\n",
       "EBAY            0.991521\n",
       "MSSQL           1.000000\n",
       "LASTFM          1.000000\n",
       "CLOUDFLARE      0.992872\n",
       "NTP             1.000000\n",
       "INSTAGRAM       0.998081\n",
       "SKYPE           0.883744\n",
       "EASYTAXI        0.999493\n",
       "TOR             1.000000\n",
       "SPOTIFY         0.999503\n",
       "IP_OSPF         1.000000"
      ]
     },
     "execution_count": 27,
     "metadata": {},
     "output_type": "execute_result"
    }
   ],
   "source": [
    "print('F1 Scores : ' )\n",
    "pd.DataFrame(f1_score(y_pred,yval,labels=yval.unique(),average = None),columns=['F1-score'],index=yval.unique())"
   ]
  },
  {
   "cell_type": "code",
   "execution_count": 28,
   "metadata": {},
   "outputs": [
    {
     "name": "stdout",
     "output_type": "stream",
     "text": [
      "Precision Scores : \n"
     ]
    },
    {
     "data": {
      "text/html": [
       "<div>\n",
       "<style scoped>\n",
       "    .dataframe tbody tr th:only-of-type {\n",
       "        vertical-align: middle;\n",
       "    }\n",
       "\n",
       "    .dataframe tbody tr th {\n",
       "        vertical-align: top;\n",
       "    }\n",
       "\n",
       "    .dataframe thead th {\n",
       "        text-align: right;\n",
       "    }\n",
       "</style>\n",
       "<table border=\"1\" class=\"dataframe\">\n",
       "  <thead>\n",
       "    <tr style=\"text-align: right;\">\n",
       "      <th></th>\n",
       "      <th>Precision-score</th>\n",
       "    </tr>\n",
       "  </thead>\n",
       "  <tbody>\n",
       "    <tr>\n",
       "      <th>MICROSOFT</th>\n",
       "      <td>0.784810</td>\n",
       "    </tr>\n",
       "    <tr>\n",
       "      <th>EDONKEY</th>\n",
       "      <td>1.000000</td>\n",
       "    </tr>\n",
       "    <tr>\n",
       "      <th>TWITTER</th>\n",
       "      <td>0.951485</td>\n",
       "    </tr>\n",
       "    <tr>\n",
       "      <th>GMAIL</th>\n",
       "      <td>0.749546</td>\n",
       "    </tr>\n",
       "    <tr>\n",
       "      <th>AMAZON</th>\n",
       "      <td>0.942182</td>\n",
       "    </tr>\n",
       "    <tr>\n",
       "      <th>MQTT</th>\n",
       "      <td>1.000000</td>\n",
       "    </tr>\n",
       "    <tr>\n",
       "      <th>STARCRAFT</th>\n",
       "      <td>1.000000</td>\n",
       "    </tr>\n",
       "    <tr>\n",
       "      <th>SSL_NO_CERT</th>\n",
       "      <td>1.000000</td>\n",
       "    </tr>\n",
       "    <tr>\n",
       "      <th>HTTP_PROXY</th>\n",
       "      <td>0.667227</td>\n",
       "    </tr>\n",
       "    <tr>\n",
       "      <th>H323</th>\n",
       "      <td>1.000000</td>\n",
       "    </tr>\n",
       "    <tr>\n",
       "      <th>APPLE_ICLOUD</th>\n",
       "      <td>1.000000</td>\n",
       "    </tr>\n",
       "    <tr>\n",
       "      <th>SSH</th>\n",
       "      <td>1.000000</td>\n",
       "    </tr>\n",
       "    <tr>\n",
       "      <th>GOOGLE</th>\n",
       "      <td>0.556588</td>\n",
       "    </tr>\n",
       "    <tr>\n",
       "      <th>HTTP_CONNECT</th>\n",
       "      <td>0.716772</td>\n",
       "    </tr>\n",
       "    <tr>\n",
       "      <th>YAHOO</th>\n",
       "      <td>0.982709</td>\n",
       "    </tr>\n",
       "    <tr>\n",
       "      <th>APPLE_ITUNES</th>\n",
       "      <td>1.000000</td>\n",
       "    </tr>\n",
       "    <tr>\n",
       "      <th>YOUTUBE</th>\n",
       "      <td>0.715116</td>\n",
       "    </tr>\n",
       "    <tr>\n",
       "      <th>UBUNTUONE</th>\n",
       "      <td>1.000000</td>\n",
       "    </tr>\n",
       "    <tr>\n",
       "      <th>FACEBOOK</th>\n",
       "      <td>0.967842</td>\n",
       "    </tr>\n",
       "    <tr>\n",
       "      <th>APPLE</th>\n",
       "      <td>1.000000</td>\n",
       "    </tr>\n",
       "    <tr>\n",
       "      <th>NETFLIX</th>\n",
       "      <td>1.000000</td>\n",
       "    </tr>\n",
       "    <tr>\n",
       "      <th>DNS</th>\n",
       "      <td>1.000000</td>\n",
       "    </tr>\n",
       "    <tr>\n",
       "      <th>HTTP_DOWNLOAD</th>\n",
       "      <td>1.000000</td>\n",
       "    </tr>\n",
       "    <tr>\n",
       "      <th>IP_ICMP</th>\n",
       "      <td>1.000000</td>\n",
       "    </tr>\n",
       "    <tr>\n",
       "      <th>CONTENT_FLASH</th>\n",
       "      <td>1.000000</td>\n",
       "    </tr>\n",
       "    <tr>\n",
       "      <th>UPNP</th>\n",
       "      <td>1.000000</td>\n",
       "    </tr>\n",
       "    <tr>\n",
       "      <th>FTP_DATA</th>\n",
       "      <td>1.000000</td>\n",
       "    </tr>\n",
       "    <tr>\n",
       "      <th>GOOGLE_MAPS</th>\n",
       "      <td>1.000000</td>\n",
       "    </tr>\n",
       "    <tr>\n",
       "      <th>TEAMVIEWER</th>\n",
       "      <td>1.000000</td>\n",
       "    </tr>\n",
       "    <tr>\n",
       "      <th>MSN</th>\n",
       "      <td>0.971888</td>\n",
       "    </tr>\n",
       "    <tr>\n",
       "      <th>SSL</th>\n",
       "      <td>0.844255</td>\n",
       "    </tr>\n",
       "    <tr>\n",
       "      <th>RTMP</th>\n",
       "      <td>1.000000</td>\n",
       "    </tr>\n",
       "    <tr>\n",
       "      <th>CITRIX_ONLINE</th>\n",
       "      <td>1.000000</td>\n",
       "    </tr>\n",
       "    <tr>\n",
       "      <th>HTTP</th>\n",
       "      <td>0.890598</td>\n",
       "    </tr>\n",
       "    <tr>\n",
       "      <th>WIKIPEDIA</th>\n",
       "      <td>1.000000</td>\n",
       "    </tr>\n",
       "    <tr>\n",
       "      <th>MS_ONE_DRIVE</th>\n",
       "      <td>1.000000</td>\n",
       "    </tr>\n",
       "    <tr>\n",
       "      <th>OSCAR</th>\n",
       "      <td>1.000000</td>\n",
       "    </tr>\n",
       "    <tr>\n",
       "      <th>DROPBOX</th>\n",
       "      <td>0.976494</td>\n",
       "    </tr>\n",
       "    <tr>\n",
       "      <th>TEAMSPEAK</th>\n",
       "      <td>1.000000</td>\n",
       "    </tr>\n",
       "    <tr>\n",
       "      <th>WINDOWS_UPDATE</th>\n",
       "      <td>0.951646</td>\n",
       "    </tr>\n",
       "    <tr>\n",
       "      <th>WHATSAPP</th>\n",
       "      <td>1.000000</td>\n",
       "    </tr>\n",
       "    <tr>\n",
       "      <th>OFFICE_365</th>\n",
       "      <td>1.000000</td>\n",
       "    </tr>\n",
       "    <tr>\n",
       "      <th>SIMET</th>\n",
       "      <td>1.000000</td>\n",
       "    </tr>\n",
       "    <tr>\n",
       "      <th>EBAY</th>\n",
       "      <td>1.000000</td>\n",
       "    </tr>\n",
       "    <tr>\n",
       "      <th>MSSQL</th>\n",
       "      <td>1.000000</td>\n",
       "    </tr>\n",
       "    <tr>\n",
       "      <th>LASTFM</th>\n",
       "      <td>1.000000</td>\n",
       "    </tr>\n",
       "    <tr>\n",
       "      <th>CLOUDFLARE</th>\n",
       "      <td>1.000000</td>\n",
       "    </tr>\n",
       "    <tr>\n",
       "      <th>NTP</th>\n",
       "      <td>1.000000</td>\n",
       "    </tr>\n",
       "    <tr>\n",
       "      <th>INSTAGRAM</th>\n",
       "      <td>1.000000</td>\n",
       "    </tr>\n",
       "    <tr>\n",
       "      <th>SKYPE</th>\n",
       "      <td>0.882874</td>\n",
       "    </tr>\n",
       "    <tr>\n",
       "      <th>EASYTAXI</th>\n",
       "      <td>1.000000</td>\n",
       "    </tr>\n",
       "    <tr>\n",
       "      <th>TOR</th>\n",
       "      <td>1.000000</td>\n",
       "    </tr>\n",
       "    <tr>\n",
       "      <th>SPOTIFY</th>\n",
       "      <td>1.000000</td>\n",
       "    </tr>\n",
       "    <tr>\n",
       "      <th>IP_OSPF</th>\n",
       "      <td>1.000000</td>\n",
       "    </tr>\n",
       "  </tbody>\n",
       "</table>\n",
       "</div>"
      ],
      "text/plain": [
       "                Precision-score\n",
       "MICROSOFT              0.784810\n",
       "EDONKEY                1.000000\n",
       "TWITTER                0.951485\n",
       "GMAIL                  0.749546\n",
       "AMAZON                 0.942182\n",
       "MQTT                   1.000000\n",
       "STARCRAFT              1.000000\n",
       "SSL_NO_CERT            1.000000\n",
       "HTTP_PROXY             0.667227\n",
       "H323                   1.000000\n",
       "APPLE_ICLOUD           1.000000\n",
       "SSH                    1.000000\n",
       "GOOGLE                 0.556588\n",
       "HTTP_CONNECT           0.716772\n",
       "YAHOO                  0.982709\n",
       "APPLE_ITUNES           1.000000\n",
       "YOUTUBE                0.715116\n",
       "UBUNTUONE              1.000000\n",
       "FACEBOOK               0.967842\n",
       "APPLE                  1.000000\n",
       "NETFLIX                1.000000\n",
       "DNS                    1.000000\n",
       "HTTP_DOWNLOAD          1.000000\n",
       "IP_ICMP                1.000000\n",
       "CONTENT_FLASH          1.000000\n",
       "UPNP                   1.000000\n",
       "FTP_DATA               1.000000\n",
       "GOOGLE_MAPS            1.000000\n",
       "TEAMVIEWER             1.000000\n",
       "MSN                    0.971888\n",
       "SSL                    0.844255\n",
       "RTMP                   1.000000\n",
       "CITRIX_ONLINE          1.000000\n",
       "HTTP                   0.890598\n",
       "WIKIPEDIA              1.000000\n",
       "MS_ONE_DRIVE           1.000000\n",
       "OSCAR                  1.000000\n",
       "DROPBOX                0.976494\n",
       "TEAMSPEAK              1.000000\n",
       "WINDOWS_UPDATE         0.951646\n",
       "WHATSAPP               1.000000\n",
       "OFFICE_365             1.000000\n",
       "SIMET                  1.000000\n",
       "EBAY                   1.000000\n",
       "MSSQL                  1.000000\n",
       "LASTFM                 1.000000\n",
       "CLOUDFLARE             1.000000\n",
       "NTP                    1.000000\n",
       "INSTAGRAM              1.000000\n",
       "SKYPE                  0.882874\n",
       "EASYTAXI               1.000000\n",
       "TOR                    1.000000\n",
       "SPOTIFY                1.000000\n",
       "IP_OSPF                1.000000"
      ]
     },
     "execution_count": 28,
     "metadata": {},
     "output_type": "execute_result"
    }
   ],
   "source": [
    "print('Precision Scores : ' )\n",
    "pd.DataFrame(precision_score(y_pred,yval,labels=yval.unique(),average = None),columns=['Precision-score'],index=yval.unique())"
   ]
  },
  {
   "cell_type": "code",
   "execution_count": 29,
   "metadata": {},
   "outputs": [
    {
     "name": "stdout",
     "output_type": "stream",
     "text": [
      "Recall Scores : \n"
     ]
    },
    {
     "data": {
      "text/html": [
       "<div>\n",
       "<style scoped>\n",
       "    .dataframe tbody tr th:only-of-type {\n",
       "        vertical-align: middle;\n",
       "    }\n",
       "\n",
       "    .dataframe tbody tr th {\n",
       "        vertical-align: top;\n",
       "    }\n",
       "\n",
       "    .dataframe thead th {\n",
       "        text-align: right;\n",
       "    }\n",
       "</style>\n",
       "<table border=\"1\" class=\"dataframe\">\n",
       "  <thead>\n",
       "    <tr style=\"text-align: right;\">\n",
       "      <th></th>\n",
       "      <th>recall-score</th>\n",
       "    </tr>\n",
       "  </thead>\n",
       "  <tbody>\n",
       "    <tr>\n",
       "      <th>MICROSOFT</th>\n",
       "      <td>0.859275</td>\n",
       "    </tr>\n",
       "    <tr>\n",
       "      <th>EDONKEY</th>\n",
       "      <td>1.000000</td>\n",
       "    </tr>\n",
       "    <tr>\n",
       "      <th>TWITTER</th>\n",
       "      <td>0.944008</td>\n",
       "    </tr>\n",
       "    <tr>\n",
       "      <th>GMAIL</th>\n",
       "      <td>0.740807</td>\n",
       "    </tr>\n",
       "    <tr>\n",
       "      <th>AMAZON</th>\n",
       "      <td>0.969824</td>\n",
       "    </tr>\n",
       "    <tr>\n",
       "      <th>MQTT</th>\n",
       "      <td>0.997159</td>\n",
       "    </tr>\n",
       "    <tr>\n",
       "      <th>STARCRAFT</th>\n",
       "      <td>1.000000</td>\n",
       "    </tr>\n",
       "    <tr>\n",
       "      <th>SSL_NO_CERT</th>\n",
       "      <td>0.990844</td>\n",
       "    </tr>\n",
       "    <tr>\n",
       "      <th>HTTP_PROXY</th>\n",
       "      <td>0.692845</td>\n",
       "    </tr>\n",
       "    <tr>\n",
       "      <th>H323</th>\n",
       "      <td>1.000000</td>\n",
       "    </tr>\n",
       "    <tr>\n",
       "      <th>APPLE_ICLOUD</th>\n",
       "      <td>0.995050</td>\n",
       "    </tr>\n",
       "    <tr>\n",
       "      <th>SSH</th>\n",
       "      <td>1.000000</td>\n",
       "    </tr>\n",
       "    <tr>\n",
       "      <th>GOOGLE</th>\n",
       "      <td>0.648622</td>\n",
       "    </tr>\n",
       "    <tr>\n",
       "      <th>HTTP_CONNECT</th>\n",
       "      <td>0.650395</td>\n",
       "    </tr>\n",
       "    <tr>\n",
       "      <th>YAHOO</th>\n",
       "      <td>0.955182</td>\n",
       "    </tr>\n",
       "    <tr>\n",
       "      <th>APPLE_ITUNES</th>\n",
       "      <td>0.990109</td>\n",
       "    </tr>\n",
       "    <tr>\n",
       "      <th>YOUTUBE</th>\n",
       "      <td>0.745455</td>\n",
       "    </tr>\n",
       "    <tr>\n",
       "      <th>UBUNTUONE</th>\n",
       "      <td>1.000000</td>\n",
       "    </tr>\n",
       "    <tr>\n",
       "      <th>FACEBOOK</th>\n",
       "      <td>0.960865</td>\n",
       "    </tr>\n",
       "    <tr>\n",
       "      <th>APPLE</th>\n",
       "      <td>0.980652</td>\n",
       "    </tr>\n",
       "    <tr>\n",
       "      <th>NETFLIX</th>\n",
       "      <td>1.000000</td>\n",
       "    </tr>\n",
       "    <tr>\n",
       "      <th>DNS</th>\n",
       "      <td>0.994077</td>\n",
       "    </tr>\n",
       "    <tr>\n",
       "      <th>HTTP_DOWNLOAD</th>\n",
       "      <td>1.000000</td>\n",
       "    </tr>\n",
       "    <tr>\n",
       "      <th>IP_ICMP</th>\n",
       "      <td>1.000000</td>\n",
       "    </tr>\n",
       "    <tr>\n",
       "      <th>CONTENT_FLASH</th>\n",
       "      <td>0.996094</td>\n",
       "    </tr>\n",
       "    <tr>\n",
       "      <th>UPNP</th>\n",
       "      <td>1.000000</td>\n",
       "    </tr>\n",
       "    <tr>\n",
       "      <th>FTP_DATA</th>\n",
       "      <td>1.000000</td>\n",
       "    </tr>\n",
       "    <tr>\n",
       "      <th>GOOGLE_MAPS</th>\n",
       "      <td>0.993076</td>\n",
       "    </tr>\n",
       "    <tr>\n",
       "      <th>TEAMVIEWER</th>\n",
       "      <td>0.999014</td>\n",
       "    </tr>\n",
       "    <tr>\n",
       "      <th>MSN</th>\n",
       "      <td>0.922784</td>\n",
       "    </tr>\n",
       "    <tr>\n",
       "      <th>SSL</th>\n",
       "      <td>0.882562</td>\n",
       "    </tr>\n",
       "    <tr>\n",
       "      <th>RTMP</th>\n",
       "      <td>0.998996</td>\n",
       "    </tr>\n",
       "    <tr>\n",
       "      <th>CITRIX_ONLINE</th>\n",
       "      <td>1.000000</td>\n",
       "    </tr>\n",
       "    <tr>\n",
       "      <th>HTTP</th>\n",
       "      <td>0.826328</td>\n",
       "    </tr>\n",
       "    <tr>\n",
       "      <th>WIKIPEDIA</th>\n",
       "      <td>0.997044</td>\n",
       "    </tr>\n",
       "    <tr>\n",
       "      <th>MS_ONE_DRIVE</th>\n",
       "      <td>0.996868</td>\n",
       "    </tr>\n",
       "    <tr>\n",
       "      <th>OSCAR</th>\n",
       "      <td>1.000000</td>\n",
       "    </tr>\n",
       "    <tr>\n",
       "      <th>DROPBOX</th>\n",
       "      <td>0.991054</td>\n",
       "    </tr>\n",
       "    <tr>\n",
       "      <th>TEAMSPEAK</th>\n",
       "      <td>0.998004</td>\n",
       "    </tr>\n",
       "    <tr>\n",
       "      <th>WINDOWS_UPDATE</th>\n",
       "      <td>0.957557</td>\n",
       "    </tr>\n",
       "    <tr>\n",
       "      <th>WHATSAPP</th>\n",
       "      <td>0.992315</td>\n",
       "    </tr>\n",
       "    <tr>\n",
       "      <th>OFFICE_365</th>\n",
       "      <td>0.990070</td>\n",
       "    </tr>\n",
       "    <tr>\n",
       "      <th>SIMET</th>\n",
       "      <td>1.000000</td>\n",
       "    </tr>\n",
       "    <tr>\n",
       "      <th>EBAY</th>\n",
       "      <td>0.983185</td>\n",
       "    </tr>\n",
       "    <tr>\n",
       "      <th>MSSQL</th>\n",
       "      <td>1.000000</td>\n",
       "    </tr>\n",
       "    <tr>\n",
       "      <th>LASTFM</th>\n",
       "      <td>1.000000</td>\n",
       "    </tr>\n",
       "    <tr>\n",
       "      <th>CLOUDFLARE</th>\n",
       "      <td>0.985844</td>\n",
       "    </tr>\n",
       "    <tr>\n",
       "      <th>NTP</th>\n",
       "      <td>1.000000</td>\n",
       "    </tr>\n",
       "    <tr>\n",
       "      <th>INSTAGRAM</th>\n",
       "      <td>0.996169</td>\n",
       "    </tr>\n",
       "    <tr>\n",
       "      <th>SKYPE</th>\n",
       "      <td>0.884615</td>\n",
       "    </tr>\n",
       "    <tr>\n",
       "      <th>EASYTAXI</th>\n",
       "      <td>0.998986</td>\n",
       "    </tr>\n",
       "    <tr>\n",
       "      <th>TOR</th>\n",
       "      <td>1.000000</td>\n",
       "    </tr>\n",
       "    <tr>\n",
       "      <th>SPOTIFY</th>\n",
       "      <td>0.999007</td>\n",
       "    </tr>\n",
       "    <tr>\n",
       "      <th>IP_OSPF</th>\n",
       "      <td>1.000000</td>\n",
       "    </tr>\n",
       "  </tbody>\n",
       "</table>\n",
       "</div>"
      ],
      "text/plain": [
       "                recall-score\n",
       "MICROSOFT           0.859275\n",
       "EDONKEY             1.000000\n",
       "TWITTER             0.944008\n",
       "GMAIL               0.740807\n",
       "AMAZON              0.969824\n",
       "MQTT                0.997159\n",
       "STARCRAFT           1.000000\n",
       "SSL_NO_CERT         0.990844\n",
       "HTTP_PROXY          0.692845\n",
       "H323                1.000000\n",
       "APPLE_ICLOUD        0.995050\n",
       "SSH                 1.000000\n",
       "GOOGLE              0.648622\n",
       "HTTP_CONNECT        0.650395\n",
       "YAHOO               0.955182\n",
       "APPLE_ITUNES        0.990109\n",
       "YOUTUBE             0.745455\n",
       "UBUNTUONE           1.000000\n",
       "FACEBOOK            0.960865\n",
       "APPLE               0.980652\n",
       "NETFLIX             1.000000\n",
       "DNS                 0.994077\n",
       "HTTP_DOWNLOAD       1.000000\n",
       "IP_ICMP             1.000000\n",
       "CONTENT_FLASH       0.996094\n",
       "UPNP                1.000000\n",
       "FTP_DATA            1.000000\n",
       "GOOGLE_MAPS         0.993076\n",
       "TEAMVIEWER          0.999014\n",
       "MSN                 0.922784\n",
       "SSL                 0.882562\n",
       "RTMP                0.998996\n",
       "CITRIX_ONLINE       1.000000\n",
       "HTTP                0.826328\n",
       "WIKIPEDIA           0.997044\n",
       "MS_ONE_DRIVE        0.996868\n",
       "OSCAR               1.000000\n",
       "DROPBOX             0.991054\n",
       "TEAMSPEAK           0.998004\n",
       "WINDOWS_UPDATE      0.957557\n",
       "WHATSAPP            0.992315\n",
       "OFFICE_365          0.990070\n",
       "SIMET               1.000000\n",
       "EBAY                0.983185\n",
       "MSSQL               1.000000\n",
       "LASTFM              1.000000\n",
       "CLOUDFLARE          0.985844\n",
       "NTP                 1.000000\n",
       "INSTAGRAM           0.996169\n",
       "SKYPE               0.884615\n",
       "EASYTAXI            0.998986\n",
       "TOR                 1.000000\n",
       "SPOTIFY             0.999007\n",
       "IP_OSPF             1.000000"
      ]
     },
     "execution_count": 29,
     "metadata": {},
     "output_type": "execute_result"
    }
   ],
   "source": [
    "print('Recall Scores : ' )\n",
    "pd.DataFrame(recall_score(y_pred,yval,labels=yval.unique(),average = None),columns=['recall-score'],index=yval.unique())"
   ]
  },
  {
   "cell_type": "markdown",
   "metadata": {},
   "source": [
    "#### Confusion Matrix with 10 chosen well-known classes\n",
    "Classes : AMAZON, FACEBOOK, GMAIL, GOOGLE, HTTP, OFFICE_365, SKYPE, TWITTER, WHATSAPP, YOUTUBE"
   ]
  },
  {
   "cell_type": "code",
   "execution_count": 40,
   "metadata": {},
   "outputs": [],
   "source": [
    "from sklearn.metrics import confusion_matrix\n",
    "apps=['AMAZON','FACEBOOK','GMAIL','GOOGLE','HTTP','OFFICE_365','SKYPE','TWITTER','WHATSAPP','YOUTUBE']#reporting for these well-known Apps\n",
    "yval[yval.isin(apps)]\n",
    "cm=confusion_matrix(yval[yval.isin(apps)],y_pred[yval.isin(apps)],labels=yval[yval.isin(apps)].unique())"
   ]
  },
  {
   "cell_type": "code",
   "execution_count": 42,
   "metadata": {},
   "outputs": [],
   "source": [
    "cm_pc=pd.DataFrame((cm.T/np.sum(cm,axis=1)).T,columns=yval[yval.isin(apps)].unique(),index=yval[yval.isin(apps)].unique())\n",
    "cm_pc=cm_pc.replace(np.nan,0)"
   ]
  },
  {
   "cell_type": "code",
   "execution_count": 59,
   "metadata": {},
   "outputs": [
    {
     "data": {
      "image/png": "[encoded data removed]",
      "text/plain": [
       "<Figure size 1080x720 with 2 Axes>"
      ]
     },
     "metadata": {},
     "output_type": "display_data"
    }
   ],
   "source": [
    "import seaborn as sns\n",
    "plt.figure(figsize=(15,10))\n",
    "df_cm=pd.DataFrame(cm,columns=yval[yval.isin(apps)].unique(),index=yval[yval.isin(apps)].unique())\n",
    "sns.set(font_scale=1.1)\n",
    "sns.heatmap(cm_pc, annot=True,fmt='.1%',cmap=sns.color_palette(\"Reds\",150)) # font size\n",
    "plt.show()"
   ]
  },
  {
   "cell_type": "markdown",
   "metadata": {},
   "source": [
    "### SVM"
   ]
  },
  {
   "cell_type": "code",
   "execution_count": 19,
   "metadata": {},
   "outputs": [
    {
     "name": "stdout",
     "output_type": "stream",
     "text": [
      "train-time: 7440.93563246727\n"
     ]
    }
   ],
   "source": [
    "from sklearn.svm import SVC\n",
    "train0=time.time()\n",
    "clf=SVC(random_state=0,kernel='rbf').fit(Xtrain,ytrain)\n",
    "train1=time.time()\n",
    "print('train-time: '+str(train1-train0))"
   ]
  },
  {
   "cell_type": "code",
   "execution_count": 4,
   "metadata": {},
   "outputs": [
    {
     "name": "stdout",
     "output_type": "stream",
     "text": [
      "Train accuracy : 0.32472128667399097\n",
      "Test accuracy : 0.3238837959044\n",
      "test-time: 2132.2163865566254\n"
     ]
    }
   ],
   "source": [
    "print(\"Train accuracy : \"+str(clf.score(Xtrain,ytrain))) #train accuracy\n",
    "test0=time.time()\n",
    "print(\"Test accuracy : \"+str(clf.score(Xval,yval)))# test accuracy\n",
    "test1=time.time()\n",
    "print('test-time: '+str(test1-test0))"
   ]
  },
  {
   "cell_type": "code",
   "execution_count": 5,
   "metadata": {},
   "outputs": [
    {
     "name": "stdout",
     "output_type": "stream",
     "text": [
      "weighted F1 Score : 0.3827319279687075\n",
      "weighted Precision : 0.7580599337575223\n",
      "weighted Recall : 0.3238837959044\n"
     ]
    }
   ],
   "source": [
    "y_pred=clf.predict(Xval)\n",
    "print('weighted F1 Score : ' + str(f1_score(y_pred,yval,average = 'weighted')))\n",
    "print('weighted Precision : ' + str(precision_score(y_pred,yval,average = 'weighted',zero_division=1)))\n",
    "print('weighted Recall : ' + str(recall_score(y_pred,yval,average = 'weighted',zero_division=1)))"
   ]
  },
  {
   "cell_type": "code",
   "execution_count": 21,
   "metadata": {},
   "outputs": [
    {
     "name": "stdout",
     "output_type": "stream",
     "text": [
      "macro F1 Score : 0.3887319279687075\n",
      "macro Precision : 0.5520764880275355\n",
      "macro Recall : 0.3038478219459346\n"
     ]
    }
   ],
   "source": [
    "y_pred=clf.predict(Xval)\n",
    "print('macro F1 Score : ' + str(f1_score(y_pred,yval,average = 'macro')))\n",
    "print('macro Precision : ' + str(precision_score(y_pred,yval,average = 'macro',zero_division=1)))\n",
    "print('macro Recall : ' + str(recall_score(y_pred,yval,average = 'macro',zero_division=1)))"
   ]
  },
  {
   "cell_type": "markdown",
   "metadata": {},
   "source": [
    "## MLP"
   ]
  },
  {
   "cell_type": "code",
   "execution_count": 3,
   "metadata": {},
   "outputs": [],
   "source": [
    "from sklearn.neural_network import MLPClassifier"
   ]
  },
  {
   "cell_type": "code",
   "execution_count": 4,
   "metadata": {},
   "outputs": [],
   "source": [
    "from sklearn.preprocessing import StandardScaler\n",
    "scaler = StandardScaler()\n",
    "Xtrain=scaler.fit_transform(Xtrain)\n",
    "Xval=scaler.transform(Xval)"
   ]
  },
  {
   "cell_type": "code",
   "execution_count": 5,
   "metadata": {},
   "outputs": [
    {
     "name": "stdout",
     "output_type": "stream",
     "text": [
      "train-time: 3564.6160142421722\n"
     ]
    }
   ],
   "source": [
    "train0=time.time()\n",
    "clf = MLPClassifier(hidden_layer_sizes=(100,200,400,50),random_state=0, max_iter=700,learning_rate_init=0.001).fit(Xtrain, ytrain)\n",
    "train1=time.time()\n",
    "print('train-time: '+str(train1-train0))"
   ]
  },
  {
   "cell_type": "code",
   "execution_count": 10,
   "metadata": {},
   "outputs": [
    {
     "name": "stdout",
     "output_type": "stream",
     "text": [
      "Train accuracy : 0.9555679628262161\n",
      "Test accuracy : 0.8928191920465393\n",
      "test-time: 0.6734504699707031\n"
     ]
    }
   ],
   "source": [
    "print(\"Train accuracy : \"+str(clf.score(Xtrain,ytrain))) #train accuracy\n",
    "test0=time.time()\n",
    "print(\"Test accuracy : \"+str(clf.score(Xval,yval)))# test accuracy\n",
    "test1=time.time()\n",
    "print('test-time: '+str(test1-test0))"
   ]
  },
  {
   "cell_type": "code",
   "execution_count": 11,
   "metadata": {},
   "outputs": [
    {
     "name": "stdout",
     "output_type": "stream",
     "text": [
      "weighted F1 Score : 0.8958391043665219\n",
      "weighted Precision : 0.9003738406707964\n",
      "weighted Recall : 0.8928191920465393\n"
     ]
    }
   ],
   "source": [
    "y_pred=clf.predict(Xval)\n",
    "print('weighted F1 Score : ' + str(f1_score(y_pred,yval,average = 'weighted')))\n",
    "print('weighted Precision : ' + str(precision_score(y_pred,yval,average = 'weighted',zero_division=1)))\n",
    "print('weighted Recall : ' + str(recall_score(y_pred,yval,average = 'weighted',zero_division=1)))"
   ]
  },
  {
   "cell_type": "code",
   "execution_count": 17,
   "metadata": {},
   "outputs": [
    {
     "name": "stdout",
     "output_type": "stream",
     "text": [
      "macro F1 Score : 0.8951829416771003\n",
      "macro Precision : 0.9104338166350261\n",
      "macro Recall : 0.8908456722914748\n"
     ]
    }
   ],
   "source": [
    "y_pred=clf.predict(Xval)\n",
    "print('macro F1 Score : ' + str(f1_score(y_pred,yval,average = 'macro')))\n",
    "print('macro Precision : ' + str(precision_score(y_pred,yval,average = 'macro',zero_division=1)))\n",
    "print('macro Recall : ' + str(recall_score(y_pred,yval,average = 'macro',zero_division=1)))"
   ]
  },
  {
   "cell_type": "code",
   "execution_count": null,
   "metadata": {},
   "outputs": [],
   "source": []
  }
 ],
 "metadata": {
  "kernelspec": {
   "display_name": "Python 3",
   "language": "python",
   "name": "python3"
  },
  "language_info": {
   "codemirror_mode": {
    "name": "ipython",
    "version": 3
   },
   "file_extension": ".py",
   "mimetype": "text/x-python",
   "name": "python",
   "nbconvert_exporter": "python",
   "pygments_lexer": "ipython3",
   "version": "3.7.1"
  }
 },
 "nbformat": 4,
 "nbformat_minor": 2
}
